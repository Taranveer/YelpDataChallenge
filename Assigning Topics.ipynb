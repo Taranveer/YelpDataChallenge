{
 "cells": [
  {
   "cell_type": "code",
   "execution_count": 1,
   "metadata": {
    "collapsed": false
   },
   "outputs": [],
   "source": [
    "import pandas as pd\n",
    "import numpy as np\n",
    "import ast\n",
    "import seaborn\n",
    "from collections import Counter\n",
    "import pickle\n",
    "from sklearn.feature_extraction.text import CountVectorizer\n",
    "from nltk.stem import WordNetLemmatizer\n",
    "wordnet_lemmatizer = WordNetLemmatizer()\n",
    "from nltk.stem import SnowballStemmer\n",
    "snowball_stemmer = SnowballStemmer(\"english\")\n",
    "from bs4 import BeautifulSoup\n",
    "import logging, gensim, bz2\n",
    "import os\n",
    "import re\n",
    "from operator import itemgetter"
   ]
  },
  {
   "cell_type": "code",
   "execution_count": 2,
   "metadata": {
    "collapsed": false
   },
   "outputs": [],
   "source": [
    "import json\n",
    "import urlparse\n",
    "from itertools import chain\n",
    "flatten = chain.from_iterable\n",
    "from nltk import word_tokenize"
   ]
  },
  {
   "cell_type": "code",
   "execution_count": 3,
   "metadata": {
    "collapsed": true
   },
   "outputs": [],
   "source": [
    "def load(filename):\n",
    "    file = open(filename,'rb')\n",
    "    obj = pickle.load(file)\n",
    "    file.close()\n",
    "    return obj\n",
    "\n",
    "def dump(obj,filename):\n",
    "    filehandler = open(filename,\"wb\")\n",
    "    pickle.dump(obj,filehandler)\n",
    "    filehandler.close()"
   ]
  },
  {
   "cell_type": "markdown",
   "metadata": {},
   "source": [
    "### Load Pickled Data"
   ]
  },
  {
   "cell_type": "code",
   "execution_count": 4,
   "metadata": {
    "collapsed": false
   },
   "outputs": [],
   "source": [
    "pitt_review = load(\"pitt_review.pkl\")"
   ]
  },
  {
   "cell_type": "code",
   "execution_count": 5,
   "metadata": {
    "collapsed": false
   },
   "outputs": [],
   "source": [
    "corpus = load(\"corpus.pkl\")\n",
    "dictionary = load(\"dictionary.pkl\")"
   ]
  },
  {
   "cell_type": "markdown",
   "metadata": {},
   "source": [
    "### Start LDA`"
   ]
  },
  {
   "cell_type": "code",
   "execution_count": null,
   "metadata": {
    "collapsed": false
   },
   "outputs": [],
   "source": [
    "#ldamodel = gensim.models.ldamodel.LdaModel(corpus, num_topics=50, id2word = dictionary, passes=20)\n",
    "#print(ldamodel.print_topics(topics=50, topn=10))"
   ]
  },
  {
   "cell_type": "code",
   "execution_count": null,
   "metadata": {
    "collapsed": false
   },
   "outputs": [],
   "source": [
    "ldamodel.save(\"lda.model\")"
   ]
  },
  {
   "cell_type": "code",
   "execution_count": 6,
   "metadata": {
    "collapsed": false
   },
   "outputs": [],
   "source": [
    "model =  gensim.models.LdaModel.load('lda.model')"
   ]
  },
  {
   "cell_type": "code",
   "execution_count": 7,
   "metadata": {
    "collapsed": false,
    "scrolled": true
   },
   "outputs": [
    {
     "data": {
      "text/plain": [
       "['0.231*pork + 0.082*pull + 0.059*belli + 0.043*meatbal + 0.023*rotat + 0.022*honey + 0.018*parm + 0.014*southern + 0.014*board + 0.013*casbah + 0.012*brule + 0.011*casa + 0.010*mustard + 0.010*stout + 0.010*salumi + 0.010*alfredo + 0.009*bbq + 0.009*beef + 0.009*adana + 0.008*path + 0.008*pricier + 0.008*wagyu + 0.007*chalk + 0.007*satay + 0.007*micro + 0.007*elbow + 0.007*imo + 0.006*sauc + 0.006*beaten + 0.005*fatti',\n",
       " '0.120*lunch + 0.030*salad + 0.025*sandwich + 0.020*soup + 0.018*quick + 0.017*stop + 0.016*work + 0.015*fresh + 0.015*day + 0.013*chicken + 0.012*today + 0.012*option + 0.011*healthi + 0.011*downtown + 0.010*special + 0.010*worker + 0.009*order + 0.008*look + 0.008*place + 0.008*menu + 0.007*dinner + 0.007*grab + 0.007*side + 0.007*spot + 0.007*cafe + 0.007*fast + 0.007*great + 0.007*wrap + 0.007*co + 0.006*eat',\n",
       " '0.031*food + 0.022*order + 0.021*ask + 0.021*servic + 0.014*never + 0.012*time + 0.012*back + 0.011*manag + 0.011*go + 0.010*said + 0.010*one + 0.010*u + 0.010*waitress + 0.009*server + 0.009*even + 0.009*want + 0.008*would + 0.008*custom + 0.008*bad + 0.008*experi + 0.007*get + 0.006*place + 0.006*came + 0.006*told + 0.006*restaur + 0.006*ever + 0.006*rude + 0.006*could + 0.005*eat + 0.005*terribl',\n",
       " '0.065*thai + 0.044*tea + 0.039*curri + 0.032*spici + 0.031*noodl + 0.021*pad + 0.020*dish + 0.018*order + 0.018*spice + 0.015*chicken + 0.015*pho + 0.014*flavor + 0.014*soup + 0.013*green + 0.013*roll + 0.013*spring + 0.012*level + 0.012*rice + 0.011*good + 0.011*restaur + 0.011*bubbl + 0.009*broth + 0.009*sauc + 0.009*delici + 0.009*tri + 0.008*also + 0.008*ramen + 0.007*basil + 0.007*food + 0.007*bowl',\n",
       " '0.090*buffet + 0.049*indian + 0.034*food + 0.028*chicken + 0.026*wide + 0.023*select + 0.022*dish + 0.015*naan + 0.015*varieti + 0.015*enchilada + 0.014*spice + 0.013*produc + 0.012*west + 0.012*fajita + 0.012*meat + 0.012*verd + 0.011*restaur + 0.011*masala + 0.011*india + 0.010*vegetarian + 0.009*coast + 0.009*east + 0.009*paneer + 0.008*tikka + 0.008*fresh + 0.007*spici + 0.007*frill + 0.006*quantiti + 0.006*tast + 0.006*includ',\n",
       " '0.065*hill + 0.041*penn + 0.037*garden + 0.036*squirrel + 0.031*grit + 0.024*ave + 0.022*avenu + 0.019*boy + 0.018*rais + 0.015*carnivor + 0.014*china + 0.013*test + 0.012*popcorn + 0.012*chalkboard + 0.012*mineo + 0.012*jazz + 0.011*po + 0.011*murray + 0.010*nativ + 0.010*scallion + 0.009*tripl + 0.009*bangkok + 0.009*carnegi + 0.008*amongst + 0.008*fiori + 0.008*grown + 0.007*angel + 0.007*born + 0.007*inclin + 0.007*measur',\n",
       " '0.041*like + 0.020*tast + 0.015*star + 0.015*food + 0.014*place + 0.013*would + 0.013*much + 0.012*better + 0.011*look + 0.011*seem + 0.009*think + 0.008*way + 0.008*feel + 0.008*review + 0.007*could + 0.007*expect + 0.007*one + 0.007*mayb + 0.007*even + 0.007*realli + 0.007*bland + 0.007*bad + 0.007*give + 0.007*restaur + 0.007*thing + 0.007*someth + 0.006*eat + 0.006*noth + 0.006*use + 0.006*qualiti',\n",
       " '0.066*station + 0.037*rock + 0.029*jerk + 0.029*blown + 0.024*away + 0.021*dream + 0.020*gaucho + 0.019*tonight + 0.018*rough + 0.016*indulg + 0.015*soooo + 0.015*fritter + 0.013*reheat + 0.012*caribbean + 0.012*freez + 0.011*construct + 0.011*peruvian + 0.011*michael + 0.010*critic + 0.010*gas + 0.010*hat + 0.010*jamaican + 0.010*tomorrow + 0.009*sweat + 0.008*abay + 0.008*wind + 0.008*vast + 0.008*mama + 0.007*glanc + 0.007*deter',\n",
       " '0.076*good + 0.052*food + 0.031*price + 0.028*place + 0.026*pretti + 0.026*servic + 0.023*realli + 0.020*great + 0.015*nice + 0.014*go + 0.014*get + 0.013*would + 0.013*like + 0.013*littl + 0.011*bit + 0.010*portion + 0.010*decent + 0.009*friend + 0.009*overal + 0.009*definit + 0.009*though + 0.009*special + 0.008*better + 0.008*reason + 0.008*much + 0.008*noth + 0.007*also + 0.007*drink + 0.007*back + 0.007*lot',\n",
       " '0.085*sandwich + 0.079*fri + 0.025*chees + 0.023*bread + 0.015*meat + 0.015*order + 0.013*good + 0.012*steak + 0.012*potato + 0.011*beef + 0.011*slaw + 0.011*primanti + 0.010*french + 0.010*pittsburgh + 0.009*side + 0.008*grill + 0.008*got + 0.007*also + 0.007*coleslaw + 0.007*pickl + 0.006*tomato + 0.006*onion + 0.006*brisket + 0.006*chip + 0.006*top + 0.006*like + 0.006*tri + 0.006*corn + 0.006*cut + 0.005*turkey',\n",
       " '0.062*dessert + 0.057*cream + 0.056*cake + 0.052*chocol + 0.051*ice + 0.023*crab + 0.017*butter + 0.017*cooki + 0.015*cheesecak + 0.013*bread + 0.013*pastri + 0.013*german + 0.011*appl + 0.011*peanut + 0.011*sweet + 0.011*pud + 0.010*strawberri + 0.009*almond + 0.009*whip + 0.009*vanilla + 0.009*banana + 0.008*bakeri + 0.008*pie + 0.008*delici + 0.007*creme + 0.007*fruit + 0.007*caramel + 0.007*sugar + 0.007*ricotta + 0.007*cone',\n",
       " '0.244*beer + 0.118*select + 0.029*great + 0.029*bar + 0.028*draft + 0.026*tap + 0.022*list + 0.022*brew + 0.019*craft + 0.017*bottl + 0.012*local + 0.011*tapa + 0.011*pub + 0.010*menu + 0.009*wine + 0.006*ale + 0.006*bartend + 0.006*ipa + 0.006*head + 0.005*good + 0.005*glass + 0.005*awesom + 0.005*extens + 0.005*offer + 0.005*includ + 0.005*pint + 0.004*huge + 0.004*hous + 0.004*drink + 0.004*hofbrauhaus',\n",
       " '0.100*strip + 0.073*store + 0.052*pretzel + 0.051*shop + 0.042*district + 0.036*milkshak + 0.033*patti + 0.023*buy + 0.021*sell + 0.020*groceri + 0.016*deli + 0.012*biscotti + 0.012*product + 0.011*giant + 0.011*tessaro + 0.011*local + 0.011*john + 0.011*frozen + 0.010*bakeri + 0.010*loaf + 0.010*yard + 0.009*everyday + 0.008*jimmi + 0.008*class + 0.008*organ + 0.008*sale + 0.007*brand + 0.007*pound + 0.006*bread + 0.006*soft',\n",
       " '0.064*breakfast + 0.052*brunch + 0.049*egg + 0.037*coffe + 0.033*pancak + 0.025*toast + 0.022*diner + 0.020*sunday + 0.019*potato + 0.018*bacon + 0.018*crepe + 0.018*morn + 0.017*french + 0.014*sausag + 0.011*wait + 0.010*pamela + 0.010*omelet + 0.009*order + 0.008*delici + 0.008*hash + 0.008*side + 0.008*bagel + 0.008*omelett + 0.007*chees + 0.007*weekend + 0.007*cafe + 0.006*also + 0.006*home + 0.006*ham + 0.005*serv',\n",
       " '0.068*salad + 0.023*pasta + 0.022*sauc + 0.019*chees + 0.018*bread + 0.017*chicken + 0.017*tomato + 0.016*dress + 0.015*order + 0.014*soup + 0.013*green + 0.012*good + 0.012*italian + 0.011*side + 0.011*dish + 0.010*meal + 0.009*pepper + 0.009*came + 0.008*oliv + 0.008*also + 0.008*mushroom + 0.008*fresh + 0.008*red + 0.008*grill + 0.008*lettuc + 0.008*potato + 0.007*serv + 0.007*oil + 0.006*goat + 0.006*onion',\n",
       " '0.013*com + 0.012*legum + 0.011*breweri + 0.011*http + 0.010*kay + 0.009*watch + 0.009*www + 0.008*former + 0.007*mapl + 0.007*recal + 0.007*la + 0.006*root + 0.006*regret + 0.006*yelp + 0.006*lebanon + 0.006*bodi + 0.006*contrast + 0.005*uncl + 0.005*arugula + 0.005*name + 0.005*dust + 0.005*float + 0.005*gourmandin + 0.005*exot + 0.005*latin + 0.005*cube + 0.005*youtub + 0.005*mere + 0.005*yet + 0.005*burst',\n",
       " '0.117*smoke + 0.078*smell + 0.050*fire + 0.035*groupon + 0.027*con + 0.025*pro + 0.023*insan + 0.022*wood + 0.021*rub + 0.019*smoki + 0.016*mr + 0.016*imposs + 0.013*consum + 0.013*smokey + 0.012*lemonad + 0.012*gold + 0.011*drunk + 0.010*burn + 0.009*dairi + 0.009*freezer + 0.009*mass + 0.009*toler + 0.009*win + 0.008*ear + 0.008*spicier + 0.007*health + 0.007*basement + 0.007*kevin + 0.007*row + 0.006*allow',\n",
       " '0.055*mom + 0.036*sister + 0.034*00 + 0.029*fee + 0.019*cider + 0.015*charg + 0.015*secur + 0.014*byob + 0.014*corkag + 0.012*id + 0.011*rain + 0.011*storm + 0.011*freak + 0.010*booz + 0.010*tour + 0.010*casino + 0.009*concert + 0.009*nine + 0.009*outrag + 0.009*bottl + 0.009*ador + 0.009*wed + 0.008*cousin + 0.008*latter + 0.008*cork + 0.008*edg + 0.008*shock + 0.008*juli + 0.008*yuengl + 0.007*bed',\n",
       " '0.036*place + 0.034*get + 0.028*go + 0.021*best + 0.020*pittsburgh + 0.019*one + 0.018*make + 0.016*like + 0.014*know + 0.014*eat + 0.012*want + 0.011*food + 0.011*peopl + 0.010*ever + 0.009*come + 0.009*take + 0.008*good + 0.008*think + 0.008*thing + 0.008*say + 0.007*way + 0.007*citi + 0.007*even + 0.007*everi + 0.006*sure + 0.006*find + 0.006*need + 0.006*right + 0.006*home + 0.005*around',\n",
       " '0.039*leaf + 0.024*tom + 0.024*scale + 0.023*bf + 0.021*nicki + 0.019*smoothi + 0.018*spoon + 0.018*smile + 0.017*banana + 0.016*ball + 0.016*poutin + 0.013*gravi + 0.013*tamari + 0.011*fishi + 0.010*noodlehead + 0.010*wipe + 0.009*boat + 0.009*desir + 0.009*kim + 0.009*drag + 0.008*towel + 0.007*assist + 0.007*curd + 0.007*panang + 0.007*skimpi + 0.007*rainbow + 0.007*chi + 0.007*blew + 0.007*silk + 0.007*coca',\n",
       " '0.120*kid + 0.107*waffl + 0.084*old + 0.047*chicken + 0.044*daughter + 0.022*school + 0.021*fashion + 0.019*superb + 0.019*adult + 0.018*finger + 0.018*year + 0.017*belgian + 0.016*cent + 0.015*meatloaf + 0.014*bewar + 0.012*lick + 0.012*famili + 0.012*wife + 0.011*chile + 0.010*din + 0.009*scoop + 0.008*boneless + 0.008*nicest + 0.006*17 + 0.006*relleno + 0.005*greater + 0.005*timer + 0.005*syrup + 0.005*breast + 0.005*mighti',\n",
       " '0.111*wing + 0.095*chees + 0.073*chicken + 0.065*sauc + 0.045*mac + 0.039*rib + 0.036*bbq + 0.027*order + 0.026*buffalo + 0.022*flavor + 0.020*side + 0.013*ranch + 0.013*dri + 0.011*dip + 0.011*meat + 0.011*spici + 0.010*tender + 0.010*blue + 0.010*short + 0.009*bone + 0.009*grill + 0.008*good + 0.008*also + 0.008*cornbread + 0.007*crispi + 0.007*tri + 0.006*green + 0.006*barbecu + 0.006*prime + 0.006*sam',\n",
       " '0.111*taco + 0.042*chip + 0.038*mexican + 0.035*salsa + 0.030*burrito + 0.026*margarita + 0.018*bean + 0.017*tortilla + 0.016*chicken + 0.015*guacamol + 0.014*mex + 0.013*order + 0.012*chipotl + 0.011*corn + 0.010*flavor + 0.010*fish + 0.010*rice + 0.010*chorizo + 0.009*fresh + 0.009*quesadilla + 0.009*queso + 0.009*guac + 0.009*lime + 0.008*spici + 0.008*authent + 0.008*also + 0.008*cilantro + 0.007*nacho + 0.007*dip + 0.006*good',\n",
       " '0.061*great + 0.058*food + 0.032*servic + 0.028*place + 0.026*friend + 0.021*best + 0.021*delici + 0.021*recommend + 0.019*amaz + 0.019*pittsburgh + 0.017*staff + 0.016*definit + 0.016*excel + 0.016*back + 0.015*love + 0.014*restaur + 0.013*atmospher + 0.012*high + 0.011*go + 0.011*good + 0.010*awesom + 0.009*fantast + 0.009*perfect + 0.009*everyth + 0.009*time + 0.008*ever + 0.008*tri + 0.008*wonder + 0.008*experi + 0.008*well',\n",
       " '0.076*sub + 0.047*kinda + 0.032*gourmet + 0.027*dont + 0.027*par + 0.021*brother + 0.019*crap + 0.018*oh + 0.018*suck + 0.018*sold + 0.017*didnt + 0.015*bc + 0.014*yeah + 0.014*subway + 0.014*moon + 0.014*ya + 0.012*minim + 0.012*god + 0.012*garbag + 0.011*holi + 0.010*seven + 0.009*crusti + 0.009*hell + 0.008*trash + 0.008*jersey + 0.008*salami + 0.008*cheapest + 0.007*ranchero + 0.007*gal + 0.007*mount',\n",
       " '0.043*cocktail + 0.042*vibe + 0.040*ambienc + 0.033*bourbon + 0.030*countri + 0.017*farm + 0.016*killer + 0.015*cool + 0.014*funki + 0.014*sourc + 0.013*local + 0.012*manhattan + 0.012*thanksgiv + 0.012*knock + 0.012*histori + 0.012*memori + 0.012*mule + 0.010*scotch + 0.010*defin + 0.009*visitor + 0.009*vacat + 0.009*superior + 0.009*variat + 0.009*papa + 0.009*classic + 0.008*industri + 0.008*dig + 0.007*grandmoth + 0.007*signatur + 0.007*chutney',\n",
       " '0.032*mt + 0.029*hamburg + 0.026*washington + 0.024*neat + 0.020*view + 0.019*wild + 0.018*carn + 0.018*pit + 0.018*neighbor + 0.015*bay + 0.014*ew + 0.013*smallman + 0.013*asada + 0.012*overr + 0.012*em + 0.012*express + 0.011*da + 0.011*butler + 0.011*enthusiast + 0.010*spoil + 0.009*savor + 0.009*warehous + 0.008*quarter + 0.008*button + 0.008*dave + 0.008*brooklin + 0.007*boar + 0.007*mile + 0.007*yellow + 0.007*dock',\n",
       " '0.055*hotel + 0.046*pierogi + 0.024*cater + 0.023*church + 0.022*stay + 0.017*truck + 0.016*hospit + 0.016*steel + 0.016*polish + 0.012*nasti + 0.011*screw + 0.011*old + 0.010*site + 0.010*room + 0.010*highland + 0.009*center + 0.009*weeknight + 0.008*event + 0.008*region + 0.008*bustl + 0.007*craig + 0.007*partial + 0.007*hall + 0.007*gumbo + 0.007*resid + 0.007*child + 0.007*tremend + 0.006*built + 0.006*rout + 0.006*nevertheless',\n",
       " '0.276*burger + 0.069*fri + 0.027*bacon + 0.023*bun + 0.022*onion + 0.022*top + 0.020*medium + 0.020*order + 0.018*well + 0.018*cook + 0.016*burgatori + 0.014*chees + 0.012*brgr + 0.011*rare + 0.011*side + 0.011*cajun + 0.011*ring + 0.010*tot + 0.009*done + 0.009*dad + 0.009*beef + 0.009*grill + 0.008*meat + 0.008*chip + 0.007*bomb + 0.007*cheeseburg + 0.006*truffl + 0.006*tater + 0.006*cheddar + 0.006*mushroom',\n",
       " '0.022*restaur + 0.022*menu + 0.014*tabl + 0.013*meal + 0.013*dine + 0.012*u + 0.012*one + 0.011*dinner + 0.010*order + 0.010*experi + 0.009*two + 0.009*dish + 0.008*small + 0.008*enjoy + 0.008*would + 0.007*larg + 0.007*plate + 0.007*even + 0.007*reserv + 0.007*group + 0.007*entre + 0.007*server + 0.006*parti + 0.006*room + 0.006*appet + 0.006*made + 0.006*serv + 0.006*well + 0.006*also + 0.005*offer',\n",
       " '0.028*tri + 0.026*time + 0.021*place + 0.021*realli + 0.020*good + 0.020*go + 0.020*like + 0.020*back + 0.017*first + 0.017*got + 0.015*would + 0.012*went + 0.012*review + 0.011*want + 0.011*one + 0.010*look + 0.010*thing + 0.009*say + 0.009*think + 0.008*get + 0.008*love + 0.008*order + 0.008*next + 0.008*sinc + 0.008*give + 0.008*definit + 0.007*know + 0.007*friend + 0.007*someth + 0.007*decid',\n",
       " '0.222*hot + 0.107*dog + 0.049*chili + 0.042*shake + 0.024*pig + 0.021*chicago + 0.020*omg + 0.014*pot + 0.012*texa + 0.012*pittsburg + 0.011*song + 0.010*bench + 0.009*chilli + 0.009*union + 0.009*rack + 0.009*legit + 0.009*9pm + 0.009*bun + 0.008*ive + 0.008*hotdog + 0.007*snap + 0.007*bobbi + 0.006*nation + 0.006*style + 0.006*henc + 0.005*picnic + 0.005*fudg + 0.005*cow + 0.005*holi + 0.005*mustard',\n",
       " '0.019*flight + 0.017*benedict + 0.016*drive + 0.016*man + 0.015*fli + 0.014*counter + 0.014*biscuit + 0.013*behind + 0.012*woman + 0.011*robinson + 0.011*system + 0.010*ride + 0.010*deluca + 0.010*car + 0.010*young + 0.010*text + 0.009*thru + 0.009*soul + 0.009*drove + 0.009*door + 0.009*fave + 0.008*as + 0.008*shoulder + 0.007*bank + 0.007*harri + 0.007*pecan + 0.006*folk + 0.006*crew + 0.006*lamp + 0.006*run',\n",
       " '0.227*pizza + 0.031*crust + 0.031*chees + 0.028*order + 0.022*slice + 0.020*pie + 0.020*top + 0.019*sauc + 0.018*good + 0.018*hoagi + 0.014*pepperoni + 0.012*deliveri + 0.012*oven + 0.009*best + 0.008*italian + 0.008*dough + 0.008*larg + 0.007*great + 0.006*fresh + 0.006*place + 0.006*also + 0.006*deliv + 0.006*tast + 0.005*tri + 0.005*sausag + 0.005*shop + 0.005*like + 0.005*style + 0.004*mushroom + 0.004*calzon',\n",
       " '0.041*wait + 0.030*minut + 0.029*u + 0.028*tabl + 0.027*order + 0.017*seat + 0.016*time + 0.015*get + 0.014*came + 0.012*got + 0.011*took + 0.011*food + 0.010*hour + 0.010*walk + 0.010*long + 0.010*arriv + 0.009*back + 0.009*10 + 0.009*around + 0.009*would + 0.008*30 + 0.008*take + 0.008*even + 0.008*went + 0.008*peopl + 0.007*waitress + 0.007*15 + 0.007*one + 0.007*told + 0.007*drink',\n",
       " '0.046*nice + 0.027*place + 0.025*seat + 0.023*great + 0.023*good + 0.022*outsid + 0.018*insid + 0.018*littl + 0.017*realli + 0.016*tabl + 0.013*coffe + 0.013*area + 0.013*space + 0.013*sit + 0.013*atmospher + 0.012*decor + 0.012*like + 0.012*patio + 0.012*love + 0.012*outdoor + 0.011*look + 0.011*friend + 0.010*food + 0.010*open + 0.010*small + 0.010*cool + 0.009*feel + 0.009*also + 0.009*cute + 0.008*peopl',\n",
       " '0.045*flavor + 0.027*perfect + 0.022*sweet + 0.016*tast + 0.014*sauc + 0.013*well + 0.012*bit + 0.012*delici + 0.011*fresh + 0.010*littl + 0.009*top + 0.009*crispi + 0.009*tri + 0.009*light + 0.009*textur + 0.008*salt + 0.008*made + 0.008*cook + 0.008*bite + 0.007*season + 0.006*right + 0.006*combin + 0.006*tender + 0.006*creami + 0.006*balanc + 0.006*spice + 0.006*like + 0.006*soft + 0.005*could + 0.005*mouth',\n",
       " '0.159*sushi + 0.126*roll + 0.097*fish + 0.039*tuna + 0.033*fresh + 0.026*salmon + 0.019*japanes + 0.017*sashimi + 0.014*hibachi + 0.014*piec + 0.014*spici + 0.013*miso + 0.012*california + 0.011*avocado + 0.010*chef + 0.009*donut + 0.009*cevich + 0.008*rice + 0.008*qualiti + 0.007*raw + 0.007*sake + 0.007*soup + 0.007*seafood + 0.006*bike + 0.006*maki + 0.006*tokyo + 0.005*order + 0.005*eel + 0.005*ginger + 0.005*wasabi',\n",
       " '0.041*cure + 0.040*pgh + 0.024*pa + 0.022*cuban + 0.018*fianc\\xc3\\xa9 + 0.017*spanish + 0.016*attend + 0.016*skeptic + 0.016*complex + 0.015*im + 0.015*buddi + 0.014*birthday + 0.014*colleagu + 0.013*plantain + 0.013*ethiopian + 0.012*de + 0.012*fellow + 0.011*ensur + 0.011*yelper + 0.011*advic + 0.011*substanti + 0.010*tune + 0.010*celebr + 0.010*renov + 0.010*wooden + 0.010*holiday + 0.009*airi + 0.009*cap + 0.009*joy + 0.008*cuisin',\n",
       " '0.049*love + 0.048*alway + 0.028*place + 0.026*get + 0.025*favorit + 0.025*great + 0.022*delici + 0.021*go + 0.021*menu + 0.021*also + 0.019*tri + 0.018*food + 0.017*option + 0.016*time + 0.016*vegetarian + 0.014*never + 0.013*one + 0.013*realli + 0.012*eat + 0.012*good + 0.012*like + 0.012*friend + 0.012*come + 0.011*amaz + 0.010*vegan + 0.010*usual + 0.010*make + 0.009*everi + 0.009*thing + 0.008*veggi',\n",
       " '0.028*steak + 0.027*wine + 0.017*dinner + 0.017*appet + 0.016*dish + 0.015*cook + 0.015*order + 0.014*shrimp + 0.013*entre + 0.013*duck + 0.013*perfect + 0.013*good + 0.012*scallop + 0.011*meal + 0.011*lobster + 0.011*seafood + 0.010*delici + 0.010*night + 0.010*plate + 0.009*well + 0.009*dessert + 0.009*also + 0.009*meat + 0.008*mussel + 0.008*start + 0.008*cours + 0.008*great + 0.008*oyster + 0.008*restaur + 0.007*salmon',\n",
       " '0.145*park + 0.075*street + 0.045*squar + 0.044*across + 0.044*market + 0.027*locat + 0.020*lot + 0.019*pastrami + 0.014*caesar + 0.013*joe + 0.013*right + 0.013*find + 0.012*valet + 0.011*soba + 0.011*walk + 0.011*car + 0.010*easi + 0.008*block + 0.007*sloppi + 0.006*key + 0.006*plum + 0.006*downtown + 0.006*liberti + 0.006*dc + 0.006*regent + 0.005*challeng + 0.005*breez + 0.005*lidia + 0.005*downsid + 0.005*bolognes',\n",
       " '0.068*free + 0.053*call + 0.039*order + 0.031*card + 0.021*phone + 0.019*gluten + 0.019*deliveri + 0.017*cash + 0.017*credit + 0.014*take + 0.014*use + 0.014*onlin + 0.013*owner + 0.012*deliv + 0.010*custom + 0.010*coupon + 0.009*pick + 0.009*gift + 0.009*accept + 0.009*websit + 0.008*guy + 0.008*pay + 0.008*answer + 0.008*offer + 0.008*hour + 0.007*thank + 0.007*number + 0.007*close + 0.006*ahead + 0.006*purchas',\n",
       " '0.061*gyro + 0.056*lamb + 0.052*hummus + 0.052*pita + 0.030*platter + 0.027*greek + 0.024*middl + 0.021*baklava + 0.021*eastern + 0.020*mediterranean + 0.020*meat + 0.020*feta + 0.018*baba + 0.016*wrap + 0.016*spinach + 0.015*ny + 0.015*eleven + 0.015*leaf + 0.013*istanbul + 0.011*owner + 0.010*cant + 0.010*grill + 0.010*eagl + 0.009*western + 0.008*dip + 0.008*lunchtim + 0.008*energi + 0.007*hockey + 0.007*naya + 0.007*aladdin',\n",
       " '0.055*new + 0.035*sangria + 0.028*octopus + 0.025*south + 0.025*york + 0.024*river + 0.022*san + 0.020*pitcher + 0.019*bloomfield + 0.018*empanada + 0.017*stumbl + 0.016*expand + 0.015*upon + 0.015*lasagna + 0.014*cultur + 0.013*mid + 0.011*mike + 0.011*itali + 0.011*dan + 0.011*midnight + 0.010*side + 0.010*il + 0.010*festiv + 0.010*entertain + 0.009*francisco + 0.009*urban + 0.008*rabbit + 0.008*expos + 0.008*bear + 0.008*obnoxi',\n",
       " '0.058*airport + 0.047*son + 0.046*turkish + 0.041*famili + 0.037*danc + 0.034*own + 0.031*kebab + 0.026*fianc + 0.022*island + 0.019*mi + 0.018*sofra + 0.017*pleasur + 0.016*wet + 0.012*everybodi + 0.012*innov + 0.012*refund + 0.012*tie + 0.011*bucket + 0.011*banh + 0.010*us + 0.010*premium + 0.010*standout + 0.009*support + 0.008*repres + 0.008*guid + 0.007*novelti + 0.006*exagger + 0.006*toddler + 0.006*player + 0.006*bahn',\n",
       " '0.084*bar + 0.052*drink + 0.032*night + 0.020*bartend + 0.017*game + 0.014*music + 0.012*friend + 0.012*hour + 0.011*cocktail + 0.011*place + 0.010*crowd + 0.010*happi + 0.010*fun + 0.010*watch + 0.009*great + 0.008*play + 0.007*tv + 0.007*loud + 0.006*area + 0.006*upstair + 0.006*late + 0.006*even + 0.006*sit + 0.005*peopl + 0.005*atmospher + 0.005*friday + 0.005*floor + 0.005*sport + 0.005*one + 0.005*room',\n",
       " '0.041*time + 0.035*locat + 0.023*restaur + 0.023*year + 0.022*food + 0.021*alway + 0.019*visit + 0.017*one + 0.015*pittsburgh + 0.012*last + 0.012*mani + 0.011*sinc + 0.010*area + 0.009*servic + 0.009*never + 0.009*qualiti + 0.008*new + 0.008*consist + 0.008*use + 0.008*usual + 0.008*live + 0.008*busi + 0.008*still + 0.008*recent + 0.008*ago + 0.007*chang + 0.007*sever + 0.007*everi + 0.007*open + 0.007*chain',\n",
       " '0.040*chicken + 0.030*rice + 0.030*dish + 0.029*chines + 0.023*order + 0.022*fri + 0.022*food + 0.020*sauc + 0.018*soup + 0.015*tofu + 0.015*shrimp + 0.013*noodl + 0.013*beef + 0.013*restaur + 0.011*dumpl + 0.010*asian + 0.010*veget + 0.010*good + 0.010*egg + 0.009*pork + 0.009*hot + 0.009*general + 0.008*spici + 0.008*also + 0.007*authent + 0.007*menu + 0.007*american + 0.007*tast + 0.007*like + 0.007*flavor',\n",
       " '0.029*mother + 0.021*sun + 0.020*christma + 0.019*wear + 0.017*samosa + 0.017*bob + 0.017*drunken + 0.016*nicer + 0.016*dress + 0.016*shirt + 0.016*attract + 0.015*liver + 0.014*pan + 0.013*iron + 0.013*hub + 0.012*eve + 0.011*jean + 0.011*parent + 0.010*dare + 0.010*central + 0.010*score + 0.010*rank + 0.010*endless + 0.009*paella + 0.009*categori + 0.009*denni + 0.009*capit + 0.009*sink + 0.008*suit + 0.008*sugari']"
      ]
     },
     "execution_count": 7,
     "metadata": {},
     "output_type": "execute_result"
    }
   ],
   "source": [
    "model.print_topics(50,topn=30)"
   ]
  },
  {
   "cell_type": "markdown",
   "metadata": {},
   "source": [
    "### Assigning topics to reviews"
   ]
  },
  {
   "cell_type": "code",
   "execution_count": 77,
   "metadata": {
    "collapsed": false
   },
   "outputs": [],
   "source": [
    "topic_dict = []\n",
    "for name in os.listdir(\"WordCloudLabels\"):\n",
    "    topic = name\n",
    "    for filename in os.listdir(\"WordCloudLabels/\" + name):\n",
    "        topic_id = int(re.search(r'\\d+', filename).group())\n",
    "        sub_topic_re = re.search(r'_\\w+', filename)\n",
    "        if sub_topic_re:\n",
    "             sub_topic = sub_topic_re.group()[1:]\n",
    "        else:\n",
    "            sub_topic=''\n",
    "        topic_dict.append([topic_id, topic, sub_topic])\n",
    "    \n",
    "topic_dict = pd.DataFrame(topic_dict, columns=['Topic_ID', 'Topic', 'Sub_Topic'])        "
   ]
  },
  {
   "cell_type": "code",
   "execution_count": 78,
   "metadata": {
    "collapsed": false
   },
   "outputs": [],
   "source": [
    "topic_dict = topic_dict.set_index('Topic_ID').to_dict()"
   ]
  },
  {
   "cell_type": "code",
   "execution_count": 79,
   "metadata": {
    "collapsed": false
   },
   "outputs": [
    {
     "data": {
      "text/plain": [
       "'lunch_work_service'"
      ]
     },
     "execution_count": 79,
     "metadata": {},
     "output_type": "execute_result"
    }
   ],
   "source": [
    "topic_dict['Sub_Topic'][1]"
   ]
  },
  {
   "cell_type": "code",
   "execution_count": 109,
   "metadata": {
    "collapsed": false
   },
   "outputs": [],
   "source": [
    "Topic_list = []\n",
    "for corp in corpus:\n",
    "    _srtd = sorted(model[corp], key=itemgetter(1), reverse=1)\n",
    "    top, score = _srtd[0]\n",
    "    top_name = topic_dict['Topic'][top] \n",
    "    top_level2 = topic_dict['Sub_Topic'][top]\n",
    "    all_ID = [tup[0] for tup in _srtd]\n",
    "    all_name = [topic_dict['Topic'][id] for id in All_ID]\n",
    "    all_level2 = [topic_dict['Sub_Topic'][id] for id in All_ID]\n",
    "    top_topic_words = [tup[1] for tup in term_list[top]]\n",
    "    Topic_list.append([top, top_name, top_level2, score, all_ID, all_name, all_level2, _srtd, top_topic_words])"
   ]
  },
  {
   "cell_type": "code",
   "execution_count": 110,
   "metadata": {
    "collapsed": false
   },
   "outputs": [],
   "source": [
    "Topic_list =  pd.DataFrame(Topic_list, columns=['Top_ID', 'Top_name', 'Top_level2', \n",
    "                                                'Score_top', 'All_ID', 'All_name',\n",
    "                                                'All_level2', 'All_score', 'Top_Topic_Words'])"
   ]
  },
  {
   "cell_type": "code",
   "execution_count": 113,
   "metadata": {
    "collapsed": false
   },
   "outputs": [
    {
     "data": {
      "text/plain": [
       "Index([u'funny', u'user_id', u'review_id', u'text', u'business_id', u'stars_x',\n",
       "       u'date', u'useful', u'type_x', u'cool', u'neighborhood', u'hours',\n",
       "       u'is_open', u'address', u'attributes', u'categories', u'city',\n",
       "       u'review_count', u'name', u'longitude', u'state', u'stars_y',\n",
       "       u'latitude', u'postal_code', u'type_y', u'Restaurant', u'clean_text'],\n",
       "      dtype='object')"
      ]
     },
     "execution_count": 113,
     "metadata": {},
     "output_type": "execute_result"
    }
   ],
   "source": [
    "pitt_review.columns"
   ]
  },
  {
   "cell_type": "code",
   "execution_count": 125,
   "metadata": {
    "collapsed": false
   },
   "outputs": [],
   "source": [
    "reviews = pitt_review[['user_id', 'review_id', 'text', 'name', 'attributes', 'categories']].reset_index()"
   ]
  },
  {
   "cell_type": "code",
   "execution_count": 129,
   "metadata": {
    "collapsed": false
   },
   "outputs": [],
   "source": [
    "reviews_labeled = pd.concat([reviews, Topic_list], axis=1)"
   ]
  },
  {
   "cell_type": "code",
   "execution_count": 130,
   "metadata": {
    "collapsed": false
   },
   "outputs": [],
   "source": [
    "reviews_labeled.to_csv('reviews_with_topics.csv')"
   ]
  },
  {
   "cell_type": "code",
   "execution_count": 131,
   "metadata": {
    "collapsed": true
   },
   "outputs": [],
   "source": [
    "reviews_labeled.to_pickle('reviews_with_topics.pkl')"
   ]
  }
 ],
 "metadata": {
  "anaconda-cloud": {},
  "kernelspec": {
   "display_name": "Python [conda env:py27]",
   "language": "python",
   "name": "conda-env-py27-py"
  },
  "language_info": {
   "codemirror_mode": {
    "name": "ipython",
    "version": 2
   },
   "file_extension": ".py",
   "mimetype": "text/x-python",
   "name": "python",
   "nbconvert_exporter": "python",
   "pygments_lexer": "ipython2",
   "version": "2.7.13"
  }
 },
 "nbformat": 4,
 "nbformat_minor": 0
}
