{
 "cells": [
  {
   "cell_type": "code",
   "execution_count": 2,
   "metadata": {
    "collapsed": true
   },
   "outputs": [],
   "source": [
    "import pandas as pd\n",
    "import numpy as np\n",
    "import ast\n",
    "import seaborn\n",
    "from collections import Counter\n",
    "import pickle\n",
    "from sklearn.feature_extraction.text import CountVectorizer\n",
    "from nltk.stem import WordNetLemmatizer\n",
    "wordnet_lemmatizer = WordNetLemmatizer()\n",
    "from nltk.stem import SnowballStemmer\n",
    "snowball_stemmer = SnowballStemmer(\"english\")\n",
    "from bs4 import BeautifulSoup\n",
    "import logging, gensim, bz2"
   ]
  },
  {
   "cell_type": "code",
   "execution_count": 3,
   "metadata": {
    "collapsed": true
   },
   "outputs": [],
   "source": [
    "def load(filename):\n",
    "    file = open(filename,'rb')\n",
    "    obj = pickle.load(file)\n",
    "    file.close()\n",
    "    return obj\n",
    "\n",
    "def dump(obj,filename):\n",
    "    filehandler = open(filename,\"wb\")\n",
    "    pickle.dump(obj,filehandler)\n",
    "    filehandler.close()"
   ]
  },
  {
   "cell_type": "markdown",
   "metadata": {},
   "source": [
    "### Reading_Data"
   ]
  },
  {
   "cell_type": "code",
   "execution_count": 22,
   "metadata": {
    "collapsed": true
   },
   "outputs": [],
   "source": [
    "review_data = pd.read_csv(\"../data/yelp_academic_dataset_review.csv\")"
   ]
  },
  {
   "cell_type": "code",
   "execution_count": 23,
   "metadata": {},
   "outputs": [
    {
     "data": {
      "text/html": [
       "<div>\n",
       "<table border=\"1\" class=\"dataframe\">\n",
       "  <thead>\n",
       "    <tr style=\"text-align: right;\">\n",
       "      <th></th>\n",
       "      <th>funny</th>\n",
       "      <th>user_id</th>\n",
       "      <th>review_id</th>\n",
       "      <th>text</th>\n",
       "      <th>business_id</th>\n",
       "      <th>stars</th>\n",
       "      <th>date</th>\n",
       "      <th>useful</th>\n",
       "      <th>type</th>\n",
       "      <th>cool</th>\n",
       "    </tr>\n",
       "  </thead>\n",
       "  <tbody>\n",
       "    <tr>\n",
       "      <th>0</th>\n",
       "      <td>0</td>\n",
       "      <td>KpkOkG6RIf4Ra25Lhhxf1A</td>\n",
       "      <td>NxL8SIC5yqOdnlXCg18IBg</td>\n",
       "      <td>If you enjoy service by someone who is as comp...</td>\n",
       "      <td>2aFiy99vNLklCx3T_tGS9A</td>\n",
       "      <td>5</td>\n",
       "      <td>2011-10-10</td>\n",
       "      <td>0</td>\n",
       "      <td>review</td>\n",
       "      <td>0</td>\n",
       "    </tr>\n",
       "    <tr>\n",
       "      <th>1</th>\n",
       "      <td>0</td>\n",
       "      <td>bQ7fQq1otn9hKX-gXRsrgA</td>\n",
       "      <td>pXbbIgOXvLuTi_SPs1hQEQ</td>\n",
       "      <td>After being on the phone with Verizon Wireless...</td>\n",
       "      <td>2aFiy99vNLklCx3T_tGS9A</td>\n",
       "      <td>5</td>\n",
       "      <td>2010-12-29</td>\n",
       "      <td>1</td>\n",
       "      <td>review</td>\n",
       "      <td>0</td>\n",
       "    </tr>\n",
       "    <tr>\n",
       "      <th>2</th>\n",
       "      <td>0</td>\n",
       "      <td>r1NUhdNmL6yU9Bn-Yx6FTw</td>\n",
       "      <td>wslW2Lu4NYylb1jEapAGsw</td>\n",
       "      <td>Great service! Corey is very service oriented....</td>\n",
       "      <td>2aFiy99vNLklCx3T_tGS9A</td>\n",
       "      <td>5</td>\n",
       "      <td>2011-04-29</td>\n",
       "      <td>0</td>\n",
       "      <td>review</td>\n",
       "      <td>0</td>\n",
       "    </tr>\n",
       "    <tr>\n",
       "      <th>3</th>\n",
       "      <td>0</td>\n",
       "      <td>aW3ix1KNZAvoM8q-WghA3Q</td>\n",
       "      <td>GP6YEearUWrzPtQYSF1vVg</td>\n",
       "      <td>Highly recommended. Went in yesterday looking ...</td>\n",
       "      <td>2LfIuF3_sX6uwe-IR-P0jQ</td>\n",
       "      <td>5</td>\n",
       "      <td>2014-07-14</td>\n",
       "      <td>0</td>\n",
       "      <td>review</td>\n",
       "      <td>1</td>\n",
       "    </tr>\n",
       "    <tr>\n",
       "      <th>4</th>\n",
       "      <td>0</td>\n",
       "      <td>YOo-Cip8HqvKp_p9nEGphw</td>\n",
       "      <td>25RlYGq2s5qShi-pn3ufVA</td>\n",
       "      <td>I walked in here looking for a specific piece ...</td>\n",
       "      <td>2LfIuF3_sX6uwe-IR-P0jQ</td>\n",
       "      <td>4</td>\n",
       "      <td>2014-01-15</td>\n",
       "      <td>0</td>\n",
       "      <td>review</td>\n",
       "      <td>0</td>\n",
       "    </tr>\n",
       "  </tbody>\n",
       "</table>\n",
       "</div>"
      ],
      "text/plain": [
       "   funny                 user_id               review_id  \\\n",
       "0      0  KpkOkG6RIf4Ra25Lhhxf1A  NxL8SIC5yqOdnlXCg18IBg   \n",
       "1      0  bQ7fQq1otn9hKX-gXRsrgA  pXbbIgOXvLuTi_SPs1hQEQ   \n",
       "2      0  r1NUhdNmL6yU9Bn-Yx6FTw  wslW2Lu4NYylb1jEapAGsw   \n",
       "3      0  aW3ix1KNZAvoM8q-WghA3Q  GP6YEearUWrzPtQYSF1vVg   \n",
       "4      0  YOo-Cip8HqvKp_p9nEGphw  25RlYGq2s5qShi-pn3ufVA   \n",
       "\n",
       "                                                text             business_id  \\\n",
       "0  If you enjoy service by someone who is as comp...  2aFiy99vNLklCx3T_tGS9A   \n",
       "1  After being on the phone with Verizon Wireless...  2aFiy99vNLklCx3T_tGS9A   \n",
       "2  Great service! Corey is very service oriented....  2aFiy99vNLklCx3T_tGS9A   \n",
       "3  Highly recommended. Went in yesterday looking ...  2LfIuF3_sX6uwe-IR-P0jQ   \n",
       "4  I walked in here looking for a specific piece ...  2LfIuF3_sX6uwe-IR-P0jQ   \n",
       "\n",
       "   stars        date  useful    type  cool  \n",
       "0      5  2011-10-10       0  review     0  \n",
       "1      5  2010-12-29       1  review     0  \n",
       "2      5  2011-04-29       0  review     0  \n",
       "3      5  2014-07-14       0  review     1  \n",
       "4      4  2014-01-15       0  review     0  "
      ]
     },
     "execution_count": 23,
     "metadata": {},
     "output_type": "execute_result"
    }
   ],
   "source": [
    "review_data.head(n=5)"
   ]
  },
  {
   "cell_type": "code",
   "execution_count": 24,
   "metadata": {
    "collapsed": true
   },
   "outputs": [],
   "source": [
    "business_data = pd.read_csv(\"../data/yelp_academic_dataset_business.csv\") "
   ]
  },
  {
   "cell_type": "code",
   "execution_count": 25,
   "metadata": {},
   "outputs": [
    {
     "data": {
      "text/plain": [
       "(144072, 16)"
      ]
     },
     "execution_count": 25,
     "metadata": {},
     "output_type": "execute_result"
    }
   ],
   "source": [
    "business_data.shape"
   ]
  },
  {
   "cell_type": "code",
   "execution_count": 26,
   "metadata": {
    "scrolled": true
   },
   "outputs": [
    {
     "data": {
      "text/html": [
       "<div>\n",
       "<table border=\"1\" class=\"dataframe\">\n",
       "  <thead>\n",
       "    <tr style=\"text-align: right;\">\n",
       "      <th></th>\n",
       "      <th>neighborhood</th>\n",
       "      <th>business_id</th>\n",
       "      <th>hours</th>\n",
       "      <th>is_open</th>\n",
       "      <th>address</th>\n",
       "      <th>attributes</th>\n",
       "      <th>categories</th>\n",
       "      <th>city</th>\n",
       "      <th>review_count</th>\n",
       "      <th>name</th>\n",
       "      <th>longitude</th>\n",
       "      <th>state</th>\n",
       "      <th>stars</th>\n",
       "      <th>latitude</th>\n",
       "      <th>postal_code</th>\n",
       "      <th>type</th>\n",
       "    </tr>\n",
       "  </thead>\n",
       "  <tbody>\n",
       "    <tr>\n",
       "      <th>0</th>\n",
       "      <td>NaN</td>\n",
       "      <td>0DI8Dt2PJp07XkVvIElIcQ</td>\n",
       "      <td>['Monday 11:0-21:0', 'Tuesday 11:0-21:0', 'Wed...</td>\n",
       "      <td>0</td>\n",
       "      <td>227 E Baseline Rd, Ste J2</td>\n",
       "      <td>['BikeParking: True', 'BusinessAcceptsBitcoin:...</td>\n",
       "      <td>['Tobacco Shops', 'Nightlife', 'Vape Shops', '...</td>\n",
       "      <td>Tempe</td>\n",
       "      <td>17</td>\n",
       "      <td>Innovative Vapors</td>\n",
       "      <td>-111.936102</td>\n",
       "      <td>AZ</td>\n",
       "      <td>4.5</td>\n",
       "      <td>33.378214</td>\n",
       "      <td>85283</td>\n",
       "      <td>business</td>\n",
       "    </tr>\n",
       "    <tr>\n",
       "      <th>1</th>\n",
       "      <td>NaN</td>\n",
       "      <td>LTlCaCGZE14GuaUXUGbamg</td>\n",
       "      <td>['Monday 0:0-0:0', 'Tuesday 0:0-0:0', 'Wednesd...</td>\n",
       "      <td>1</td>\n",
       "      <td>495 S Grand Central Pkwy</td>\n",
       "      <td>['BusinessAcceptsBitcoin: False', 'BusinessAcc...</td>\n",
       "      <td>['Caterers', 'Grocery', 'Food', 'Event Plannin...</td>\n",
       "      <td>Las Vegas</td>\n",
       "      <td>9</td>\n",
       "      <td>Cut and Taste</td>\n",
       "      <td>-115.159272</td>\n",
       "      <td>NV</td>\n",
       "      <td>5.0</td>\n",
       "      <td>36.192284</td>\n",
       "      <td>89106</td>\n",
       "      <td>business</td>\n",
       "    </tr>\n",
       "    <tr>\n",
       "      <th>2</th>\n",
       "      <td>Dufferin Grove</td>\n",
       "      <td>EDqCEAGXVGCH4FJXgqtjqg</td>\n",
       "      <td>['Monday 11:0-2:0', 'Tuesday 11:0-2:0', 'Wedne...</td>\n",
       "      <td>1</td>\n",
       "      <td>979 Bloor Street W</td>\n",
       "      <td>['Alcohol: none', \"Ambience: {'romantic': Fals...</td>\n",
       "      <td>['Restaurants', 'Pizza', 'Chicken Wings', 'Ita...</td>\n",
       "      <td>Toronto</td>\n",
       "      <td>7</td>\n",
       "      <td>Pizza Pizza</td>\n",
       "      <td>-79.429089</td>\n",
       "      <td>ON</td>\n",
       "      <td>2.5</td>\n",
       "      <td>43.661054</td>\n",
       "      <td>M6H 1L5</td>\n",
       "      <td>business</td>\n",
       "    </tr>\n",
       "    <tr>\n",
       "      <th>3</th>\n",
       "      <td>NaN</td>\n",
       "      <td>cnGIivYRLxpF7tBVR_JwWA</td>\n",
       "      <td>['Tuesday 10:0-21:0', 'Wednesday 10:0-21:0', '...</td>\n",
       "      <td>1</td>\n",
       "      <td>7014 Steubenville Pike</td>\n",
       "      <td>['AcceptsInsurance: False', 'BusinessAcceptsCr...</td>\n",
       "      <td>['Hair Removal', 'Beauty &amp; Spas', 'Blow Dry/Ou...</td>\n",
       "      <td>Oakdale</td>\n",
       "      <td>4</td>\n",
       "      <td>Plush Salon and Spa</td>\n",
       "      <td>-80.174540</td>\n",
       "      <td>PA</td>\n",
       "      <td>4.0</td>\n",
       "      <td>40.444544</td>\n",
       "      <td>15071</td>\n",
       "      <td>business</td>\n",
       "    </tr>\n",
       "    <tr>\n",
       "      <th>4</th>\n",
       "      <td>Downtown Core</td>\n",
       "      <td>cdk-qqJ71q6P7TJTww_DSA</td>\n",
       "      <td>NaN</td>\n",
       "      <td>1</td>\n",
       "      <td>321 Jarvis Street</td>\n",
       "      <td>['BusinessAcceptsCreditCards: True', 'Restaura...</td>\n",
       "      <td>['Hotels &amp; Travel', 'Event Planning &amp; Services...</td>\n",
       "      <td>Toronto</td>\n",
       "      <td>8</td>\n",
       "      <td>Comfort Inn</td>\n",
       "      <td>-79.375401</td>\n",
       "      <td>ON</td>\n",
       "      <td>3.0</td>\n",
       "      <td>43.659829</td>\n",
       "      <td>M5B 2C2</td>\n",
       "      <td>business</td>\n",
       "    </tr>\n",
       "  </tbody>\n",
       "</table>\n",
       "</div>"
      ],
      "text/plain": [
       "     neighborhood             business_id  \\\n",
       "0             NaN  0DI8Dt2PJp07XkVvIElIcQ   \n",
       "1             NaN  LTlCaCGZE14GuaUXUGbamg   \n",
       "2  Dufferin Grove  EDqCEAGXVGCH4FJXgqtjqg   \n",
       "3             NaN  cnGIivYRLxpF7tBVR_JwWA   \n",
       "4   Downtown Core  cdk-qqJ71q6P7TJTww_DSA   \n",
       "\n",
       "                                               hours  is_open  \\\n",
       "0  ['Monday 11:0-21:0', 'Tuesday 11:0-21:0', 'Wed...        0   \n",
       "1  ['Monday 0:0-0:0', 'Tuesday 0:0-0:0', 'Wednesd...        1   \n",
       "2  ['Monday 11:0-2:0', 'Tuesday 11:0-2:0', 'Wedne...        1   \n",
       "3  ['Tuesday 10:0-21:0', 'Wednesday 10:0-21:0', '...        1   \n",
       "4                                                NaN        1   \n",
       "\n",
       "                     address  \\\n",
       "0  227 E Baseline Rd, Ste J2   \n",
       "1   495 S Grand Central Pkwy   \n",
       "2         979 Bloor Street W   \n",
       "3     7014 Steubenville Pike   \n",
       "4          321 Jarvis Street   \n",
       "\n",
       "                                          attributes  \\\n",
       "0  ['BikeParking: True', 'BusinessAcceptsBitcoin:...   \n",
       "1  ['BusinessAcceptsBitcoin: False', 'BusinessAcc...   \n",
       "2  ['Alcohol: none', \"Ambience: {'romantic': Fals...   \n",
       "3  ['AcceptsInsurance: False', 'BusinessAcceptsCr...   \n",
       "4  ['BusinessAcceptsCreditCards: True', 'Restaura...   \n",
       "\n",
       "                                          categories       city  review_count  \\\n",
       "0  ['Tobacco Shops', 'Nightlife', 'Vape Shops', '...      Tempe            17   \n",
       "1  ['Caterers', 'Grocery', 'Food', 'Event Plannin...  Las Vegas             9   \n",
       "2  ['Restaurants', 'Pizza', 'Chicken Wings', 'Ita...    Toronto             7   \n",
       "3  ['Hair Removal', 'Beauty & Spas', 'Blow Dry/Ou...    Oakdale             4   \n",
       "4  ['Hotels & Travel', 'Event Planning & Services...    Toronto             8   \n",
       "\n",
       "                  name   longitude state  stars   latitude postal_code  \\\n",
       "0    Innovative Vapors -111.936102    AZ    4.5  33.378214       85283   \n",
       "1        Cut and Taste -115.159272    NV    5.0  36.192284       89106   \n",
       "2          Pizza Pizza  -79.429089    ON    2.5  43.661054     M6H 1L5   \n",
       "3  Plush Salon and Spa  -80.174540    PA    4.0  40.444544       15071   \n",
       "4          Comfort Inn  -79.375401    ON    3.0  43.659829     M5B 2C2   \n",
       "\n",
       "       type  \n",
       "0  business  \n",
       "1  business  \n",
       "2  business  \n",
       "3  business  \n",
       "4  business  "
      ]
     },
     "execution_count": 26,
     "metadata": {},
     "output_type": "execute_result"
    }
   ],
   "source": [
    "business_data.head(n=5)"
   ]
  },
  {
   "cell_type": "markdown",
   "metadata": {},
   "source": [
    "### Getting Review Data for only Restaurants (Pittsburgh)"
   ]
  },
  {
   "cell_type": "code",
   "execution_count": 27,
   "metadata": {
    "collapsed": true
   },
   "outputs": [],
   "source": [
    "business_data = business_data.loc[business_data[\"categories\"].notnull(),:]"
   ]
  },
  {
   "cell_type": "code",
   "execution_count": 28,
   "metadata": {
    "collapsed": true
   },
   "outputs": [],
   "source": [
    "def convert_list(x):\n",
    "    return ast.literal_eval(x)\n",
    "business_data[\"categories\"] = map(convert_list,business_data[\"categories\"])"
   ]
  },
  {
   "cell_type": "code",
   "execution_count": 19,
   "metadata": {
    "collapsed": true
   },
   "outputs": [],
   "source": [
    "category_labels = []\n",
    "for categories in business_data[\"categories\"]:\n",
    "    category_labels += categories\n"
   ]
  },
  {
   "cell_type": "code",
   "execution_count": 30,
   "metadata": {
    "collapsed": true
   },
   "outputs": [],
   "source": [
    "category_dict = Counter(category_labels)\n",
    "#categorstaurants"
   ]
  },
  {
   "cell_type": "code",
   "execution_count": 31,
   "metadata": {},
   "outputs": [
    {
     "data": {
      "text/plain": [
       "0.33729399570077984"
      ]
     },
     "execution_count": 31,
     "metadata": {},
     "output_type": "execute_result"
    }
   ],
   "source": [
    "Restaurant = [1 if \"Restaurants\" in categories else 0 for categories in business_data[\"categories\"]]\n",
    "business_data[\"Restaurant\"] = Restaurant\n",
    "np.sum(Restaurant)\n",
    "float(np.sum(Restaurant))/business_data.shape[0]"
   ]
  },
  {
   "cell_type": "code",
   "execution_count": 32,
   "metadata": {
    "collapsed": true
   },
   "outputs": [],
   "source": [
    "restaurant_data = business_data.loc[business_data[\"Restaurant\"]==1,:]\n",
    "restaurant_review = pd.merge(review_data,restaurant_data,on=\"business_id\")"
   ]
  },
  {
   "cell_type": "code",
   "execution_count": 34,
   "metadata": {
    "collapsed": true
   },
   "outputs": [],
   "source": [
    "dump(restaurant_review,\"../Pickled_files/restaurant_review.pkl\")"
   ]
  },
  {
   "cell_type": "markdown",
   "metadata": {},
   "source": [
    "### Load Data Start from here"
   ]
  },
  {
   "cell_type": "code",
   "execution_count": 4,
   "metadata": {
    "collapsed": true
   },
   "outputs": [],
   "source": [
    "restaurant_review = load(\"../Pickled_files/restaurant_review.pkl\")\n"
   ]
  },
  {
   "cell_type": "code",
   "execution_count": 5,
   "metadata": {},
   "outputs": [
    {
     "data": {
      "text/html": [
       "<div>\n",
       "<table border=\"1\" class=\"dataframe\">\n",
       "  <thead>\n",
       "    <tr style=\"text-align: right;\">\n",
       "      <th></th>\n",
       "      <th>funny</th>\n",
       "      <th>user_id</th>\n",
       "      <th>review_id</th>\n",
       "      <th>text</th>\n",
       "      <th>business_id</th>\n",
       "      <th>stars_x</th>\n",
       "      <th>date</th>\n",
       "      <th>useful</th>\n",
       "      <th>type_x</th>\n",
       "      <th>cool</th>\n",
       "      <th>...</th>\n",
       "      <th>city</th>\n",
       "      <th>review_count</th>\n",
       "      <th>name</th>\n",
       "      <th>longitude</th>\n",
       "      <th>state</th>\n",
       "      <th>stars_y</th>\n",
       "      <th>latitude</th>\n",
       "      <th>postal_code</th>\n",
       "      <th>type_y</th>\n",
       "      <th>Restaurant</th>\n",
       "    </tr>\n",
       "  </thead>\n",
       "  <tbody>\n",
       "    <tr>\n",
       "      <th>0</th>\n",
       "      <td>0</td>\n",
       "      <td>PmgqNO0-5Y3e3UoR61TD7w</td>\n",
       "      <td>6-hKBi-6RC3g7Mft0c-6qw</td>\n",
       "      <td>This place is a area staple! Been around for y...</td>\n",
       "      <td>4P-vTvE6cncJyUyLh73pxw</td>\n",
       "      <td>4</td>\n",
       "      <td>2014-03-29</td>\n",
       "      <td>0</td>\n",
       "      <td>review</td>\n",
       "      <td>0</td>\n",
       "      <td>...</td>\n",
       "      <td>Brecksville</td>\n",
       "      <td>23</td>\n",
       "      <td>London Pickle Works</td>\n",
       "      <td>-81.627</td>\n",
       "      <td>OH</td>\n",
       "      <td>3.5</td>\n",
       "      <td>41.340319</td>\n",
       "      <td>44141</td>\n",
       "      <td>business</td>\n",
       "      <td>1</td>\n",
       "    </tr>\n",
       "    <tr>\n",
       "      <th>1</th>\n",
       "      <td>0</td>\n",
       "      <td>kXUySHSlRgVrcR4Aa0HtGQ</td>\n",
       "      <td>tRd0-mPa9O1TMJp_dw5khQ</td>\n",
       "      <td>Got my mojo back after having a few of their a...</td>\n",
       "      <td>4P-vTvE6cncJyUyLh73pxw</td>\n",
       "      <td>4</td>\n",
       "      <td>2014-08-14</td>\n",
       "      <td>0</td>\n",
       "      <td>review</td>\n",
       "      <td>0</td>\n",
       "      <td>...</td>\n",
       "      <td>Brecksville</td>\n",
       "      <td>23</td>\n",
       "      <td>London Pickle Works</td>\n",
       "      <td>-81.627</td>\n",
       "      <td>OH</td>\n",
       "      <td>3.5</td>\n",
       "      <td>41.340319</td>\n",
       "      <td>44141</td>\n",
       "      <td>business</td>\n",
       "      <td>1</td>\n",
       "    </tr>\n",
       "    <tr>\n",
       "      <th>2</th>\n",
       "      <td>0</td>\n",
       "      <td>SYKPwRhnlKrW6yTvm7oPWg</td>\n",
       "      <td>8Mu56iQ-MYEyivqUVss0XA</td>\n",
       "      <td>Don't go here for the decor, but the staff is ...</td>\n",
       "      <td>4P-vTvE6cncJyUyLh73pxw</td>\n",
       "      <td>4</td>\n",
       "      <td>2012-10-20</td>\n",
       "      <td>1</td>\n",
       "      <td>review</td>\n",
       "      <td>0</td>\n",
       "      <td>...</td>\n",
       "      <td>Brecksville</td>\n",
       "      <td>23</td>\n",
       "      <td>London Pickle Works</td>\n",
       "      <td>-81.627</td>\n",
       "      <td>OH</td>\n",
       "      <td>3.5</td>\n",
       "      <td>41.340319</td>\n",
       "      <td>44141</td>\n",
       "      <td>business</td>\n",
       "      <td>1</td>\n",
       "    </tr>\n",
       "    <tr>\n",
       "      <th>3</th>\n",
       "      <td>0</td>\n",
       "      <td>7LCG3o2KW2jgKgbKN0DQOg</td>\n",
       "      <td>ToC77cIEiMas9CPU7dt_fA</td>\n",
       "      <td>I believe in awarding stars bearing in mind th...</td>\n",
       "      <td>4P-vTvE6cncJyUyLh73pxw</td>\n",
       "      <td>5</td>\n",
       "      <td>2012-08-25</td>\n",
       "      <td>2</td>\n",
       "      <td>review</td>\n",
       "      <td>1</td>\n",
       "      <td>...</td>\n",
       "      <td>Brecksville</td>\n",
       "      <td>23</td>\n",
       "      <td>London Pickle Works</td>\n",
       "      <td>-81.627</td>\n",
       "      <td>OH</td>\n",
       "      <td>3.5</td>\n",
       "      <td>41.340319</td>\n",
       "      <td>44141</td>\n",
       "      <td>business</td>\n",
       "      <td>1</td>\n",
       "    </tr>\n",
       "    <tr>\n",
       "      <th>4</th>\n",
       "      <td>0</td>\n",
       "      <td>iSdSNh1hjdE33LOwrFnFrg</td>\n",
       "      <td>6YC4o9yLc25DK8c6soOlaw</td>\n",
       "      <td>If you like fried food and laid back, then thi...</td>\n",
       "      <td>4P-vTvE6cncJyUyLh73pxw</td>\n",
       "      <td>4</td>\n",
       "      <td>2015-07-27</td>\n",
       "      <td>0</td>\n",
       "      <td>review</td>\n",
       "      <td>0</td>\n",
       "      <td>...</td>\n",
       "      <td>Brecksville</td>\n",
       "      <td>23</td>\n",
       "      <td>London Pickle Works</td>\n",
       "      <td>-81.627</td>\n",
       "      <td>OH</td>\n",
       "      <td>3.5</td>\n",
       "      <td>41.340319</td>\n",
       "      <td>44141</td>\n",
       "      <td>business</td>\n",
       "      <td>1</td>\n",
       "    </tr>\n",
       "  </tbody>\n",
       "</table>\n",
       "<p>5 rows × 26 columns</p>\n",
       "</div>"
      ],
      "text/plain": [
       "   funny                 user_id               review_id  \\\n",
       "0      0  PmgqNO0-5Y3e3UoR61TD7w  6-hKBi-6RC3g7Mft0c-6qw   \n",
       "1      0  kXUySHSlRgVrcR4Aa0HtGQ  tRd0-mPa9O1TMJp_dw5khQ   \n",
       "2      0  SYKPwRhnlKrW6yTvm7oPWg  8Mu56iQ-MYEyivqUVss0XA   \n",
       "3      0  7LCG3o2KW2jgKgbKN0DQOg  ToC77cIEiMas9CPU7dt_fA   \n",
       "4      0  iSdSNh1hjdE33LOwrFnFrg  6YC4o9yLc25DK8c6soOlaw   \n",
       "\n",
       "                                                text             business_id  \\\n",
       "0  This place is a area staple! Been around for y...  4P-vTvE6cncJyUyLh73pxw   \n",
       "1  Got my mojo back after having a few of their a...  4P-vTvE6cncJyUyLh73pxw   \n",
       "2  Don't go here for the decor, but the staff is ...  4P-vTvE6cncJyUyLh73pxw   \n",
       "3  I believe in awarding stars bearing in mind th...  4P-vTvE6cncJyUyLh73pxw   \n",
       "4  If you like fried food and laid back, then thi...  4P-vTvE6cncJyUyLh73pxw   \n",
       "\n",
       "   stars_x        date  useful  type_x  cool     ...             city  \\\n",
       "0        4  2014-03-29       0  review     0     ...      Brecksville   \n",
       "1        4  2014-08-14       0  review     0     ...      Brecksville   \n",
       "2        4  2012-10-20       1  review     0     ...      Brecksville   \n",
       "3        5  2012-08-25       2  review     1     ...      Brecksville   \n",
       "4        4  2015-07-27       0  review     0     ...      Brecksville   \n",
       "\n",
       "  review_count                 name longitude state stars_y   latitude  \\\n",
       "0           23  London Pickle Works   -81.627    OH     3.5  41.340319   \n",
       "1           23  London Pickle Works   -81.627    OH     3.5  41.340319   \n",
       "2           23  London Pickle Works   -81.627    OH     3.5  41.340319   \n",
       "3           23  London Pickle Works   -81.627    OH     3.5  41.340319   \n",
       "4           23  London Pickle Works   -81.627    OH     3.5  41.340319   \n",
       "\n",
       "   postal_code    type_y  Restaurant  \n",
       "0        44141  business           1  \n",
       "1        44141  business           1  \n",
       "2        44141  business           1  \n",
       "3        44141  business           1  \n",
       "4        44141  business           1  \n",
       "\n",
       "[5 rows x 26 columns]"
      ]
     },
     "execution_count": 5,
     "metadata": {},
     "output_type": "execute_result"
    }
   ],
   "source": [
    "restaurant_review.head(n=5)"
   ]
  },
  {
   "cell_type": "markdown",
   "metadata": {},
   "source": [
    "### Add your city and get the data"
   ]
  },
  {
   "cell_type": "code",
   "execution_count": 7,
   "metadata": {},
   "outputs": [
    {
     "data": {
      "text/plain": [
       "array(['Brecksville', 'Brecksville', 'Brecksville', ..., 'Las Vegas',\n",
       "       'Las Vegas', 'Las Vegas'], dtype=object)"
      ]
     },
     "execution_count": 7,
     "metadata": {},
     "output_type": "execute_result"
    }
   ],
   "source": [
    "\n",
    "restaurant_review[\"city\"].values"
   ]
  },
  {
   "cell_type": "code",
   "execution_count": 9,
   "metadata": {},
   "outputs": [
    {
     "data": {
      "text/plain": [
       "{'AGINCOURT',\n",
       " 'Ahwatukee',\n",
       " 'Aichwald',\n",
       " 'Ajax',\n",
       " 'Allison Park',\n",
       " 'Ambridge',\n",
       " 'Amherst',\n",
       " 'Anjou',\n",
       " 'Anthem',\n",
       " 'Arnold',\n",
       " 'Aspinwall',\n",
       " 'Auburn Township',\n",
       " 'Aurora',\n",
       " 'Avalon',\n",
       " 'Avon',\n",
       " 'Avon Lake',\n",
       " 'Avondale',\n",
       " \"Baie-D'urfe\",\n",
       " 'Bainbridge',\n",
       " 'Bainbridge Township',\n",
       " 'Baldwin',\n",
       " 'Balerno',\n",
       " 'Bath',\n",
       " 'Bathurst Quay',\n",
       " 'Bay Village',\n",
       " 'Beachwood',\n",
       " 'Beaconsfield',\n",
       " 'Bedford',\n",
       " 'Bedford Heights',\n",
       " 'Bedford Hts.',\n",
       " 'Beeton',\n",
       " 'Belleville',\n",
       " 'Bellevue',\n",
       " 'Bellvue',\n",
       " 'Belmont',\n",
       " 'Beloeil',\n",
       " 'Ben Avon',\n",
       " 'Berea',\n",
       " 'Berg',\n",
       " 'Bernhausen',\n",
       " 'Bethel Park',\n",
       " 'Black Earth',\n",
       " 'Blainville',\n",
       " 'Blawnox',\n",
       " 'Bloomfield',\n",
       " 'Blue Diamond',\n",
       " 'Bois-Des-Filion',\n",
       " 'Boisbriand',\n",
       " 'Bolton',\n",
       " 'Bonnyrigg and Lasswade',\n",
       " 'Boucherville',\n",
       " 'Boulder City',\n",
       " 'Braddock',\n",
       " 'Bradford',\n",
       " 'Bradford West Gwillimbury',\n",
       " 'Brampton',\n",
       " 'Bratenahl',\n",
       " 'Brecksville',\n",
       " 'Brentwood',\n",
       " 'Bridgeville',\n",
       " 'Broadview Heights',\n",
       " 'Brook Park',\n",
       " 'Brooklin',\n",
       " 'Brooklyn',\n",
       " 'Brookpark',\n",
       " 'Brossard',\n",
       " 'Brunswick',\n",
       " 'Brunswick Hills',\n",
       " 'Bruntsfield',\n",
       " 'Buena Vista',\n",
       " 'Burton',\n",
       " 'Caledon',\n",
       " 'Caledon East',\n",
       " 'Caledon Village',\n",
       " 'Candiac',\n",
       " 'Canonsburg',\n",
       " 'Carefree',\n",
       " 'Carnegie',\n",
       " 'Carnot-Moon',\n",
       " 'Castle Shannon',\n",
       " 'Cave Creek',\n",
       " 'Cecil',\n",
       " 'Central City',\n",
       " 'Central City Village',\n",
       " 'Centre Island',\n",
       " 'Chagrin Falls',\n",
       " 'Chambly',\n",
       " 'Champaign',\n",
       " 'Champlain',\n",
       " 'Chandler',\n",
       " 'Chardon',\n",
       " 'Charlemagne',\n",
       " 'Charlotte',\n",
       " 'Chatauguay',\n",
       " 'Chateauguay',\n",
       " 'Chertsey',\n",
       " 'Chesterland',\n",
       " 'Cheswick',\n",
       " 'Chomedey, Laval',\n",
       " 'Churubusco',\n",
       " 'Ch\\xc3\\xa2teauguay',\n",
       " 'City of Edinburgh',\n",
       " 'Clairton',\n",
       " 'Clarkson',\n",
       " 'Cleveland',\n",
       " 'Cleveland Heights',\n",
       " 'Columbia Station',\n",
       " 'Concord',\n",
       " 'Concord Mills',\n",
       " 'Concord Twp',\n",
       " 'Copley',\n",
       " 'Coraopolis',\n",
       " 'Cornelius',\n",
       " 'Cote Saint-Luc',\n",
       " 'Cote-Saint-Luc',\n",
       " 'Cottage Grove',\n",
       " 'Crabtree',\n",
       " 'Crafton',\n",
       " 'Cramerton',\n",
       " 'Cramond Bridge',\n",
       " 'Creighton',\n",
       " 'Crescent',\n",
       " 'Cross Plains',\n",
       " 'Cuddy',\n",
       " 'Currie',\n",
       " 'Cuyahoga Falls',\n",
       " 'Cuyahoga Fls',\n",
       " 'Dalgety Bay',\n",
       " 'Dalkeith',\n",
       " 'Dallas',\n",
       " 'Dane',\n",
       " 'Davidson',\n",
       " 'De Forest',\n",
       " 'DeForest',\n",
       " 'Delson',\n",
       " 'Denkendorf',\n",
       " 'Ditzingen',\n",
       " 'Dollard-Des Ormeaux',\n",
       " 'Dollard-Des-Ormeaux',\n",
       " 'Dollard-des-Ormeaux',\n",
       " 'Don Mills',\n",
       " 'Dorval',\n",
       " 'Downtown',\n",
       " 'Dravosburg',\n",
       " 'Dunfermline',\n",
       " 'E Gwillimbury',\n",
       " 'East Cleveland',\n",
       " 'East Gwillimbury',\n",
       " 'East Liberty',\n",
       " 'East Mc Keesport',\n",
       " 'East McKeesport',\n",
       " 'East Pittsburgh',\n",
       " 'East York',\n",
       " 'Eastlake',\n",
       " 'Edgewood',\n",
       " 'Edimbourg',\n",
       " 'Edinburgh',\n",
       " 'El Mirage',\n",
       " 'Elizabeth',\n",
       " 'Elizabeth Township',\n",
       " 'Elrama',\n",
       " 'Elyria',\n",
       " 'Emsworth',\n",
       " 'Enterprise',\n",
       " 'Esslingen',\n",
       " 'Esslingen am Neckar',\n",
       " 'Est\\xc3\\xa9rel',\n",
       " 'Etna',\n",
       " 'Etobicoke',\n",
       " 'Euclid',\n",
       " 'Fabreville',\n",
       " 'Fairlawn',\n",
       " 'Fairport Harbor',\n",
       " 'Fairview',\n",
       " 'Fairview Park',\n",
       " 'Farnham',\n",
       " 'Fellbach',\n",
       " 'Filderstadt',\n",
       " 'Finleyville',\n",
       " 'Fitchburg',\n",
       " 'Forest Hills',\n",
       " 'Fort  Mill',\n",
       " 'Fort McDowell',\n",
       " 'Fort Mill',\n",
       " 'Fountain Hills',\n",
       " 'Fox Chapel',\n",
       " 'Frazer',\n",
       " 'Freiberg',\n",
       " 'Ft. Mill',\n",
       " 'Garfield Heights',\n",
       " 'Gastonia',\n",
       " 'Gates Mills',\n",
       " 'Gelndale',\n",
       " 'Georgetown',\n",
       " 'Gerlingen',\n",
       " 'Gibsonia',\n",
       " 'Gifford',\n",
       " 'Gilbert',\n",
       " 'Glasgow',\n",
       " 'Glassport',\n",
       " 'Glendale',\n",
       " 'Glenndale',\n",
       " 'Glenrothes',\n",
       " 'Glenshaw',\n",
       " 'Godmanchester',\n",
       " 'Goodwood',\n",
       " 'Goodyear',\n",
       " 'Gorebridge',\n",
       " 'Grafton',\n",
       " 'Grand River',\n",
       " 'Green Tree',\n",
       " 'Green Valley',\n",
       " 'Greenfield Park',\n",
       " 'Guadalupe',\n",
       " 'Gullane',\n",
       " 'Haddington',\n",
       " 'Hampton Township',\n",
       " 'Harrisbug',\n",
       " 'Harrisburg',\n",
       " 'Harwick',\n",
       " 'Hawthorne',\n",
       " 'Heidelberg',\n",
       " 'Hemmingen',\n",
       " 'Hemmingford',\n",
       " 'Henderson',\n",
       " 'Hendersonville',\n",
       " 'Herminie',\n",
       " 'Highland Heights',\n",
       " 'Higley',\n",
       " 'Hinckley',\n",
       " 'Hiram',\n",
       " 'Homer',\n",
       " 'Homestead',\n",
       " 'Houston',\n",
       " 'Hudson',\n",
       " 'Huntersville',\n",
       " 'Huntingdon',\n",
       " 'Imperial',\n",
       " 'Independence',\n",
       " 'Indian Land',\n",
       " 'Indian Trail',\n",
       " 'Indianola',\n",
       " 'Inglewood',\n",
       " 'Inverkeithing',\n",
       " 'Inverness',\n",
       " 'Irwin',\n",
       " 'Jefferson Hills',\n",
       " 'Joliette',\n",
       " 'Juniper Green',\n",
       " 'Kahnawake',\n",
       " 'Kannapolis',\n",
       " 'Kennedy Township',\n",
       " 'Kent',\n",
       " 'Kernen',\n",
       " 'Kernen im Remstal',\n",
       " 'King',\n",
       " 'King City',\n",
       " 'Kirkcaldy',\n",
       " 'Kirkland',\n",
       " 'Kirtland',\n",
       " 'Kleinburg',\n",
       " 'Korntal-M\\xc3\\xbcnchingen',\n",
       " 'Kornwestheim',\n",
       " \"L'assomption\",\n",
       " \"L'ile-Perrot\",\n",
       " \"L'\\xc3\\x8ele-Perrot\",\n",
       " \"L'\\xc3\\x8ele-Perr\\xc3\\xb4t\",\n",
       " 'La Prairie',\n",
       " 'La Salle',\n",
       " 'LaSalle',\n",
       " 'Lachenaie',\n",
       " 'Lachine',\n",
       " 'Lachute',\n",
       " 'Lacolle',\n",
       " 'Lagrange',\n",
       " 'Lake Park',\n",
       " 'Lake Wylie',\n",
       " 'Lakewood',\n",
       " 'Las  Vegas',\n",
       " 'Las Vegas',\n",
       " 'LasVegas',\n",
       " 'Lasalle',\n",
       " 'Lasswade',\n",
       " 'Laval',\n",
       " 'Laveen',\n",
       " 'Laveen Village',\n",
       " 'Lawrence',\n",
       " 'Leetsdale',\n",
       " 'Leinfelden-Echterdingen',\n",
       " 'Leith',\n",
       " 'Leonberg',\n",
       " 'Liberty',\n",
       " 'Library',\n",
       " 'Litchfield',\n",
       " 'Litchfield Park',\n",
       " 'Livingston',\n",
       " 'Loanhead',\n",
       " 'Longueuil',\n",
       " 'Lorain',\n",
       " 'Lowell',\n",
       " 'Lower Burrell',\n",
       " 'Lower Lawrenceville',\n",
       " 'Lowesville',\n",
       " 'Ludwigsburg',\n",
       " 'Lyndhurst',\n",
       " 'MESA',\n",
       " 'Macedonia',\n",
       " 'Madison',\n",
       " 'Mahomet',\n",
       " 'Malton',\n",
       " 'Mansfield',\n",
       " 'Mantua',\n",
       " 'Maple',\n",
       " 'Maple Grove',\n",
       " 'Maple Heights',\n",
       " 'Markham',\n",
       " 'Mascouche',\n",
       " 'Mattews',\n",
       " 'Matthews',\n",
       " 'Mayfield',\n",
       " 'Mayfield Heights',\n",
       " 'Mayfield Village',\n",
       " 'Mc Donald',\n",
       " 'Mc Farland',\n",
       " 'Mc Murray',\n",
       " 'McAdenville',\n",
       " 'McCandless',\n",
       " 'McCandless Township',\n",
       " 'McDonald',\n",
       " 'McFarland',\n",
       " 'McKees Rocks',\n",
       " 'McKeesport',\n",
       " 'McKnight',\n",
       " 'McMasterville',\n",
       " 'McMurray',\n",
       " 'Medina',\n",
       " 'Medina Township',\n",
       " 'Mentor',\n",
       " 'Mentor On the',\n",
       " 'Mentor On the Lake',\n",
       " 'Mentor-on-the-Lake',\n",
       " 'Mercier',\n",
       " 'Mesa',\n",
       " 'Mesa AZ',\n",
       " 'Middleburg Heights',\n",
       " 'Middlefield',\n",
       " 'Middleton',\n",
       " 'Midland',\n",
       " 'Millvale',\n",
       " 'Mint  Hill',\n",
       " 'Mint Hill',\n",
       " 'Mirabel',\n",
       " 'Missisauga',\n",
       " 'Mississauga',\n",
       " 'Mississuaga',\n",
       " 'Monona',\n",
       " 'Monongahela',\n",
       " 'Monroeville',\n",
       " 'Mont-Royal',\n",
       " 'Mont-Saint-Gregoire',\n",
       " 'Mont-Saint-Hilaire',\n",
       " 'Monticello',\n",
       " 'Montreal',\n",
       " 'Montreal-Nord',\n",
       " 'Montreal-Ouest',\n",
       " 'Montreal-West',\n",
       " 'Montrose',\n",
       " 'Montr\\xc3\\xa9al',\n",
       " 'Montr\\xc3\\xa9al-Nord',\n",
       " 'Montr\\xc3\\xa9al-Ouest',\n",
       " 'Mont\\xc3\\xa9al',\n",
       " 'Mooers',\n",
       " 'Moon',\n",
       " 'Moon Township',\n",
       " 'Moon Twp',\n",
       " 'Moon Twp.',\n",
       " 'Moreland Hills',\n",
       " 'Morin-Heights',\n",
       " 'Mount Albert',\n",
       " 'Mount Holly',\n",
       " 'Mount Horeb',\n",
       " 'Mount Lebanon',\n",
       " 'Mount Washington',\n",
       " 'Mt. Lebanon',\n",
       " 'Munhall',\n",
       " 'Munroe Falls',\n",
       " 'Murrysville',\n",
       " 'Musselburgh',\n",
       " 'M\\xc3\\xb6glingen',\n",
       " 'N Las Vegas',\n",
       " 'N. Las Vegas',\n",
       " 'N. Olmsted',\n",
       " 'NORTH YORK',\n",
       " 'Napierville',\n",
       " 'Nellis AFB',\n",
       " 'Nellis Afb',\n",
       " 'Nellis Air Force Base',\n",
       " 'New Eagle',\n",
       " 'New Kensington',\n",
       " 'New Town',\n",
       " 'Newbridge',\n",
       " 'Newbury',\n",
       " 'Newhaven',\n",
       " 'Newmarket',\n",
       " 'Nobleton',\n",
       " 'North Huntingdon',\n",
       " 'North Las Vegas',\n",
       " 'North Olmstead',\n",
       " 'North Olmsted',\n",
       " 'North Queensferry',\n",
       " 'North Randall',\n",
       " 'North Ridgeville',\n",
       " 'North Royalton',\n",
       " 'North Toronto',\n",
       " 'North Versailles',\n",
       " 'North York',\n",
       " 'Northfield',\n",
       " 'Northfield Center',\n",
       " 'Northside',\n",
       " 'Nottingham',\n",
       " 'Noyan',\n",
       " 'Oakdale',\n",
       " 'Oakland',\n",
       " 'Oakmont',\n",
       " 'Oakville',\n",
       " 'Ogden',\n",
       " 'Oka',\n",
       " 'Old Town',\n",
       " 'Olmsted Falls',\n",
       " 'Olmsted Township',\n",
       " 'Orange',\n",
       " 'Oregon',\n",
       " 'Ormstown',\n",
       " 'Ostfildern',\n",
       " 'Outremont',\n",
       " 'Painesville',\n",
       " 'Paoli',\n",
       " 'Paradise',\n",
       " 'Paradise Valley',\n",
       " 'Parma',\n",
       " 'Parma Heights',\n",
       " 'Paw Creek',\n",
       " 'Penicuik',\n",
       " 'Peninsula',\n",
       " 'Penn Hills',\n",
       " 'Peoria',\n",
       " 'Pepper Pike',\n",
       " 'Pheonix',\n",
       " 'Pheonix AZ',\n",
       " 'Philo',\n",
       " 'Phoenix',\n",
       " 'Pickering',\n",
       " 'Piedmont',\n",
       " 'Pierrefonds',\n",
       " 'Pincourt',\n",
       " 'Pineville',\n",
       " 'Pitcairn',\n",
       " 'Pittsburgh',\n",
       " 'Pleasant Hills',\n",
       " 'Plieningen',\n",
       " 'Plum',\n",
       " 'Pointe-Aux-Trembles',\n",
       " 'Pointe-Claire',\n",
       " 'Port Credit',\n",
       " 'Portobello',\n",
       " 'Presto',\n",
       " 'Prestonpans',\n",
       " 'Quartermile',\n",
       " 'Queensferry',\n",
       " 'Ranlo',\n",
       " 'Rantoul',\n",
       " 'Ratho',\n",
       " 'Rawdon',\n",
       " 'Regent Square',\n",
       " 'Remseck',\n",
       " 'Remseck am Neckar',\n",
       " 'Repentigny',\n",
       " 'Rexdale',\n",
       " 'Richfield',\n",
       " 'Richmond Heights',\n",
       " 'Richmond Hil',\n",
       " 'Richmond Hill',\n",
       " 'Rigaud',\n",
       " 'Rillton',\n",
       " 'Robinson',\n",
       " 'Robinson Township',\n",
       " 'Robinson Twp.',\n",
       " 'Rocky River',\n",
       " 'Roosevelt',\n",
       " 'Rosemere',\n",
       " 'Rosem\\xc3\\xa8re',\n",
       " 'Ross',\n",
       " 'Ross Township',\n",
       " 'Rouses Point',\n",
       " 'Roxboro',\n",
       " 'Rural Ridge',\n",
       " 'Russellton',\n",
       " 'Sagamore Hills',\n",
       " 'Saint Joseph',\n",
       " 'Saint Laurent',\n",
       " 'Saint Leonard',\n",
       " 'Saint-Basile-Le-Grand',\n",
       " 'Saint-Bruno',\n",
       " 'Saint-Bruno-de-Montarville',\n",
       " 'Saint-Constant',\n",
       " 'Saint-Eustache',\n",
       " 'Saint-Henri',\n",
       " 'Saint-Hubert',\n",
       " 'Saint-Hyacinthe',\n",
       " 'Saint-Jean-Sur-Richelieu',\n",
       " 'Saint-Jean-sur-Richelieu',\n",
       " 'Saint-Jerome',\n",
       " 'Saint-J\\xc3\\xa9r\\xc3\\xb4me',\n",
       " 'Saint-Lambert',\n",
       " 'Saint-Laurent',\n",
       " 'Saint-Lazare',\n",
       " 'Saint-Leonard',\n",
       " 'Saint-Marc-Sur-Richelieu',\n",
       " 'Saint-Marc-sur-Richelieu',\n",
       " 'Saint-Pierre-de-V\\xc3\\xa9ronne-\\xc3\\xa0-Pike-River',\n",
       " \"Saint-Roch-De-L'achigan\",\n",
       " 'Saint-Sauveur',\n",
       " 'Saint-Sauveur-des-Monts',\n",
       " 'Sainte-Adele',\n",
       " 'Sainte-Ad\\xc3\\xa8le',\n",
       " 'Sainte-Anne-De-Bellevue',\n",
       " 'Sainte-Anne-de-Bellevue',\n",
       " 'Sainte-Catherine',\n",
       " 'Sainte-Doroth\\xc3\\xa9e',\n",
       " 'Sainte-Genevieve',\n",
       " 'Sainte-Julie',\n",
       " 'Sainte-Madeleine',\n",
       " 'Sainte-Marguerite-du-Lac-Masson',\n",
       " 'Sainte-Marthe',\n",
       " 'Sainte-Therese',\n",
       " 'Sainte-Therese-de-Blainville',\n",
       " 'Sainte-Th\\xc3\\xa9r\\xc3\\xa8se',\n",
       " 'Sainte-th\\xc3\\xa9r\\xc3\\xa8se',\n",
       " 'Salaberry-De-Valleyfield',\n",
       " 'San Tan Valley',\n",
       " 'Savoy',\n",
       " 'Scarborough',\n",
       " 'Scaroborough',\n",
       " 'Scarobrough',\n",
       " 'Schomberg',\n",
       " 'Schwaikheim',\n",
       " 'Schwieberdingen',\n",
       " 'Sch\\xc3\\xb6naich',\n",
       " 'Scottdale',\n",
       " 'Scottsdale',\n",
       " 'Seven Hills',\n",
       " 'Sewickley',\n",
       " 'Shadyside',\n",
       " 'Shaker Heights',\n",
       " 'Shaler Township',\n",
       " 'Sharpsburg',\n",
       " 'Sheffield',\n",
       " 'Sheffield Lake',\n",
       " 'Sheffield Village',\n",
       " 'Shorewood Hills',\n",
       " 'Sindelfingen',\n",
       " 'Solon',\n",
       " 'South Euclid',\n",
       " 'South Gyle',\n",
       " 'South Las Vegas',\n",
       " 'South Mountain',\n",
       " 'South Park',\n",
       " 'South Park Township',\n",
       " 'South Queensferry',\n",
       " 'Spring Hill City View',\n",
       " 'Spring Valley',\n",
       " 'Springdale',\n",
       " 'Squirrel Hill',\n",
       " 'St Leonard',\n",
       " 'St-Beno\\xc3\\xaet de Mirabel',\n",
       " 'St-Jerome',\n",
       " 'St-Laurent',\n",
       " 'St-Leonard',\n",
       " 'Stallings',\n",
       " 'Stanley',\n",
       " 'Ste-Therese-de-Blainville',\n",
       " 'Steinenbronn',\n",
       " 'Stockbridge',\n",
       " 'Stoney Creek',\n",
       " 'Stouffville',\n",
       " 'Stoughton',\n",
       " 'Stow',\n",
       " 'Stowe',\n",
       " 'Stowe Township',\n",
       " 'Streetsboro',\n",
       " 'Streetsville',\n",
       " 'Strongsville',\n",
       " 'Stuttgart',\n",
       " 'Stuttgart-Vaihingen',\n",
       " 'Summerlin',\n",
       " 'Summerlin South',\n",
       " 'Sun City',\n",
       " 'Sun City West',\n",
       " 'Sun Lakes',\n",
       " 'Sun Prairie',\n",
       " 'Surprise',\n",
       " 'Swissvale',\n",
       " 'TORONTO',\n",
       " 'Tallmadge',\n",
       " 'Tega Cay',\n",
       " 'Tempe',\n",
       " 'Terrebonne',\n",
       " 'Thorncliffe Park',\n",
       " 'Thornhil',\n",
       " 'Thornhill',\n",
       " 'Tolleson',\n",
       " 'Tolono',\n",
       " 'Toronto',\n",
       " 'Tottenham',\n",
       " 'Trafford',\n",
       " 'Tranent',\n",
       " 'Tremont',\n",
       " 'Turtle Creek',\n",
       " 'Tuscola',\n",
       " 'Twinsburg',\n",
       " 'Unionville',\n",
       " 'University Heights',\n",
       " 'Upper Saint Clair',\n",
       " 'Upper St Clair',\n",
       " 'Upper St. Clair',\n",
       " 'Urbana',\n",
       " 'Valley City',\n",
       " 'Valley View',\n",
       " 'Vaudreuil-Dorion',\n",
       " 'Vaughan',\n",
       " 'Vaughn',\n",
       " 'Venetia',\n",
       " 'Verdun',\n",
       " 'Verona',\n",
       " 'Villa Grove',\n",
       " 'Vimont',\n",
       " 'WICKLIFFE',\n",
       " 'Waiblingen',\n",
       " 'Walton Hills',\n",
       " 'Warrensvile Heights',\n",
       " 'Warrensville Heights',\n",
       " 'Warrensville Hts.',\n",
       " 'Waunakee',\n",
       " 'Waxhaw',\n",
       " 'Weddington',\n",
       " 'Wesley Chapel',\n",
       " 'West Akron',\n",
       " 'West Elizabeth',\n",
       " 'West Homestead',\n",
       " 'West Las Vegas',\n",
       " 'West Mifflin',\n",
       " 'West View',\n",
       " 'Westlake',\n",
       " 'Westmount',\n",
       " 'Wexford',\n",
       " 'Whitby',\n",
       " 'Whitchurch-Stouffville',\n",
       " 'White Oak',\n",
       " 'Wickliffe',\n",
       " 'Wilkins Township',\n",
       " 'Wilkinsburg',\n",
       " 'Willoughby',\n",
       " 'Willoughby Hills',\n",
       " 'Willowdale',\n",
       " 'Willowick',\n",
       " 'Wilmerding',\n",
       " 'Windsor',\n",
       " 'Wolfschlugen',\n",
       " 'Woodbridge',\n",
       " 'Woodmere',\n",
       " 'York',\n",
       " 'Youngtown',\n",
       " 'columbia station',\n",
       " 'las vegas'}"
      ]
     },
     "execution_count": 9,
     "metadata": {},
     "output_type": "execute_result"
    }
   ],
   "source": [
    "cities = set(restaurant_review[\"city\"])\n",
    "cities"
   ]
  },
  {
   "cell_type": "code",
   "execution_count": null,
   "metadata": {
    "collapsed": true
   },
   "outputs": [],
   "source": [
    "#pitt_review = restaurant_review[restaurant_review[\"city\"]==\"Pittsburgh\"]\n"
   ]
  },
  {
   "cell_type": "code",
   "execution_count": 54,
   "metadata": {
    "collapsed": true
   },
   "outputs": [],
   "source": [
    "montreal_review_1 = restaurant_review[restaurant_review[\"city\"]==\"Montreal\"]\n",
    "montreal_review_2 = restaurant_review[restaurant_review[\"city\"]==\"Montreal-Nord\"]\n",
    "montreal_review_3 = restaurant_review[restaurant_review[\"city\"]==\"Montreal-Ouest\"]\n",
    "montreal_review_4 = restaurant_review[restaurant_review[\"city\"]==\"Montreal-West\"]\n",
    "montreal_review_5 = restaurant_review[restaurant_review[\"city\"]==\"Montr\\xc3\\xa9al\"]\n",
    "montreal_review_6 = restaurant_review[restaurant_review[\"city\"]==\"Montr\\xc3\\xa9al-Nord\"]\n",
    "montreal_review_7 = restaurant_review[restaurant_review[\"city\"]==\"Montr\\xc3\\xa9al-Ouest\"]\n",
    "montreal_review_8 = restaurant_review[restaurant_review[\"city\"]==\"Mont\\xc3\\xa9al\"]\n"
   ]
  },
  {
   "cell_type": "code",
   "execution_count": 55,
   "metadata": {
    "collapsed": true
   },
   "outputs": [],
   "source": [
    "montreal_review = pd.concat([montreal_review_1, montreal_review_2, montreal_review_3, montreal_review_4, montreal_review_5, montreal_review_6, montreal_review_7, montreal_review_8])"
   ]
  },
  {
   "cell_type": "code",
   "execution_count": 56,
   "metadata": {
    "collapsed": true
   },
   "outputs": [],
   "source": [
    "edinburgh_review_1 = restaurant_review[restaurant_review[\"city\"]==\"Edinburgh\"]\n",
    "edinburgh_review_2 = restaurant_review[restaurant_review[\"city\"]==\"City of Edinburgh\"]"
   ]
  },
  {
   "cell_type": "code",
   "execution_count": 57,
   "metadata": {
    "collapsed": true
   },
   "outputs": [],
   "source": [
    "type(edinburgh_review_1)\n",
    "edinburgh_review = pd.concat([edinburgh_review_1, edinburgh_review_2])"
   ]
  },
  {
   "cell_type": "code",
   "execution_count": 58,
   "metadata": {
    "collapsed": true
   },
   "outputs": [],
   "source": [
    "brooklyn_review = restaurant_review[restaurant_review[\"city\"]==\"Brooklyn\"]"
   ]
  },
  {
   "cell_type": "code",
   "execution_count": 59,
   "metadata": {
    "collapsed": true
   },
   "outputs": [],
   "source": [
    "toronto_review_1 = restaurant_review[restaurant_review[\"city\"]==\"TORONTO\"]\n",
    "toronto_review_2 = restaurant_review[restaurant_review[\"city\"]==\"Toronto\"]\n",
    "toronto_review = pd.concat([toronto_review_1, toronto_review_2])"
   ]
  },
  {
   "cell_type": "markdown",
   "metadata": {},
   "source": [
    "### Clean Reviews"
   ]
  },
  {
   "cell_type": "code",
   "execution_count": 36,
   "metadata": {
    "collapsed": true
   },
   "outputs": [],
   "source": [
    "import nltk\n",
    "from nltk.corpus import stopwords\n",
    "stops = set(stopwords.words('english'))\n",
    "def preprocess_text(text):\n",
    "    parse_text = BeautifulSoup(text).get_text()\n",
    "    tokens = CountVectorizer(stop_words='english').build_tokenizer()(parse_text.lower())\n",
    "    result = []\n",
    "    \n",
    "    \n",
    "    for w in tokens:\n",
    "        if w in stops:\n",
    "            continue\n",
    "        lem_word = wordnet_lemmatizer.lemmatize(w)\n",
    "        stem_word = snowball_stemmer.stem(lem_word)\n",
    "        result.append(stem_word)\n",
    "    \n",
    "    \n",
    "    \n",
    "    return result"
   ]
  },
  {
   "cell_type": "code",
   "execution_count": 37,
   "metadata": {
    "collapsed": true
   },
   "outputs": [],
   "source": [
    "#restaurant_review[\"clean_text\"] = map(preprocess_text,restaurant_review[\"text\"])"
   ]
  },
  {
   "cell_type": "markdown",
   "metadata": {},
   "source": [
    "### Map the function to the data of the city"
   ]
  },
  {
   "cell_type": "code",
   "execution_count": 73,
   "metadata": {
    "collapsed": true,
    "scrolled": true
   },
   "outputs": [],
   "source": [
    "montreal_review[\"clean_text\"] = map(preprocess_text,montreal_review[\"text\"])"
   ]
  },
  {
   "cell_type": "code",
   "execution_count": 70,
   "metadata": {
    "collapsed": true
   },
   "outputs": [],
   "source": [
    "edinburgh_review[\"clean_text\"] = map(preprocess_text,edinburgh_review[\"text\"])"
   ]
  },
  {
   "cell_type": "code",
   "execution_count": 64,
   "metadata": {},
   "outputs": [
    {
     "name": "stderr",
     "output_type": "stream",
     "text": [
      "/Users/YJChang/anaconda/envs/python2/lib/python2.7/site-packages/ipykernel_launcher.py:1: SettingWithCopyWarning: \n",
      "A value is trying to be set on a copy of a slice from a DataFrame.\n",
      "Try using .loc[row_indexer,col_indexer] = value instead\n",
      "\n",
      "See the caveats in the documentation: http://pandas.pydata.org/pandas-docs/stable/indexing.html#indexing-view-versus-copy\n",
      "  \"\"\"Entry point for launching an IPython kernel.\n"
     ]
    }
   ],
   "source": [
    "brooklyn_review[\"clean_text\"] = map(preprocess_text,brooklyn_review[\"text\"])"
   ]
  },
  {
   "cell_type": "code",
   "execution_count": 67,
   "metadata": {
    "collapsed": true
   },
   "outputs": [],
   "source": [
    "toronto_review[\"clean_text\"] = map(preprocess_text,toronto_review[\"text\"])"
   ]
  },
  {
   "cell_type": "code",
   "execution_count": 74,
   "metadata": {},
   "outputs": [
    {
     "data": {
      "text/plain": [
       "(75664, 27)"
      ]
     },
     "execution_count": 74,
     "metadata": {},
     "output_type": "execute_result"
    }
   ],
   "source": [
    "montreal_review.shape"
   ]
  },
  {
   "cell_type": "code",
   "execution_count": 71,
   "metadata": {},
   "outputs": [
    {
     "data": {
      "text/plain": [
       "(23794, 27)"
      ]
     },
     "execution_count": 71,
     "metadata": {},
     "output_type": "execute_result"
    }
   ],
   "source": [
    "edinburgh_review.shape"
   ]
  },
  {
   "cell_type": "code",
   "execution_count": 65,
   "metadata": {},
   "outputs": [
    {
     "data": {
      "text/plain": [
       "(625, 27)"
      ]
     },
     "execution_count": 65,
     "metadata": {},
     "output_type": "execute_result"
    }
   ],
   "source": [
    "brooklyn_review.shape"
   ]
  },
  {
   "cell_type": "code",
   "execution_count": 68,
   "metadata": {},
   "outputs": [
    {
     "data": {
      "text/plain": [
       "(245131, 27)"
      ]
     },
     "execution_count": 68,
     "metadata": {},
     "output_type": "execute_result"
    }
   ],
   "source": [
    "toronto_review.shape"
   ]
  },
  {
   "cell_type": "code",
   "execution_count": 75,
   "metadata": {
    "collapsed": true
   },
   "outputs": [],
   "source": [
    "dump(montreal_review,\"../Pickled_files/montreal_review.pkl\")"
   ]
  },
  {
   "cell_type": "code",
   "execution_count": 72,
   "metadata": {
    "collapsed": true
   },
   "outputs": [],
   "source": [
    "dump(edinburgh_review,\"../Pickled_files/edinburgh_review.pkl\")"
   ]
  },
  {
   "cell_type": "code",
   "execution_count": 66,
   "metadata": {
    "collapsed": true
   },
   "outputs": [],
   "source": [
    "dump(brooklyn_review,\"../Pickled_files/brooklyn_review.pkl\")"
   ]
  },
  {
   "cell_type": "code",
   "execution_count": 69,
   "metadata": {
    "collapsed": true
   },
   "outputs": [],
   "source": [
    "dump(toronto_review,\"../Pickled_files/toronto_review.pkl\")"
   ]
  },
  {
   "cell_type": "code",
   "execution_count": null,
   "metadata": {
    "collapsed": true
   },
   "outputs": [],
   "source": [
    "pitt_review = load(\"../Pickled_files/pitt_review.pkl\")"
   ]
  },
  {
   "cell_type": "code",
   "execution_count": null,
   "metadata": {
    "collapsed": true
   },
   "outputs": [],
   "source": [
    "edinburgh_review = load(\"../Pickled_files/edinburgh_review.pkl\")"
   ]
  },
  {
   "cell_type": "code",
   "execution_count": null,
   "metadata": {
    "collapsed": true
   },
   "outputs": [],
   "source": [
    "brooklyn_review = load(\"../Pickled_files/brooklyn_review.pkl\")"
   ]
  },
  {
   "cell_type": "code",
   "execution_count": null,
   "metadata": {
    "collapsed": true
   },
   "outputs": [],
   "source": [
    "toronto_review = load(\"../Pickled_files/toronto_review.pkl\")"
   ]
  },
  {
   "cell_type": "code",
   "execution_count": null,
   "metadata": {
    "collapsed": true
   },
   "outputs": [],
   "source": [
    "montreal_review = load(\"../Pickled_files/montreal_review.pkl\")"
   ]
  },
  {
   "cell_type": "code",
   "execution_count": null,
   "metadata": {
    "collapsed": true
   },
   "outputs": [],
   "source": []
  },
  {
   "cell_type": "markdown",
   "metadata": {},
   "source": [
    "### Preparing data for gensim for LDA"
   ]
  },
  {
   "cell_type": "code",
   "execution_count": null,
   "metadata": {
    "collapsed": true
   },
   "outputs": [],
   "source": [
    "data = pitt_review[\"clean_text\"]\n",
    "dictionary = gensim.corpora.Dictionary(data)\n",
    "corpus = [dictionary.doc2bow(text) for text in data]"
   ]
  },
  {
   "cell_type": "code",
   "execution_count": 77,
   "metadata": {
    "collapsed": true
   },
   "outputs": [],
   "source": [
    "data_montreal = montreal_review[\"clean_text\"]\n",
    "dictionary_montreal = gensim.corpora.Dictionary(data_montreal)\n",
    "corpus_montreal = [dictionary_montreal.doc2bow(text) for text in data_montreal]"
   ]
  },
  {
   "cell_type": "code",
   "execution_count": 81,
   "metadata": {
    "collapsed": true
   },
   "outputs": [],
   "source": [
    "data_edinburgh = edinburgh_review[\"clean_text\"]\n",
    "dictionary_edinburgh = gensim.corpora.Dictionary(data_edinburgh)\n",
    "corpus_edinburgh = [dictionary_edinburgh.doc2bow(text) for text in data_edinburgh]"
   ]
  },
  {
   "cell_type": "code",
   "execution_count": 83,
   "metadata": {
    "collapsed": true
   },
   "outputs": [],
   "source": [
    "data_brooklyn = brooklyn_review[\"clean_text\"]\n",
    "dictionary_brooklyn = gensim.corpora.Dictionary(data_brooklyn)\n",
    "corpus_brooklyn = [dictionary_brooklyn.doc2bow(text) for text in data_brooklyn]"
   ]
  },
  {
   "cell_type": "code",
   "execution_count": 84,
   "metadata": {
    "collapsed": true
   },
   "outputs": [],
   "source": [
    "data_toronto = toronto_review[\"clean_text\"]\n",
    "dictionary_toronto = gensim.corpora.Dictionary(data_toronto)\n",
    "corpus_toronto = [dictionary_toronto.doc2bow(text) for text in data_toronto]"
   ]
  },
  {
   "cell_type": "code",
   "execution_count": 80,
   "metadata": {
    "collapsed": true
   },
   "outputs": [],
   "source": [
    "dump(corpus_montreal,\"../Pickled_files/corpus_montreal.pkl\")\n",
    "dump(dictionary_montreal,\"../Pickled_files/dictionary_montreal.pkl\")"
   ]
  },
  {
   "cell_type": "code",
   "execution_count": 82,
   "metadata": {
    "collapsed": true
   },
   "outputs": [],
   "source": [
    "dump(corpus_edinburgh,\"../Pickled_files/corpus_edinburgh.pkl\")\n",
    "dump(dictionary_edinburgh,\"../Pickled_files/dictionary_edinburgh.pkl\")"
   ]
  },
  {
   "cell_type": "code",
   "execution_count": 85,
   "metadata": {
    "collapsed": true
   },
   "outputs": [],
   "source": [
    "dump(corpus_toronto,\"../Pickled_files/corpus_toronto.pkl\")\n",
    "dump(dictionary_toronto,\"../Pickled_files/dictionary_toronto.pkl\")"
   ]
  },
  {
   "cell_type": "code",
   "execution_count": 86,
   "metadata": {
    "collapsed": true
   },
   "outputs": [],
   "source": [
    "dump(corpus_brooklyn,\"../Pickled_files/corpus_brooklyn.pkl\")\n",
    "dump(dictionary_brooklyn,\"../Pickled_files/dictionary_brooklyn.pkl\")"
   ]
  },
  {
   "cell_type": "code",
   "execution_count": null,
   "metadata": {
    "collapsed": true
   },
   "outputs": [],
   "source": [
    "dump(corpus,\"../Pickled_files/corpus.pkl\")\n",
    "dump(dictionary,\"../Pickled_files/dictionary.pkl\")"
   ]
  },
  {
   "cell_type": "markdown",
   "metadata": {},
   "source": [
    "### Checkin Data "
   ]
  },
  {
   "cell_type": "code",
   "execution_count": null,
   "metadata": {
    "collapsed": true
   },
   "outputs": [],
   "source": [
    "checkin_data = pd.read_csv(\"../data/yelp_academic_dataset_checkin.csv\")"
   ]
  },
  {
   "cell_type": "code",
   "execution_count": null,
   "metadata": {
    "collapsed": true
   },
   "outputs": [],
   "source": [
    "len(set(checkin_data[\"business_id\"]))"
   ]
  },
  {
   "cell_type": "code",
   "execution_count": null,
   "metadata": {
    "collapsed": true
   },
   "outputs": [],
   "source": [
    "pitt_review = load(\"../Pickled_files/pitt_review.pkl\")"
   ]
  },
  {
   "cell_type": "code",
   "execution_count": null,
   "metadata": {
    "collapsed": true
   },
   "outputs": [],
   "source": [
    "p"
   ]
  }
 ],
 "metadata": {
  "kernelspec": {
   "display_name": "Python 2",
   "language": "python",
   "name": "python2"
  },
  "language_info": {
   "codemirror_mode": {
    "name": "ipython",
    "version": 2
   },
   "file_extension": ".py",
   "mimetype": "text/x-python",
   "name": "python",
   "nbconvert_exporter": "python",
   "pygments_lexer": "ipython2",
   "version": "2.7.13"
  }
 },
 "nbformat": 4,
 "nbformat_minor": 1
}
