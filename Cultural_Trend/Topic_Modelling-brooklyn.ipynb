{
 "cells": [
  {
   "cell_type": "code",
   "execution_count": 1,
   "metadata": {},
   "outputs": [
    {
     "name": "stderr",
     "output_type": "stream",
     "text": [
      "/Users/YJChang/anaconda/envs/python2/lib/python2.7/site-packages/IPython/html.py:14: ShimWarning: The `IPython.html` package has been deprecated since IPython 4.0. You should import from `notebook` instead. `IPython.html.widgets` has moved to `ipywidgets`.\n",
      "  \"`IPython.html.widgets` has moved to `ipywidgets`.\", ShimWarning)\n"
     ]
    }
   ],
   "source": [
    "import pandas as pd\n",
    "import numpy as np\n",
    "import ast\n",
    "import seaborn\n",
    "from collections import Counter\n",
    "import pickle\n",
    "from sklearn.feature_extraction.text import CountVectorizer\n",
    "from nltk.stem import WordNetLemmatizer\n",
    "wordnet_lemmatizer = WordNetLemmatizer()\n",
    "from nltk.stem import SnowballStemmer\n",
    "snowball_stemmer = SnowballStemmer(\"english\")\n",
    "from bs4 import BeautifulSoup\n",
    "import logging, gensim, bz2"
   ]
  },
  {
   "cell_type": "code",
   "execution_count": 2,
   "metadata": {
    "collapsed": true
   },
   "outputs": [],
   "source": [
    "import json\n",
    "import urlparse\n",
    "from itertools import chain\n",
    "flatten = chain.from_iterable\n",
    "from nltk import word_tokenize"
   ]
  },
  {
   "cell_type": "code",
   "execution_count": 3,
   "metadata": {
    "collapsed": true
   },
   "outputs": [],
   "source": [
    "def load(filename):\n",
    "    file = open(filename,'rb')\n",
    "    obj = pickle.load(file)\n",
    "    file.close()\n",
    "    return obj\n",
    "\n",
    "def dump(obj,filename):\n",
    "    filehandler = open(filename,\"wb\")\n",
    "    pickle.dump(obj,filehandler)\n",
    "    filehandler.close()"
   ]
  },
  {
   "cell_type": "markdown",
   "metadata": {},
   "source": [
    "### Load Pickled Data"
   ]
  },
  {
   "cell_type": "code",
   "execution_count": 4,
   "metadata": {
    "collapsed": true
   },
   "outputs": [],
   "source": [
    "brooklyn_review = load(\"../Pickled_files/brooklyn_review.pkl\")"
   ]
  },
  {
   "cell_type": "code",
   "execution_count": 5,
   "metadata": {
    "collapsed": true
   },
   "outputs": [],
   "source": [
    "corpus = load(\"../Pickled_files/corpus_brooklyn.pkl\")\n",
    "dictionary = load(\"../Pickled_files/dictionary_brooklyn.pkl\")"
   ]
  },
  {
   "cell_type": "markdown",
   "metadata": {},
   "source": [
    "### Start LDA"
   ]
  },
  {
   "cell_type": "code",
   "execution_count": 6,
   "metadata": {},
   "outputs": [
    {
     "name": "stdout",
     "output_type": "stream",
     "text": [
      "[u'0.016*time + 0.015*food + 0.011*dessert + 0.011*one + 0.010*aldo + 0.009*meal + 0.009*wing + 0.009*fresh + 0.008*enjoy + 0.008*first', u'0.023*place + 0.018*food + 0.012*realli + 0.011*like + 0.010*thing + 0.009*bread + 0.008*time + 0.008*go + 0.008*much + 0.008*restaur', u'0.020*give + 0.014*year + 0.013*anoth + 0.013*u + 0.013*polit + 0.013*past + 0.013*occasion + 0.007*head + 0.007*white + 0.007*everyth', u'0.013*good + 0.011*like + 0.010*food + 0.010*place + 0.010*order + 0.009*go + 0.009*eat + 0.009*got + 0.008*would + 0.007*steak', u'0.013*side + 0.013*great + 0.010*good + 0.010*server + 0.010*short + 0.010*steak + 0.010*medallion + 0.010*filet + 0.007*stop + 0.007*two', u'0.017*supervis + 0.017*depend + 0.016*parent + 0.014*employe + 0.013*busi + 0.008*love + 0.008*great + 0.008*custom + 0.008*flavor + 0.008*especi', u'0.021*chines + 0.019*food + 0.016*bay + 0.016*china + 0.014*good + 0.013*place + 0.012*peopl + 0.010*time + 0.010*order + 0.009*hit', u'0.026*food + 0.011*get + 0.010*good + 0.008*experi + 0.008*servic + 0.007*option + 0.007*sauc + 0.007*best + 0.007*nice + 0.007*dine', u'0.012*food + 0.012*burrito + 0.012*wing + 0.011*frozen + 0.011*make + 0.011*like + 0.011*place + 0.009*fresh + 0.009*would + 0.009*ask', u'0.014*friend + 0.013*good + 0.012*time + 0.010*restaur + 0.010*staff + 0.010*food + 0.010*nice + 0.009*back + 0.009*came + 0.009*go', u'0.044*burger + 0.025*breakfast + 0.018*great + 0.017*menu + 0.017*get + 0.016*also + 0.015*clam + 0.014*tot + 0.012*sport + 0.012*cleveland', u'0.022*food + 0.014*sauc + 0.013*chees + 0.012*would + 0.012*mac + 0.010*servic + 0.009*like + 0.009*bread + 0.009*frozen + 0.008*tast', u'0.035*order + 0.017*food + 0.012*servic + 0.012*said + 0.010*time + 0.010*ask + 0.009*wait + 0.009*got + 0.009*hour + 0.008*get', u'0.015*food + 0.015*place + 0.013*servic + 0.009*good + 0.008*chicken + 0.008*buffet + 0.008*tri + 0.007*chines + 0.007*excel + 0.007*great', u'0.032*place + 0.021*restaur + 0.018*like + 0.012*ever + 0.012*food + 0.011*great + 0.011*year + 0.010*tast + 0.010*italian + 0.010*best', u'0.016*food + 0.016*good + 0.013*place + 0.009*great + 0.009*go + 0.009*restaur + 0.009*like + 0.008*experi + 0.007*would + 0.007*back', u'0.022*food + 0.019*order + 0.018*time + 0.011*great + 0.011*wait + 0.011*minut + 0.010*tabl + 0.009*go + 0.009*servic + 0.008*even', u'0.014*eat + 0.014*servic + 0.012*would + 0.012*good + 0.011*place + 0.009*right + 0.009*booth + 0.009*meal + 0.009*portion + 0.009*get', u'0.028*great + 0.012*fresh + 0.011*yelp + 0.011*definit + 0.010*shrimp + 0.009*aldo + 0.009*lo + 0.009*mein + 0.009*find + 0.009*wanton', u'0.019*time + 0.017*place + 0.012*understand + 0.012*make + 0.011*food + 0.011*employe + 0.011*minut + 0.011*aldo + 0.011*easi + 0.010*restaur', u'0.017*order + 0.015*food + 0.011*u + 0.010*good + 0.009*like + 0.009*would + 0.008*got + 0.008*still + 0.008*get + 0.007*cook', u'0.015*steak + 0.011*servic + 0.009*old + 0.008*alway + 0.008*tast + 0.008*option + 0.008*best + 0.008*today + 0.007*typic + 0.007*shake', u'0.023*food + 0.023*great + 0.016*place + 0.012*good + 0.012*alway + 0.012*even + 0.011*best + 0.010*servic + 0.009*thing + 0.009*server', u'0.021*place + 0.020*would + 0.018*food + 0.016*chicken + 0.011*qualiti + 0.011*went + 0.011*meal + 0.010*full + 0.010*order + 0.009*good', u'0.025*dine + 0.023*like + 0.017*room + 0.016*place + 0.013*food + 0.012*smell + 0.011*great + 0.011*quick + 0.010*item + 0.010*alway', u'0.058*pot + 0.052*hot + 0.021*fish + 0.020*lunch + 0.020*broth + 0.018*ball + 0.016*seafood + 0.015*get + 0.015*good + 0.013*like', u'0.024*place + 0.013*realli + 0.011*food + 0.011*go + 0.011*good + 0.010*get + 0.009*pizza + 0.009*come + 0.008*soup + 0.007*back', u'0.023*chicken + 0.020*never + 0.014*server + 0.011*quick + 0.010*food + 0.010*came + 0.010*attent + 0.009*nice + 0.009*thing + 0.009*experi', u'0.028*good + 0.025*food + 0.017*servic + 0.015*like + 0.012*alway + 0.011*go + 0.011*want + 0.011*margarita + 0.011*qualiti + 0.011*select', u'0.026*order + 0.012*food + 0.010*time + 0.010*bread + 0.009*place + 0.009*one + 0.009*get + 0.009*sure + 0.008*bowl + 0.008*could', u'0.013*time + 0.011*good + 0.011*go + 0.010*onion + 0.010*well + 0.010*bread + 0.008*food + 0.008*order + 0.008*expect + 0.008*wing', u'0.019*food + 0.016*good + 0.015*time + 0.012*burger + 0.011*fri + 0.010*great + 0.010*servic + 0.010*menu + 0.009*tri + 0.008*get', u'0.017*food + 0.015*time + 0.012*chipotl + 0.012*place + 0.011*alway + 0.010*great + 0.010*like + 0.009*love + 0.009*price + 0.009*line', u'0.022*good + 0.022*wing + 0.016*great + 0.015*one + 0.014*panera + 0.014*game + 0.013*soup + 0.012*chees + 0.012*came + 0.008*pretzel', u'0.022*good + 0.020*sushi + 0.018*place + 0.014*get + 0.013*food + 0.010*time + 0.009*pretti + 0.008*order + 0.008*love + 0.008*option', u'0.037*good + 0.027*food + 0.018*great + 0.013*order + 0.012*servic + 0.010*realli + 0.010*place + 0.010*lunch + 0.009*get + 0.008*steak', u'0.046*u + 0.021*tabl + 0.020*minut + 0.018*seat + 0.017*walk + 0.017*food + 0.015*servic + 0.015*time + 0.014*came + 0.013*pretti', u'0.014*ask + 0.014*back + 0.013*like + 0.013*get + 0.010*well + 0.010*go + 0.010*pizza + 0.009*order + 0.009*bar + 0.009*last', u'0.014*would + 0.013*great + 0.011*line + 0.011*free + 0.011*pizza + 0.009*get + 0.009*offer + 0.009*go + 0.009*food + 0.009*peopl', u'0.015*order + 0.012*sauc + 0.010*good + 0.009*food + 0.009*sandwich + 0.009*wrap + 0.009*place + 0.008*italian + 0.008*chicken + 0.008*fresh', u'0.016*sandwich + 0.016*u + 0.013*good + 0.012*fresh + 0.010*ask + 0.010*servic + 0.010*great + 0.010*time + 0.010*glove + 0.010*bartend', u'0.024*order + 0.022*food + 0.017*good + 0.014*servic + 0.011*fri + 0.011*great + 0.010*came + 0.009*chicken + 0.009*go + 0.009*realli', u'0.020*order + 0.019*food + 0.017*time + 0.015*locat + 0.015*pizza + 0.013*four + 0.012*top + 0.010*place + 0.010*never + 0.010*minut', u'0.026*food + 0.012*good + 0.011*like + 0.010*manag + 0.010*would + 0.010*go + 0.009*even + 0.009*card + 0.008*wing + 0.008*tast', u'0.022*servic + 0.017*food + 0.015*wait + 0.015*u + 0.014*server + 0.013*minut + 0.012*night + 0.011*famili + 0.011*restaur + 0.011*order', u'0.017*order + 0.016*food + 0.012*one + 0.011*time + 0.011*servic + 0.010*chicken + 0.009*salad + 0.009*tabl + 0.009*go + 0.009*get', u'0.013*place + 0.011*like + 0.011*go + 0.011*chicken + 0.010*get + 0.008*tast + 0.007*food + 0.007*menu + 0.006*better + 0.006*sure', u'0.028*food + 0.012*get + 0.010*one + 0.010*good + 0.010*area + 0.009*still + 0.008*back + 0.008*servic + 0.007*mani + 0.007*wait', u'0.020*good + 0.017*great + 0.015*one + 0.014*tab + 0.014*stay + 0.014*food + 0.014*walk + 0.013*aldo + 0.013*eat + 0.011*meal', u'0.017*order + 0.016*good + 0.014*food + 0.012*like + 0.011*get + 0.010*place + 0.009*hot + 0.009*one + 0.008*howev + 0.008*disappoint']\n"
     ]
    }
   ],
   "source": [
    "ldamodel = gensim.models.ldamodel.LdaModel(corpus, num_topics=50, id2word = dictionary, passes=20)\n",
    "print(ldamodel.print_topics(topics=50, topn=10))"
   ]
  },
  {
   "cell_type": "code",
   "execution_count": null,
   "metadata": {
    "collapsed": true
   },
   "outputs": [],
   "source": [
    "ldamodel = gensim.models.ldamodel.LdaModel(corpus, num_topics=50, id2word = dictionary, passes=20)\n",
    "print(ldamodel.print_topics(topics=50, topn=10))"
   ]
  },
  {
   "cell_type": "code",
   "execution_count": null,
   "metadata": {
    "collapsed": true
   },
   "outputs": [],
   "source": [
    "ldamodel = gensim.models.ldamodel.LdaModel(corpus, num_topics=50, id2word = dictionary, passes=20)\n",
    "print(ldamodel.print_topics(topics=50, topn=10))"
   ]
  },
  {
   "cell_type": "code",
   "execution_count": null,
   "metadata": {
    "collapsed": true
   },
   "outputs": [],
   "source": [
    "ldamodel = gensim.models.ldamodel.LdaModel(corpus, num_topics=50, id2word = dictionary, passes=20)\n",
    "print(ldamodel.print_topics(topics=50, topn=10))"
   ]
  },
  {
   "cell_type": "code",
   "execution_count": 7,
   "metadata": {
    "collapsed": true
   },
   "outputs": [],
   "source": [
    "ldamodel.save(\"lda_brooklyn.model\")"
   ]
  },
  {
   "cell_type": "code",
   "execution_count": 10,
   "metadata": {
    "collapsed": true
   },
   "outputs": [],
   "source": [
    "model =  gensim.models.LdaModel.load('lda_brooklyn.model')"
   ]
  },
  {
   "cell_type": "code",
   "execution_count": 11,
   "metadata": {
    "scrolled": true
   },
   "outputs": [
    {
     "data": {
      "text/plain": [
       "[u'0.016*time + 0.015*food + 0.011*dessert + 0.011*one + 0.010*aldo + 0.009*meal + 0.009*wing + 0.009*fresh + 0.008*enjoy + 0.008*first + 0.008*order + 0.007*dinner + 0.007*servic + 0.007*back + 0.007*visit + 0.007*place + 0.007*salad + 0.006*delici + 0.006*like + 0.006*sauc + 0.006*ever + 0.006*wonder + 0.005*nice + 0.005*let + 0.005*great + 0.005*restaur + 0.005*use + 0.005*notic + 0.005*tender + 0.005*menu',\n",
       " u'0.023*place + 0.018*food + 0.012*realli + 0.011*like + 0.010*thing + 0.009*bread + 0.008*time + 0.008*go + 0.008*much + 0.008*restaur + 0.008*tabl + 0.007*chees + 0.007*busi + 0.006*u + 0.006*get + 0.006*everyth + 0.006*serv + 0.006*love + 0.005*good + 0.005*atmospher + 0.005*friend + 0.005*game + 0.005*peopl + 0.005*someon + 0.005*servic + 0.005*old + 0.005*visit + 0.004*order + 0.004*great + 0.004*attent',\n",
       " u'0.020*give + 0.014*year + 0.013*anoth + 0.013*u + 0.013*polit + 0.013*past + 0.013*occasion + 0.007*head + 0.007*white + 0.007*everyth + 0.007*chain + 0.007*got + 0.007*said + 0.007*even + 0.007*eat + 0.007*pretti + 0.007*bread + 0.007*00 + 0.007*bad + 0.007*round + 0.007*well + 0.007*realli + 0.007*better + 0.007*run + 0.007*servic + 0.007*steak + 0.007*nation + 0.007*much + 0.007*tast + 0.007*problem',\n",
       " u'0.013*good + 0.011*like + 0.010*food + 0.010*place + 0.010*order + 0.009*go + 0.009*eat + 0.009*got + 0.008*would + 0.007*steak + 0.007*roll + 0.006*tri + 0.006*back + 0.006*came + 0.006*side + 0.006*two + 0.005*get + 0.005*well + 0.005*cook + 0.005*take + 0.005*also + 0.005*drink + 0.005*friday + 0.005*time + 0.005*friend + 0.004*could + 0.004*texa + 0.004*dinner + 0.004*beer + 0.004*fri',\n",
       " u'0.013*side + 0.013*great + 0.010*good + 0.010*server + 0.010*short + 0.010*steak + 0.010*medallion + 0.010*filet + 0.007*stop + 0.007*two + 0.007*look + 0.007*would + 0.007*love + 0.007*time + 0.007*like + 0.007*place + 0.007*went + 0.007*meal + 0.007*one + 0.007*lunch + 0.007*quit + 0.007*wait + 0.007*drive + 0.007*u + 0.007*shake + 0.007*hour + 0.007*never + 0.007*chain + 0.007*left + 0.007*see',\n",
       " u'0.017*supervis + 0.017*depend + 0.016*parent + 0.014*employe + 0.013*busi + 0.008*love + 0.008*great + 0.008*custom + 0.008*flavor + 0.008*especi + 0.008*servic + 0.008*amaz + 0.008*dip + 0.008*thank + 0.008*show + 0.008*excel + 0.008*barmaid + 0.008*rush + 0.008*blanco + 0.008*proport + 0.008*queso + 0.008*awesom + 0.008*guacamol + 0.008*gorg + 0.008*cleanli + 0.008*tricki + 0.008*necessarili + 0.008*chao + 0.008*easter + 0.008*willing',\n",
       " u'0.021*chines + 0.019*food + 0.016*bay + 0.016*china + 0.014*good + 0.013*place + 0.012*peopl + 0.010*time + 0.010*order + 0.009*hit + 0.009*miss + 0.009*take + 0.008*delici + 0.008*know + 0.008*everi + 0.007*flavor + 0.007*eat + 0.007*neighborhood + 0.007*even + 0.006*rice + 0.006*kid + 0.006*best + 0.006*need + 0.006*phone + 0.006*appreci + 0.006*ride + 0.006*horribl + 0.006*long + 0.006*etc + 0.006*chipotl',\n",
       " u'0.026*food + 0.011*get + 0.010*good + 0.008*experi + 0.008*servic + 0.007*option + 0.007*sauc + 0.007*best + 0.007*nice + 0.007*dine + 0.007*price + 0.007*like + 0.007*ever + 0.007*thing + 0.006*would + 0.006*tabl + 0.006*come + 0.006*wait + 0.006*pot + 0.006*rice + 0.006*most + 0.006*everyth + 0.006*feel + 0.006*noth + 0.006*bland + 0.006*place + 0.006*lot + 0.005*ingredi + 0.005*flavor + 0.005*meat',\n",
       " u'0.012*food + 0.012*burrito + 0.012*wing + 0.011*frozen + 0.011*make + 0.011*like + 0.011*place + 0.009*fresh + 0.009*would + 0.009*ask + 0.009*custom + 0.009*item + 0.009*buy + 0.009*chees + 0.009*servic + 0.008*fri + 0.008*order + 0.008*someth + 0.008*pretti + 0.008*look + 0.006*staff + 0.006*realli + 0.006*new + 0.006*write + 0.006*mess + 0.006*absolut + 0.006*fare + 0.006*cloth + 0.006*midwest + 0.006*think',\n",
       " u'0.014*friend + 0.013*good + 0.012*time + 0.010*restaur + 0.010*staff + 0.010*food + 0.010*nice + 0.009*back + 0.009*came + 0.009*go + 0.008*atmospher + 0.008*great + 0.008*love + 0.008*come + 0.007*comfort + 0.007*place + 0.007*got + 0.007*meal + 0.007*realli + 0.006*awesom + 0.006*servic + 0.006*perfect + 0.006*want + 0.006*get + 0.006*first + 0.006*look + 0.006*top + 0.006*bill + 0.005*even + 0.005*price',\n",
       " u'0.044*burger + 0.025*breakfast + 0.018*great + 0.017*menu + 0.017*get + 0.016*also + 0.015*clam + 0.014*tot + 0.012*sport + 0.012*cleveland + 0.011*attent + 0.010*would + 0.010*serv + 0.009*mayb + 0.009*best + 0.009*xt + 0.009*hunk + 0.009*tater + 0.009*featur + 0.009*top + 0.009*monday + 0.008*way + 0.008*includ + 0.008*one + 0.007*slider + 0.007*corn + 0.007*sit + 0.007*like + 0.006*restaur + 0.006*beef',\n",
       " u'0.022*food + 0.014*sauc + 0.013*chees + 0.012*would + 0.012*mac + 0.010*servic + 0.009*like + 0.009*bread + 0.009*frozen + 0.008*tast + 0.008*wing + 0.007*order + 0.007*look + 0.007*dinner + 0.007*go + 0.007*reason + 0.006*dish + 0.006*eat + 0.006*spici + 0.006*tri + 0.006*chicken + 0.006*ask + 0.005*best + 0.005*right + 0.005*famili + 0.005*time + 0.005*one + 0.005*nice + 0.005*butter + 0.005*friend',\n",
       " u'0.035*order + 0.017*food + 0.012*servic + 0.012*said + 0.010*time + 0.010*ask + 0.009*wait + 0.009*got + 0.009*hour + 0.008*get + 0.008*u + 0.008*half + 0.007*fast + 0.007*gave + 0.006*went + 0.006*call + 0.006*minut + 0.006*one + 0.006*first + 0.006*need + 0.006*employe + 0.006*drive + 0.006*custom + 0.005*manag + 0.005*anoth + 0.005*give + 0.005*back + 0.005*waitress + 0.005*restaur + 0.005*well',\n",
       " u'0.015*food + 0.015*place + 0.013*servic + 0.009*good + 0.008*chicken + 0.008*buffet + 0.008*tri + 0.007*chines + 0.007*excel + 0.007*great + 0.007*experi + 0.005*like + 0.005*hot + 0.005*went + 0.005*peopl + 0.005*time + 0.005*option + 0.005*go + 0.005*fresh + 0.005*fish + 0.005*sushi + 0.004*best + 0.004*come + 0.004*light + 0.004*wast + 0.004*soup + 0.004*homemad + 0.004*back + 0.004*empti + 0.004*make',\n",
       " u'0.032*place + 0.021*restaur + 0.018*like + 0.012*ever + 0.012*food + 0.011*great + 0.011*year + 0.010*tast + 0.010*italian + 0.010*best + 0.009*dirti + 0.009*special + 0.009*tri + 0.009*eat + 0.008*said + 0.008*never + 0.008*servic + 0.008*alway + 0.008*time + 0.008*would + 0.008*realli + 0.008*manag + 0.007*far + 0.007*ask + 0.007*go + 0.007*seem + 0.007*dish + 0.007*experi + 0.006*feel + 0.006*sauc',\n",
       " u'0.016*food + 0.016*good + 0.013*place + 0.009*great + 0.009*go + 0.009*restaur + 0.009*like + 0.008*experi + 0.007*would + 0.007*back + 0.007*fri + 0.007*time + 0.007*burger + 0.006*eat + 0.006*steak + 0.006*better + 0.006*expect + 0.006*one + 0.006*shake + 0.006*came + 0.006*order + 0.005*think + 0.005*serv + 0.005*fresh + 0.005*review + 0.005*also + 0.005*much + 0.005*sinc + 0.005*drink + 0.005*went',\n",
       " u'0.022*food + 0.019*order + 0.018*time + 0.011*great + 0.011*wait + 0.011*minut + 0.010*tabl + 0.009*go + 0.009*servic + 0.008*even + 0.008*drink + 0.008*waiter + 0.008*take + 0.008*check + 0.008*took + 0.007*place + 0.007*like + 0.006*two + 0.006*one + 0.006*brought + 0.006*seat + 0.006*regular + 0.006*come + 0.005*special + 0.005*make + 0.005*also + 0.005*good + 0.005*get + 0.005*cold + 0.005*day',\n",
       " u'0.014*eat + 0.014*servic + 0.012*would + 0.012*good + 0.011*place + 0.009*right + 0.009*booth + 0.009*meal + 0.009*portion + 0.009*get + 0.008*lunch + 0.008*want + 0.008*cook + 0.008*steak + 0.008*order + 0.008*love + 0.007*came + 0.007*expect + 0.007*limit + 0.007*server + 0.007*squid + 0.006*rice + 0.006*come + 0.006*bad + 0.006*went + 0.006*side + 0.006*start + 0.006*sweet + 0.006*food + 0.006*brown',\n",
       " u'0.028*great + 0.012*fresh + 0.011*yelp + 0.011*definit + 0.010*shrimp + 0.009*aldo + 0.009*lo + 0.009*mein + 0.009*find + 0.009*wanton + 0.009*bw3 + 0.009*soup + 0.009*entre + 0.009*dessert + 0.009*prima + 0.009*vera + 0.009*itali + 0.009*visit + 0.009*custom + 0.009*angel + 0.009*sinc + 0.008*food + 0.008*found + 0.008*lunch + 0.007*friend + 0.007*servic + 0.006*veget + 0.005*dish + 0.005*side + 0.005*got',\n",
       " u'0.019*time + 0.017*place + 0.012*understand + 0.012*make + 0.011*food + 0.011*employe + 0.011*minut + 0.011*aldo + 0.011*easi + 0.010*restaur + 0.009*back + 0.009*better + 0.008*impress + 0.008*manag + 0.008*mayb + 0.008*long + 0.007*old + 0.006*recommend + 0.006*busi + 0.006*friend + 0.006*around + 0.006*realli + 0.006*excel + 0.006*good + 0.006*come + 0.005*drive + 0.005*could + 0.005*care + 0.005*wine + 0.005*person',\n",
       " u'0.017*order + 0.015*food + 0.011*u + 0.010*good + 0.009*like + 0.009*would + 0.008*got + 0.008*still + 0.008*get + 0.007*cook + 0.007*time + 0.007*bread + 0.007*one + 0.007*chicken + 0.007*right + 0.007*server + 0.007*came + 0.007*seat + 0.006*servic + 0.006*look + 0.006*took + 0.006*ask + 0.006*back + 0.006*even + 0.006*come + 0.006*realli + 0.006*wait + 0.006*meal + 0.006*fri + 0.006*tast',\n",
       " u'0.015*steak + 0.011*servic + 0.009*old + 0.008*alway + 0.008*tast + 0.008*option + 0.008*best + 0.008*today + 0.007*typic + 0.007*shake + 0.006*authent + 0.006*hit + 0.006*mexican + 0.006*bread + 0.006*spot + 0.006*home + 0.006*usual + 0.006*beef + 0.006*like + 0.006*good + 0.006*food + 0.006*shall + 0.006*snake + 0.006*gringo + 0.006*kale + 0.006*chimichanga + 0.006*drench + 0.006*year + 0.006*score + 0.006*nation',\n",
       " u'0.023*food + 0.023*great + 0.016*place + 0.012*good + 0.012*alway + 0.012*even + 0.011*best + 0.010*servic + 0.009*thing + 0.009*server + 0.008*beer + 0.008*love + 0.008*time + 0.008*come + 0.007*like + 0.007*amaz + 0.007*least + 0.006*pretti + 0.006*fast + 0.006*get + 0.006*area + 0.006*know + 0.006*special + 0.006*sausag + 0.006*stuff + 0.006*super + 0.006*friend + 0.006*waitress + 0.006*veggi + 0.005*make',\n",
       " u'0.021*place + 0.020*would + 0.018*food + 0.016*chicken + 0.011*qualiti + 0.011*went + 0.011*meal + 0.010*full + 0.010*order + 0.009*good + 0.009*price + 0.009*italian + 0.009*hous + 0.009*portion + 0.008*atmospher + 0.008*time + 0.008*small + 0.007*nice + 0.007*around + 0.007*definit + 0.007*real + 0.007*waitress + 0.007*like + 0.007*two + 0.007*dinner + 0.006*often + 0.006*go + 0.006*eat + 0.006*famili + 0.006*one',\n",
       " u'0.025*dine + 0.023*like + 0.017*room + 0.016*place + 0.013*food + 0.012*smell + 0.011*great + 0.011*quick + 0.010*item + 0.010*alway + 0.009*anoth + 0.009*restaur + 0.009*higher + 0.009*feel + 0.009*time + 0.009*famili + 0.008*around + 0.008*get + 0.008*servic + 0.008*server + 0.007*chees + 0.007*stink + 0.007*mustard + 0.007*sound + 0.007*appet + 0.007*turn + 0.007*clean + 0.007*worker + 0.007*tabl + 0.007*tasti',\n",
       " u'0.058*pot + 0.052*hot + 0.021*fish + 0.020*lunch + 0.020*broth + 0.018*ball + 0.016*seafood + 0.015*get + 0.015*good + 0.013*like + 0.013*sushi + 0.013*great + 0.013*eat + 0.012*larg + 0.012*price + 0.012*tofu + 0.011*special + 0.010*restaur + 0.009*also + 0.009*make + 0.009*99 + 0.008*10 + 0.008*time + 0.007*wast + 0.007*soup + 0.007*nice + 0.007*kind + 0.007*lamb + 0.007*visit + 0.007*enough',\n",
       " u'0.024*place + 0.013*realli + 0.011*food + 0.011*go + 0.011*good + 0.010*get + 0.009*pizza + 0.009*come + 0.008*soup + 0.007*back + 0.007*littl + 0.007*servic + 0.007*menu + 0.007*sushi + 0.007*amaz + 0.007*felt + 0.007*pasta + 0.007*like + 0.007*restaur + 0.007*flavor + 0.007*best + 0.006*eat + 0.006*tast + 0.006*italian + 0.006*dish + 0.006*fresh + 0.006*friend + 0.006*look + 0.006*got + 0.006*salad',\n",
       " u'0.023*chicken + 0.020*never + 0.014*server + 0.011*quick + 0.010*food + 0.010*came + 0.010*attent + 0.009*nice + 0.009*thing + 0.009*experi + 0.009*want + 0.008*ask + 0.008*seat + 0.007*order + 0.007*u + 0.007*visit + 0.007*realli + 0.007*worst + 0.007*game + 0.007*wing + 0.007*way + 0.007*bad + 0.007*got + 0.007*plastic + 0.007*miss + 0.007*stop + 0.007*deliv + 0.007*everyth + 0.007*check + 0.007*although',\n",
       " u'0.028*good + 0.025*food + 0.017*servic + 0.015*like + 0.012*alway + 0.011*go + 0.011*want + 0.011*margarita + 0.011*qualiti + 0.011*select + 0.008*great + 0.008*restaur + 0.007*breakfast + 0.007*time + 0.007*wife + 0.007*menu + 0.007*countri + 0.007*pepper + 0.007*odd + 0.007*fantast + 0.007*color + 0.007*item + 0.007*owner + 0.007*review + 0.007*order + 0.004*clean + 0.004*staff + 0.004*well + 0.004*fresh + 0.004*hot',\n",
       " u'0.026*order + 0.012*food + 0.010*time + 0.010*bread + 0.009*place + 0.009*one + 0.009*get + 0.009*sure + 0.008*bowl + 0.008*could + 0.008*make + 0.008*told + 0.007*long + 0.007*locat + 0.007*ask + 0.007*back + 0.007*menu + 0.007*good + 0.006*said + 0.006*wait + 0.006*deliveri + 0.006*tabl + 0.006*u + 0.006*never + 0.006*drink + 0.005*cold + 0.005*manag + 0.005*even + 0.005*want + 0.005*done',\n",
       " u'0.013*time + 0.011*good + 0.011*go + 0.010*onion + 0.010*well + 0.010*bread + 0.008*food + 0.008*order + 0.008*expect + 0.008*wing + 0.008*like + 0.008*place + 0.008*back + 0.007*steak + 0.007*coupl + 0.007*think + 0.007*would + 0.007*visit + 0.007*actual + 0.007*mac + 0.007*servic + 0.006*slider + 0.006*area + 0.006*walk + 0.006*one + 0.006*wall + 0.006*hous + 0.006*friend + 0.006*realli + 0.006*even',\n",
       " u'0.019*food + 0.016*good + 0.015*time + 0.012*burger + 0.011*fri + 0.010*great + 0.010*servic + 0.010*menu + 0.009*tri + 0.008*get + 0.007*love + 0.007*would + 0.007*clear + 0.007*sandwich + 0.007*chees + 0.006*place + 0.006*price + 0.006*better + 0.006*like + 0.006*fresh + 0.006*alway + 0.006*pepper + 0.006*best + 0.006*pizza + 0.006*enchilada + 0.005*taco + 0.005*huge + 0.005*plenti + 0.005*mexican + 0.005*plus',\n",
       " u'0.017*food + 0.015*time + 0.012*chipotl + 0.012*place + 0.011*alway + 0.010*great + 0.010*like + 0.009*love + 0.009*price + 0.009*line + 0.008*good + 0.008*go + 0.007*way + 0.007*servic + 0.006*meal + 0.006*manag + 0.006*eat + 0.006*pick + 0.005*work + 0.005*husband + 0.005*enjoy + 0.005*busi + 0.005*big + 0.005*plaza + 0.005*brooklyn + 0.005*week + 0.005*last + 0.005*everi + 0.004*also + 0.004*hope',\n",
       " u'0.022*good + 0.022*wing + 0.016*great + 0.015*one + 0.014*panera + 0.014*game + 0.013*soup + 0.012*chees + 0.012*came + 0.008*pretzel + 0.008*appl + 0.008*cav + 0.008*bad + 0.008*better + 0.007*made + 0.007*nice + 0.007*go + 0.007*enjoy + 0.007*sandwich + 0.007*bread + 0.006*super + 0.006*best + 0.006*order + 0.005*get + 0.005*disappoint + 0.005*anoth + 0.005*night + 0.005*flatbread + 0.005*fri + 0.005*star',\n",
       " u'0.022*good + 0.020*sushi + 0.018*place + 0.014*get + 0.013*food + 0.010*time + 0.009*pretti + 0.008*order + 0.008*love + 0.008*option + 0.007*hibachi + 0.007*tri + 0.007*fish + 0.007*tabl + 0.007*friend + 0.007*high + 0.007*one + 0.007*roll + 0.006*would + 0.006*great + 0.006*best + 0.006*price + 0.006*restaur + 0.005*buffet + 0.005*like + 0.005*told + 0.005*look + 0.005*clean + 0.005*menu + 0.005*servic',\n",
       " u'0.037*good + 0.027*food + 0.018*great + 0.013*order + 0.012*servic + 0.010*realli + 0.010*place + 0.010*lunch + 0.009*get + 0.008*steak + 0.008*nice + 0.007*go + 0.007*usual + 0.007*wing + 0.006*make + 0.006*price + 0.006*hot + 0.006*qualiti + 0.006*u + 0.006*portion + 0.006*friend + 0.006*also + 0.006*thing + 0.005*time + 0.005*still + 0.005*back + 0.005*one + 0.005*would + 0.005*got + 0.005*know',\n",
       " u'0.046*u + 0.021*tabl + 0.020*minut + 0.018*seat + 0.017*walk + 0.017*food + 0.015*servic + 0.015*time + 0.014*came + 0.013*pretti + 0.013*told + 0.012*manag + 0.011*good + 0.011*busi + 0.010*get + 0.010*everyon + 0.009*wait + 0.009*place + 0.008*come + 0.008*one + 0.008*around + 0.008*first + 0.007*saw + 0.007*night + 0.007*look + 0.007*said + 0.007*go + 0.007*want + 0.007*20 + 0.006*waitress',\n",
       " u'0.014*ask + 0.014*back + 0.013*like + 0.013*get + 0.010*well + 0.010*go + 0.010*pizza + 0.009*order + 0.009*bar + 0.009*last + 0.008*tell + 0.008*would + 0.008*owner + 0.008*point + 0.006*got + 0.006*one + 0.006*food + 0.006*told + 0.006*time + 0.006*minut + 0.006*first + 0.006*great + 0.006*burnt + 0.005*money + 0.005*manag + 0.005*chipotl + 0.005*busi + 0.005*phone + 0.005*chicken + 0.005*love',\n",
       " u'0.014*would + 0.013*great + 0.011*line + 0.011*free + 0.011*pizza + 0.009*get + 0.009*offer + 0.009*go + 0.009*food + 0.009*peopl + 0.009*two + 0.009*brought + 0.009*seem + 0.009*restaur + 0.009*drink + 0.008*serv + 0.008*minut + 0.008*came + 0.008*order + 0.007*expect + 0.007*check + 0.007*star + 0.007*box + 0.007*waiter + 0.007*craft + 0.007*buy + 0.007*apolog + 0.007*final + 0.006*took + 0.006*quick',\n",
       " u'0.015*order + 0.012*sauc + 0.010*good + 0.009*food + 0.009*sandwich + 0.009*wrap + 0.009*place + 0.008*italian + 0.008*chicken + 0.008*fresh + 0.007*could + 0.007*wait + 0.007*like + 0.006*bread + 0.006*also + 0.006*friend + 0.006*know + 0.006*review + 0.006*back + 0.006*romanburg + 0.006*star + 0.005*time + 0.005*thin + 0.005*hot + 0.005*perfect + 0.005*made + 0.005*light + 0.005*one + 0.005*fri + 0.005*wife',\n",
       " u'0.016*sandwich + 0.016*u + 0.013*good + 0.012*fresh + 0.010*ask + 0.010*servic + 0.010*great + 0.010*time + 0.010*glove + 0.010*bartend + 0.009*restaur + 0.009*staff + 0.009*back + 0.008*mani + 0.008*food + 0.007*side + 0.007*first + 0.007*well + 0.007*place + 0.007*pasta + 0.007*friend + 0.007*check + 0.007*without + 0.007*wife + 0.007*kitchen + 0.007*notic + 0.007*wear + 0.007*make + 0.007*silverwar + 0.007*find',\n",
       " u'0.024*order + 0.022*food + 0.017*good + 0.014*servic + 0.011*fri + 0.011*great + 0.010*came + 0.009*chicken + 0.009*go + 0.009*realli + 0.009*back + 0.008*waitress + 0.007*say + 0.007*side + 0.007*love + 0.006*chees + 0.006*anyth + 0.006*son + 0.006*place + 0.006*margarita + 0.006*onion + 0.006*eat + 0.006*ring + 0.006*wonder + 0.006*tabl + 0.005*would + 0.005*got + 0.005*serv + 0.005*alway + 0.005*tast',\n",
       " u'0.020*order + 0.019*food + 0.017*time + 0.015*locat + 0.015*pizza + 0.013*four + 0.012*top + 0.010*place + 0.010*never + 0.010*minut + 0.009*friend + 0.009*good + 0.009*great + 0.009*wait + 0.009*call + 0.008*wing + 0.007*hous + 0.007*lot + 0.007*servic + 0.007*receiv + 0.007*parti + 0.007*best + 0.007*use + 0.007*bar + 0.006*10 + 0.006*go + 0.005*plenti + 0.005*pub + 0.005*hooley + 0.005*speak',\n",
       " u'0.026*food + 0.012*good + 0.011*like + 0.010*manag + 0.010*would + 0.010*go + 0.009*even + 0.009*card + 0.008*wing + 0.008*tast + 0.007*eat + 0.007*much + 0.007*got + 0.007*gift + 0.007*rooster + 0.007*final + 0.007*servic + 0.007*buffet + 0.006*week + 0.006*seem + 0.006*locat + 0.006*want + 0.006*look + 0.006*back + 0.006*call + 0.006*u + 0.006*say + 0.005*doubl + 0.005*order + 0.005*busi',\n",
       " u'0.022*servic + 0.017*food + 0.015*wait + 0.015*u + 0.014*server + 0.013*minut + 0.012*night + 0.011*famili + 0.011*restaur + 0.011*order + 0.010*pretti + 0.010*custom + 0.010*drink + 0.010*tabl + 0.008*came + 0.008*experi + 0.008*good + 0.008*sauc + 0.008*money + 0.008*one + 0.007*back + 0.007*get + 0.007*steak + 0.007*seat + 0.006*locat + 0.006*barbequ + 0.006*seem + 0.006*watch + 0.006*10 + 0.006*friday',\n",
       " u'0.017*order + 0.016*food + 0.012*one + 0.011*time + 0.011*servic + 0.010*chicken + 0.009*salad + 0.009*tabl + 0.009*go + 0.009*get + 0.008*littl + 0.008*ask + 0.008*place + 0.007*realli + 0.007*took + 0.007*good + 0.006*sauc + 0.006*like + 0.006*even + 0.006*back + 0.006*would + 0.006*day + 0.006*want + 0.006*come + 0.005*drink + 0.005*said + 0.005*got + 0.005*never + 0.005*pretti + 0.005*server',\n",
       " u'0.013*place + 0.011*like + 0.011*go + 0.011*chicken + 0.010*get + 0.008*tast + 0.007*food + 0.007*menu + 0.006*better + 0.006*sure + 0.006*cook + 0.006*thing + 0.006*order + 0.006*one + 0.006*mexican + 0.006*back + 0.005*good + 0.005*wing + 0.005*alway + 0.005*bad + 0.005*use + 0.005*dinner + 0.005*great + 0.005*full + 0.005*friend + 0.005*u + 0.005*tri + 0.005*said + 0.005*much + 0.004*would',\n",
       " u'0.028*food + 0.012*get + 0.010*one + 0.010*good + 0.010*area + 0.009*still + 0.008*back + 0.008*servic + 0.007*mani + 0.007*wait + 0.007*around + 0.007*plate + 0.007*etc + 0.007*friday + 0.007*almost + 0.007*well + 0.006*come + 0.006*go + 0.006*clean + 0.006*never + 0.006*alway + 0.005*eat + 0.005*lunch + 0.005*cracker + 0.005*barrel + 0.005*peopl + 0.005*horribl + 0.005*price + 0.005*would + 0.005*total',\n",
       " u'0.020*good + 0.017*great + 0.015*one + 0.014*tab + 0.014*stay + 0.014*food + 0.014*walk + 0.013*aldo + 0.013*eat + 0.011*meal + 0.011*wine + 0.010*birthday + 0.008*found + 0.008*order + 0.008*servic + 0.008*place + 0.007*wrap + 0.007*big + 0.007*server + 0.007*went + 0.007*pretti + 0.007*bad + 0.007*nice + 0.007*time + 0.007*got + 0.007*never + 0.007*mix + 0.007*stori + 0.007*purpos + 0.007*care',\n",
       " u'0.017*order + 0.016*good + 0.014*food + 0.012*like + 0.011*get + 0.010*place + 0.009*hot + 0.009*one + 0.008*howev + 0.008*disappoint + 0.007*dish + 0.007*side + 0.007*chicken + 0.007*restaur + 0.007*make + 0.007*ask + 0.007*crispi + 0.006*wing + 0.006*go + 0.006*alway + 0.006*fresh + 0.006*love + 0.006*meat + 0.006*come + 0.006*time + 0.006*lunch + 0.005*pretti + 0.005*well + 0.005*sauc + 0.005*even']"
      ]
     },
     "execution_count": 11,
     "metadata": {},
     "output_type": "execute_result"
    }
   ],
   "source": [
    "model.print_topics(50,topn=30)"
   ]
  },
  {
   "cell_type": "markdown",
   "metadata": {},
   "source": [
    "### Word Cloud generator"
   ]
  },
  {
   "cell_type": "code",
   "execution_count": 12,
   "metadata": {
    "collapsed": true
   },
   "outputs": [],
   "source": [
    "from wordcloud import WordCloud\n",
    "import matplotlib.pyplot as plt"
   ]
  },
  {
   "cell_type": "code",
   "execution_count": 13,
   "metadata": {},
   "outputs": [
    {
     "name": "stdout",
     "output_type": "stream",
     "text": [
      "[u'0.016*time + 0.015*food + 0.011*dessert + 0.011*one + 0.010*aldo + 0.009*meal + 0.009*wing + 0.009*fresh + 0.008*enjoy + 0.008*first', u'0.023*place + 0.018*food + 0.012*realli + 0.011*like + 0.010*thing + 0.009*bread + 0.008*time + 0.008*go + 0.008*much + 0.008*restaur', u'0.020*give + 0.014*year + 0.013*anoth + 0.013*u + 0.013*polit + 0.013*past + 0.013*occasion + 0.007*head + 0.007*white + 0.007*everyth', u'0.013*good + 0.011*like + 0.010*food + 0.010*place + 0.010*order + 0.009*go + 0.009*eat + 0.009*got + 0.008*would + 0.007*steak', u'0.013*side + 0.013*great + 0.010*good + 0.010*server + 0.010*short + 0.010*steak + 0.010*medallion + 0.010*filet + 0.007*stop + 0.007*two', u'0.017*supervis + 0.017*depend + 0.016*parent + 0.014*employe + 0.013*busi + 0.008*love + 0.008*great + 0.008*custom + 0.008*flavor + 0.008*especi', u'0.021*chines + 0.019*food + 0.016*bay + 0.016*china + 0.014*good + 0.013*place + 0.012*peopl + 0.010*time + 0.010*order + 0.009*hit', u'0.026*food + 0.011*get + 0.010*good + 0.008*experi + 0.008*servic + 0.007*option + 0.007*sauc + 0.007*best + 0.007*nice + 0.007*dine', u'0.012*food + 0.012*burrito + 0.012*wing + 0.011*frozen + 0.011*make + 0.011*like + 0.011*place + 0.009*fresh + 0.009*would + 0.009*ask', u'0.014*friend + 0.013*good + 0.012*time + 0.010*restaur + 0.010*staff + 0.010*food + 0.010*nice + 0.009*back + 0.009*came + 0.009*go', u'0.044*burger + 0.025*breakfast + 0.018*great + 0.017*menu + 0.017*get + 0.016*also + 0.015*clam + 0.014*tot + 0.012*sport + 0.012*cleveland', u'0.022*food + 0.014*sauc + 0.013*chees + 0.012*would + 0.012*mac + 0.010*servic + 0.009*like + 0.009*bread + 0.009*frozen + 0.008*tast', u'0.035*order + 0.017*food + 0.012*servic + 0.012*said + 0.010*time + 0.010*ask + 0.009*wait + 0.009*got + 0.009*hour + 0.008*get', u'0.015*food + 0.015*place + 0.013*servic + 0.009*good + 0.008*chicken + 0.008*buffet + 0.008*tri + 0.007*chines + 0.007*excel + 0.007*great', u'0.032*place + 0.021*restaur + 0.018*like + 0.012*ever + 0.012*food + 0.011*great + 0.011*year + 0.010*tast + 0.010*italian + 0.010*best', u'0.016*food + 0.016*good + 0.013*place + 0.009*great + 0.009*go + 0.009*restaur + 0.009*like + 0.008*experi + 0.007*would + 0.007*back', u'0.022*food + 0.019*order + 0.018*time + 0.011*great + 0.011*wait + 0.011*minut + 0.010*tabl + 0.009*go + 0.009*servic + 0.008*even', u'0.014*eat + 0.014*servic + 0.012*would + 0.012*good + 0.011*place + 0.009*right + 0.009*booth + 0.009*meal + 0.009*portion + 0.009*get', u'0.028*great + 0.012*fresh + 0.011*yelp + 0.011*definit + 0.010*shrimp + 0.009*aldo + 0.009*lo + 0.009*mein + 0.009*find + 0.009*wanton', u'0.019*time + 0.017*place + 0.012*understand + 0.012*make + 0.011*food + 0.011*employe + 0.011*minut + 0.011*aldo + 0.011*easi + 0.010*restaur', u'0.017*order + 0.015*food + 0.011*u + 0.010*good + 0.009*like + 0.009*would + 0.008*got + 0.008*still + 0.008*get + 0.007*cook', u'0.015*steak + 0.011*servic + 0.009*old + 0.008*alway + 0.008*tast + 0.008*option + 0.008*best + 0.008*today + 0.007*typic + 0.007*shake', u'0.023*food + 0.023*great + 0.016*place + 0.012*good + 0.012*alway + 0.012*even + 0.011*best + 0.010*servic + 0.009*thing + 0.009*server', u'0.021*place + 0.020*would + 0.018*food + 0.016*chicken + 0.011*qualiti + 0.011*went + 0.011*meal + 0.010*full + 0.010*order + 0.009*good', u'0.025*dine + 0.023*like + 0.017*room + 0.016*place + 0.013*food + 0.012*smell + 0.011*great + 0.011*quick + 0.010*item + 0.010*alway', u'0.058*pot + 0.052*hot + 0.021*fish + 0.020*lunch + 0.020*broth + 0.018*ball + 0.016*seafood + 0.015*get + 0.015*good + 0.013*like', u'0.024*place + 0.013*realli + 0.011*food + 0.011*go + 0.011*good + 0.010*get + 0.009*pizza + 0.009*come + 0.008*soup + 0.007*back', u'0.023*chicken + 0.020*never + 0.014*server + 0.011*quick + 0.010*food + 0.010*came + 0.010*attent + 0.009*nice + 0.009*thing + 0.009*experi', u'0.028*good + 0.025*food + 0.017*servic + 0.015*like + 0.012*alway + 0.011*go + 0.011*want + 0.011*margarita + 0.011*qualiti + 0.011*select', u'0.026*order + 0.012*food + 0.010*time + 0.010*bread + 0.009*place + 0.009*one + 0.009*get + 0.009*sure + 0.008*bowl + 0.008*could', u'0.013*time + 0.011*good + 0.011*go + 0.010*onion + 0.010*well + 0.010*bread + 0.008*food + 0.008*order + 0.008*expect + 0.008*wing', u'0.019*food + 0.016*good + 0.015*time + 0.012*burger + 0.011*fri + 0.010*great + 0.010*servic + 0.010*menu + 0.009*tri + 0.008*get', u'0.017*food + 0.015*time + 0.012*chipotl + 0.012*place + 0.011*alway + 0.010*great + 0.010*like + 0.009*love + 0.009*price + 0.009*line', u'0.022*good + 0.022*wing + 0.016*great + 0.015*one + 0.014*panera + 0.014*game + 0.013*soup + 0.012*chees + 0.012*came + 0.008*pretzel', u'0.022*good + 0.020*sushi + 0.018*place + 0.014*get + 0.013*food + 0.010*time + 0.009*pretti + 0.008*order + 0.008*love + 0.008*option', u'0.037*good + 0.027*food + 0.018*great + 0.013*order + 0.012*servic + 0.010*realli + 0.010*place + 0.010*lunch + 0.009*get + 0.008*steak', u'0.046*u + 0.021*tabl + 0.020*minut + 0.018*seat + 0.017*walk + 0.017*food + 0.015*servic + 0.015*time + 0.014*came + 0.013*pretti', u'0.014*ask + 0.014*back + 0.013*like + 0.013*get + 0.010*well + 0.010*go + 0.010*pizza + 0.009*order + 0.009*bar + 0.009*last', u'0.014*would + 0.013*great + 0.011*line + 0.011*free + 0.011*pizza + 0.009*get + 0.009*offer + 0.009*go + 0.009*food + 0.009*peopl', u'0.015*order + 0.012*sauc + 0.010*good + 0.009*food + 0.009*sandwich + 0.009*wrap + 0.009*place + 0.008*italian + 0.008*chicken + 0.008*fresh', u'0.016*sandwich + 0.016*u + 0.013*good + 0.012*fresh + 0.010*ask + 0.010*servic + 0.010*great + 0.010*time + 0.010*glove + 0.010*bartend', u'0.024*order + 0.022*food + 0.017*good + 0.014*servic + 0.011*fri + 0.011*great + 0.010*came + 0.009*chicken + 0.009*go + 0.009*realli', u'0.020*order + 0.019*food + 0.017*time + 0.015*locat + 0.015*pizza + 0.013*four + 0.012*top + 0.010*place + 0.010*never + 0.010*minut', u'0.026*food + 0.012*good + 0.011*like + 0.010*manag + 0.010*would + 0.010*go + 0.009*even + 0.009*card + 0.008*wing + 0.008*tast', u'0.022*servic + 0.017*food + 0.015*wait + 0.015*u + 0.014*server + 0.013*minut + 0.012*night + 0.011*famili + 0.011*restaur + 0.011*order', u'0.017*order + 0.016*food + 0.012*one + 0.011*time + 0.011*servic + 0.010*chicken + 0.009*salad + 0.009*tabl + 0.009*go + 0.009*get', u'0.013*place + 0.011*like + 0.011*go + 0.011*chicken + 0.010*get + 0.008*tast + 0.007*food + 0.007*menu + 0.006*better + 0.006*sure', u'0.028*food + 0.012*get + 0.010*one + 0.010*good + 0.010*area + 0.009*still + 0.008*back + 0.008*servic + 0.007*mani + 0.007*wait', u'0.020*good + 0.017*great + 0.015*one + 0.014*tab + 0.014*stay + 0.014*food + 0.014*walk + 0.013*aldo + 0.013*eat + 0.011*meal', u'0.017*order + 0.016*good + 0.014*food + 0.012*like + 0.011*get + 0.010*place + 0.009*hot + 0.009*one + 0.008*howev + 0.008*disappoint']\n"
     ]
    }
   ],
   "source": [
    "ldamodel =  gensim.models.LdaModel.load('lda_brooklyn.model')\n",
    "print(ldamodel.show_topics(topics=50, topn=10))"
   ]
  },
  {
   "cell_type": "code",
   "execution_count": 14,
   "metadata": {},
   "outputs": [
    {
     "ename": "AttributeError",
     "evalue": "'list' object has no attribute 'items'",
     "output_type": "error",
     "traceback": [
      "\u001b[0;31m---------------------------------------------------------------------------\u001b[0m",
      "\u001b[0;31mAttributeError\u001b[0m                            Traceback (most recent call last)",
      "\u001b[0;32m<ipython-input-14-b1c322d266e8>\u001b[0m in \u001b[0;36m<module>\u001b[0;34m()\u001b[0m\n\u001b[1;32m      2\u001b[0m \u001b[0mtemp\u001b[0m \u001b[0;34m=\u001b[0m \u001b[0mldamodel\u001b[0m\u001b[0;34m.\u001b[0m\u001b[0mshow_topic\u001b[0m\u001b[0;34m(\u001b[0m\u001b[0;36m3\u001b[0m\u001b[0;34m,\u001b[0m \u001b[0;36m50\u001b[0m\u001b[0;34m)\u001b[0m\u001b[0;34m\u001b[0m\u001b[0m\n\u001b[1;32m      3\u001b[0m \u001b[0mtemp\u001b[0m \u001b[0;34m=\u001b[0m \u001b[0mmap\u001b[0m\u001b[0;34m(\u001b[0m\u001b[0;32mlambda\u001b[0m \u001b[0mx\u001b[0m\u001b[0;34m:\u001b[0m \u001b[0mx\u001b[0m\u001b[0;34m[\u001b[0m\u001b[0;34m:\u001b[0m\u001b[0;34m:\u001b[0m\u001b[0;34m-\u001b[0m\u001b[0;36m1\u001b[0m\u001b[0;34m]\u001b[0m\u001b[0;34m,\u001b[0m\u001b[0mtemp\u001b[0m\u001b[0;34m)\u001b[0m\u001b[0;34m\u001b[0m\u001b[0m\n\u001b[0;32m----> 4\u001b[0;31m \u001b[0mplt\u001b[0m\u001b[0;34m.\u001b[0m\u001b[0mimshow\u001b[0m\u001b[0;34m(\u001b[0m\u001b[0mWordCloud\u001b[0m\u001b[0;34m(\u001b[0m\u001b[0;34m)\u001b[0m\u001b[0;34m.\u001b[0m\u001b[0mfit_words\u001b[0m\u001b[0;34m(\u001b[0m\u001b[0mtemp\u001b[0m\u001b[0;34m)\u001b[0m\u001b[0;34m)\u001b[0m\u001b[0;34m\u001b[0m\u001b[0m\n\u001b[0m\u001b[1;32m      5\u001b[0m \u001b[0mplt\u001b[0m\u001b[0;34m.\u001b[0m\u001b[0maxis\u001b[0m\u001b[0;34m(\u001b[0m\u001b[0;34m\"off\"\u001b[0m\u001b[0;34m)\u001b[0m\u001b[0;34m\u001b[0m\u001b[0m\n\u001b[1;32m      6\u001b[0m \u001b[0mplt\u001b[0m\u001b[0;34m.\u001b[0m\u001b[0mtitle\u001b[0m\u001b[0;34m(\u001b[0m\u001b[0;34m\"Topic #\"\u001b[0m \u001b[0;34m+\u001b[0m \u001b[0mstr\u001b[0m\u001b[0;34m(\u001b[0m\u001b[0;36m3\u001b[0m\u001b[0;34m)\u001b[0m\u001b[0;34m)\u001b[0m\u001b[0;34m\u001b[0m\u001b[0m\n",
      "\u001b[0;32m/Users/YJChang/anaconda/envs/python2/lib/python2.7/site-packages/wordcloud/wordcloud.pyc\u001b[0m in \u001b[0;36mfit_words\u001b[0;34m(self, frequencies)\u001b[0m\n\u001b[1;32m    329\u001b[0m         \u001b[0mself\u001b[0m\u001b[0;34m\u001b[0m\u001b[0m\n\u001b[1;32m    330\u001b[0m         \"\"\"\n\u001b[0;32m--> 331\u001b[0;31m         \u001b[0;32mreturn\u001b[0m \u001b[0mself\u001b[0m\u001b[0;34m.\u001b[0m\u001b[0mgenerate_from_frequencies\u001b[0m\u001b[0;34m(\u001b[0m\u001b[0mfrequencies\u001b[0m\u001b[0;34m)\u001b[0m\u001b[0;34m\u001b[0m\u001b[0m\n\u001b[0m\u001b[1;32m    332\u001b[0m \u001b[0;34m\u001b[0m\u001b[0m\n\u001b[1;32m    333\u001b[0m     \u001b[0;32mdef\u001b[0m \u001b[0mgenerate_from_frequencies\u001b[0m\u001b[0;34m(\u001b[0m\u001b[0mself\u001b[0m\u001b[0;34m,\u001b[0m \u001b[0mfrequencies\u001b[0m\u001b[0;34m,\u001b[0m \u001b[0mmax_font_size\u001b[0m\u001b[0;34m=\u001b[0m\u001b[0mNone\u001b[0m\u001b[0;34m)\u001b[0m\u001b[0;34m:\u001b[0m\u001b[0;34m\u001b[0m\u001b[0m\n",
      "\u001b[0;32m/Users/YJChang/anaconda/envs/python2/lib/python2.7/site-packages/wordcloud/wordcloud.pyc\u001b[0m in \u001b[0;36mgenerate_from_frequencies\u001b[0;34m(self, frequencies, max_font_size)\u001b[0m\n\u001b[1;32m    348\u001b[0m         \"\"\"\n\u001b[1;32m    349\u001b[0m         \u001b[0;31m# make sure frequencies are sorted and normalized\u001b[0m\u001b[0;34m\u001b[0m\u001b[0;34m\u001b[0m\u001b[0m\n\u001b[0;32m--> 350\u001b[0;31m         \u001b[0mfrequencies\u001b[0m \u001b[0;34m=\u001b[0m \u001b[0msorted\u001b[0m\u001b[0;34m(\u001b[0m\u001b[0mfrequencies\u001b[0m\u001b[0;34m.\u001b[0m\u001b[0mitems\u001b[0m\u001b[0;34m(\u001b[0m\u001b[0;34m)\u001b[0m\u001b[0;34m,\u001b[0m \u001b[0mkey\u001b[0m\u001b[0;34m=\u001b[0m\u001b[0mitem1\u001b[0m\u001b[0;34m,\u001b[0m \u001b[0mreverse\u001b[0m\u001b[0;34m=\u001b[0m\u001b[0mTrue\u001b[0m\u001b[0;34m)\u001b[0m\u001b[0;34m\u001b[0m\u001b[0m\n\u001b[0m\u001b[1;32m    351\u001b[0m         \u001b[0;32mif\u001b[0m \u001b[0mlen\u001b[0m\u001b[0;34m(\u001b[0m\u001b[0mfrequencies\u001b[0m\u001b[0;34m)\u001b[0m \u001b[0;34m<=\u001b[0m \u001b[0;36m0\u001b[0m\u001b[0;34m:\u001b[0m\u001b[0;34m\u001b[0m\u001b[0m\n\u001b[1;32m    352\u001b[0m             raise ValueError(\"We need at least 1 word to plot a word cloud, \"\n",
      "\u001b[0;31mAttributeError\u001b[0m: 'list' object has no attribute 'items'"
     ]
    }
   ],
   "source": [
    "plt.figure()\n",
    "temp = ldamodel.show_topic(3, 50)\n",
    "temp = map(lambda x: x[::-1],temp)\n",
    "plt.imshow(WordCloud().fit_words(temp))\n",
    "plt.axis(\"off\")\n",
    "plt.title(\"Topic #\" + str(3))\n",
    "plt.show()"
   ]
  },
  {
   "cell_type": "code",
   "execution_count": 27,
   "metadata": {
    "collapsed": true
   },
   "outputs": [
    {
     "data": {
      "text/plain": [
       "['0.231*pork + 0.082*pull + 0.059*belli + 0.043*meatbal + 0.023*rotat + 0.022*honey + 0.018*parm + 0.014*southern + 0.014*board + 0.013*casbah + 0.012*brule + 0.011*casa + 0.010*mustard + 0.010*stout + 0.010*salumi + 0.010*alfredo + 0.009*bbq + 0.009*beef + 0.009*adana + 0.008*path + 0.008*pricier + 0.008*wagyu + 0.007*chalk + 0.007*satay + 0.007*micro + 0.007*elbow + 0.007*imo + 0.006*sauc + 0.006*beaten + 0.005*fatti',\n",
       " '0.120*lunch + 0.030*salad + 0.025*sandwich + 0.020*soup + 0.018*quick + 0.017*stop + 0.016*work + 0.015*fresh + 0.015*day + 0.013*chicken + 0.012*today + 0.012*option + 0.011*healthi + 0.011*downtown + 0.010*special + 0.010*worker + 0.009*order + 0.008*look + 0.008*place + 0.008*menu + 0.007*dinner + 0.007*grab + 0.007*side + 0.007*spot + 0.007*cafe + 0.007*fast + 0.007*great + 0.007*wrap + 0.007*co + 0.006*eat',\n",
       " '0.031*food + 0.022*order + 0.021*ask + 0.021*servic + 0.014*never + 0.012*time + 0.012*back + 0.011*manag + 0.011*go + 0.010*said + 0.010*one + 0.010*u + 0.010*waitress + 0.009*server + 0.009*even + 0.009*want + 0.008*would + 0.008*custom + 0.008*bad + 0.008*experi + 0.007*get + 0.006*place + 0.006*came + 0.006*told + 0.006*restaur + 0.006*ever + 0.006*rude + 0.006*could + 0.005*eat + 0.005*terribl',\n",
       " '0.065*thai + 0.044*tea + 0.039*curri + 0.032*spici + 0.031*noodl + 0.021*pad + 0.020*dish + 0.018*order + 0.018*spice + 0.015*chicken + 0.015*pho + 0.014*flavor + 0.014*soup + 0.013*green + 0.013*roll + 0.013*spring + 0.012*level + 0.012*rice + 0.011*good + 0.011*restaur + 0.011*bubbl + 0.009*broth + 0.009*sauc + 0.009*delici + 0.009*tri + 0.008*also + 0.008*ramen + 0.007*basil + 0.007*food + 0.007*bowl',\n",
       " '0.090*buffet + 0.049*indian + 0.034*food + 0.028*chicken + 0.026*wide + 0.023*select + 0.022*dish + 0.015*naan + 0.015*varieti + 0.015*enchilada + 0.014*spice + 0.013*produc + 0.012*west + 0.012*fajita + 0.012*meat + 0.012*verd + 0.011*restaur + 0.011*masala + 0.011*india + 0.010*vegetarian + 0.009*coast + 0.009*east + 0.009*paneer + 0.008*tikka + 0.008*fresh + 0.007*spici + 0.007*frill + 0.006*quantiti + 0.006*tast + 0.006*includ',\n",
       " '0.065*hill + 0.041*penn + 0.037*garden + 0.036*squirrel + 0.031*grit + 0.024*ave + 0.022*avenu + 0.019*boy + 0.018*rais + 0.015*carnivor + 0.014*china + 0.013*test + 0.012*popcorn + 0.012*chalkboard + 0.012*mineo + 0.012*jazz + 0.011*po + 0.011*murray + 0.010*nativ + 0.010*scallion + 0.009*tripl + 0.009*bangkok + 0.009*carnegi + 0.008*amongst + 0.008*fiori + 0.008*grown + 0.007*angel + 0.007*born + 0.007*inclin + 0.007*measur',\n",
       " '0.041*like + 0.020*tast + 0.015*star + 0.015*food + 0.014*place + 0.013*would + 0.013*much + 0.012*better + 0.011*look + 0.011*seem + 0.009*think + 0.008*way + 0.008*feel + 0.008*review + 0.007*could + 0.007*expect + 0.007*one + 0.007*mayb + 0.007*even + 0.007*realli + 0.007*bland + 0.007*bad + 0.007*give + 0.007*restaur + 0.007*thing + 0.007*someth + 0.006*eat + 0.006*noth + 0.006*use + 0.006*qualiti',\n",
       " '0.066*station + 0.037*rock + 0.029*jerk + 0.029*blown + 0.024*away + 0.021*dream + 0.020*gaucho + 0.019*tonight + 0.018*rough + 0.016*indulg + 0.015*soooo + 0.015*fritter + 0.013*reheat + 0.012*caribbean + 0.012*freez + 0.011*construct + 0.011*peruvian + 0.011*michael + 0.010*critic + 0.010*gas + 0.010*hat + 0.010*jamaican + 0.010*tomorrow + 0.009*sweat + 0.008*abay + 0.008*wind + 0.008*vast + 0.008*mama + 0.007*glanc + 0.007*deter',\n",
       " '0.076*good + 0.052*food + 0.031*price + 0.028*place + 0.026*pretti + 0.026*servic + 0.023*realli + 0.020*great + 0.015*nice + 0.014*go + 0.014*get + 0.013*would + 0.013*like + 0.013*littl + 0.011*bit + 0.010*portion + 0.010*decent + 0.009*friend + 0.009*overal + 0.009*definit + 0.009*though + 0.009*special + 0.008*better + 0.008*reason + 0.008*much + 0.008*noth + 0.007*also + 0.007*drink + 0.007*back + 0.007*lot',\n",
       " '0.085*sandwich + 0.079*fri + 0.025*chees + 0.023*bread + 0.015*meat + 0.015*order + 0.013*good + 0.012*steak + 0.012*potato + 0.011*beef + 0.011*slaw + 0.011*primanti + 0.010*french + 0.010*pittsburgh + 0.009*side + 0.008*grill + 0.008*got + 0.007*also + 0.007*coleslaw + 0.007*pickl + 0.006*tomato + 0.006*onion + 0.006*brisket + 0.006*chip + 0.006*top + 0.006*like + 0.006*tri + 0.006*corn + 0.006*cut + 0.005*turkey',\n",
       " '0.062*dessert + 0.057*cream + 0.056*cake + 0.052*chocol + 0.051*ice + 0.023*crab + 0.017*butter + 0.017*cooki + 0.015*cheesecak + 0.013*bread + 0.013*pastri + 0.013*german + 0.011*appl + 0.011*peanut + 0.011*sweet + 0.011*pud + 0.010*strawberri + 0.009*almond + 0.009*whip + 0.009*vanilla + 0.009*banana + 0.008*bakeri + 0.008*pie + 0.008*delici + 0.007*creme + 0.007*fruit + 0.007*caramel + 0.007*sugar + 0.007*ricotta + 0.007*cone',\n",
       " '0.244*beer + 0.118*select + 0.029*great + 0.029*bar + 0.028*draft + 0.026*tap + 0.022*list + 0.022*brew + 0.019*craft + 0.017*bottl + 0.012*local + 0.011*tapa + 0.011*pub + 0.010*menu + 0.009*wine + 0.006*ale + 0.006*bartend + 0.006*ipa + 0.006*head + 0.005*good + 0.005*glass + 0.005*awesom + 0.005*extens + 0.005*offer + 0.005*includ + 0.005*pint + 0.004*huge + 0.004*hous + 0.004*drink + 0.004*hofbrauhaus',\n",
       " '0.100*strip + 0.073*store + 0.052*pretzel + 0.051*shop + 0.042*district + 0.036*milkshak + 0.033*patti + 0.023*buy + 0.021*sell + 0.020*groceri + 0.016*deli + 0.012*biscotti + 0.012*product + 0.011*giant + 0.011*tessaro + 0.011*local + 0.011*john + 0.011*frozen + 0.010*bakeri + 0.010*loaf + 0.010*yard + 0.009*everyday + 0.008*jimmi + 0.008*class + 0.008*organ + 0.008*sale + 0.007*brand + 0.007*pound + 0.006*bread + 0.006*soft',\n",
       " '0.064*breakfast + 0.052*brunch + 0.049*egg + 0.037*coffe + 0.033*pancak + 0.025*toast + 0.022*diner + 0.020*sunday + 0.019*potato + 0.018*bacon + 0.018*crepe + 0.018*morn + 0.017*french + 0.014*sausag + 0.011*wait + 0.010*pamela + 0.010*omelet + 0.009*order + 0.008*delici + 0.008*hash + 0.008*side + 0.008*bagel + 0.008*omelett + 0.007*chees + 0.007*weekend + 0.007*cafe + 0.006*also + 0.006*home + 0.006*ham + 0.005*serv',\n",
       " '0.068*salad + 0.023*pasta + 0.022*sauc + 0.019*chees + 0.018*bread + 0.017*chicken + 0.017*tomato + 0.016*dress + 0.015*order + 0.014*soup + 0.013*green + 0.012*good + 0.012*italian + 0.011*side + 0.011*dish + 0.010*meal + 0.009*pepper + 0.009*came + 0.008*oliv + 0.008*also + 0.008*mushroom + 0.008*fresh + 0.008*red + 0.008*grill + 0.008*lettuc + 0.008*potato + 0.007*serv + 0.007*oil + 0.006*goat + 0.006*onion',\n",
       " '0.013*com + 0.012*legum + 0.011*breweri + 0.011*http + 0.010*kay + 0.009*watch + 0.009*www + 0.008*former + 0.007*mapl + 0.007*recal + 0.007*la + 0.006*root + 0.006*regret + 0.006*yelp + 0.006*lebanon + 0.006*bodi + 0.006*contrast + 0.005*uncl + 0.005*arugula + 0.005*name + 0.005*dust + 0.005*float + 0.005*gourmandin + 0.005*exot + 0.005*latin + 0.005*cube + 0.005*youtub + 0.005*mere + 0.005*yet + 0.005*burst',\n",
       " '0.117*smoke + 0.078*smell + 0.050*fire + 0.035*groupon + 0.027*con + 0.025*pro + 0.023*insan + 0.022*wood + 0.021*rub + 0.019*smoki + 0.016*mr + 0.016*imposs + 0.013*consum + 0.013*smokey + 0.012*lemonad + 0.012*gold + 0.011*drunk + 0.010*burn + 0.009*dairi + 0.009*freezer + 0.009*mass + 0.009*toler + 0.009*win + 0.008*ear + 0.008*spicier + 0.007*health + 0.007*basement + 0.007*kevin + 0.007*row + 0.006*allow',\n",
       " '0.055*mom + 0.036*sister + 0.034*00 + 0.029*fee + 0.019*cider + 0.015*charg + 0.015*secur + 0.014*byob + 0.014*corkag + 0.012*id + 0.011*rain + 0.011*storm + 0.011*freak + 0.010*booz + 0.010*tour + 0.010*casino + 0.009*concert + 0.009*nine + 0.009*outrag + 0.009*bottl + 0.009*ador + 0.009*wed + 0.008*cousin + 0.008*latter + 0.008*cork + 0.008*edg + 0.008*shock + 0.008*juli + 0.008*yuengl + 0.007*bed',\n",
       " '0.036*place + 0.034*get + 0.028*go + 0.021*best + 0.020*pittsburgh + 0.019*one + 0.018*make + 0.016*like + 0.014*know + 0.014*eat + 0.012*want + 0.011*food + 0.011*peopl + 0.010*ever + 0.009*come + 0.009*take + 0.008*good + 0.008*think + 0.008*thing + 0.008*say + 0.007*way + 0.007*citi + 0.007*even + 0.007*everi + 0.006*sure + 0.006*find + 0.006*need + 0.006*right + 0.006*home + 0.005*around',\n",
       " '0.039*leaf + 0.024*tom + 0.024*scale + 0.023*bf + 0.021*nicki + 0.019*smoothi + 0.018*spoon + 0.018*smile + 0.017*banana + 0.016*ball + 0.016*poutin + 0.013*gravi + 0.013*tamari + 0.011*fishi + 0.010*noodlehead + 0.010*wipe + 0.009*boat + 0.009*desir + 0.009*kim + 0.009*drag + 0.008*towel + 0.007*assist + 0.007*curd + 0.007*panang + 0.007*skimpi + 0.007*rainbow + 0.007*chi + 0.007*blew + 0.007*silk + 0.007*coca',\n",
       " '0.120*kid + 0.107*waffl + 0.084*old + 0.047*chicken + 0.044*daughter + 0.022*school + 0.021*fashion + 0.019*superb + 0.019*adult + 0.018*finger + 0.018*year + 0.017*belgian + 0.016*cent + 0.015*meatloaf + 0.014*bewar + 0.012*lick + 0.012*famili + 0.012*wife + 0.011*chile + 0.010*din + 0.009*scoop + 0.008*boneless + 0.008*nicest + 0.006*17 + 0.006*relleno + 0.005*greater + 0.005*timer + 0.005*syrup + 0.005*breast + 0.005*mighti',\n",
       " '0.111*wing + 0.095*chees + 0.073*chicken + 0.065*sauc + 0.045*mac + 0.039*rib + 0.036*bbq + 0.027*order + 0.026*buffalo + 0.022*flavor + 0.020*side + 0.013*ranch + 0.013*dri + 0.011*dip + 0.011*meat + 0.011*spici + 0.010*tender + 0.010*blue + 0.010*short + 0.009*bone + 0.009*grill + 0.008*good + 0.008*also + 0.008*cornbread + 0.007*crispi + 0.007*tri + 0.006*green + 0.006*barbecu + 0.006*prime + 0.006*sam',\n",
       " '0.111*taco + 0.042*chip + 0.038*mexican + 0.035*salsa + 0.030*burrito + 0.026*margarita + 0.018*bean + 0.017*tortilla + 0.016*chicken + 0.015*guacamol + 0.014*mex + 0.013*order + 0.012*chipotl + 0.011*corn + 0.010*flavor + 0.010*fish + 0.010*rice + 0.010*chorizo + 0.009*fresh + 0.009*quesadilla + 0.009*queso + 0.009*guac + 0.009*lime + 0.008*spici + 0.008*authent + 0.008*also + 0.008*cilantro + 0.007*nacho + 0.007*dip + 0.006*good',\n",
       " '0.061*great + 0.058*food + 0.032*servic + 0.028*place + 0.026*friend + 0.021*best + 0.021*delici + 0.021*recommend + 0.019*amaz + 0.019*pittsburgh + 0.017*staff + 0.016*definit + 0.016*excel + 0.016*back + 0.015*love + 0.014*restaur + 0.013*atmospher + 0.012*high + 0.011*go + 0.011*good + 0.010*awesom + 0.009*fantast + 0.009*perfect + 0.009*everyth + 0.009*time + 0.008*ever + 0.008*tri + 0.008*wonder + 0.008*experi + 0.008*well',\n",
       " '0.076*sub + 0.047*kinda + 0.032*gourmet + 0.027*dont + 0.027*par + 0.021*brother + 0.019*crap + 0.018*oh + 0.018*suck + 0.018*sold + 0.017*didnt + 0.015*bc + 0.014*yeah + 0.014*subway + 0.014*moon + 0.014*ya + 0.012*minim + 0.012*god + 0.012*garbag + 0.011*holi + 0.010*seven + 0.009*crusti + 0.009*hell + 0.008*trash + 0.008*jersey + 0.008*salami + 0.008*cheapest + 0.007*ranchero + 0.007*gal + 0.007*mount',\n",
       " '0.043*cocktail + 0.042*vibe + 0.040*ambienc + 0.033*bourbon + 0.030*countri + 0.017*farm + 0.016*killer + 0.015*cool + 0.014*funki + 0.014*sourc + 0.013*local + 0.012*manhattan + 0.012*thanksgiv + 0.012*knock + 0.012*histori + 0.012*memori + 0.012*mule + 0.010*scotch + 0.010*defin + 0.009*visitor + 0.009*vacat + 0.009*superior + 0.009*variat + 0.009*papa + 0.009*classic + 0.008*industri + 0.008*dig + 0.007*grandmoth + 0.007*signatur + 0.007*chutney',\n",
       " '0.032*mt + 0.029*hamburg + 0.026*washington + 0.024*neat + 0.020*view + 0.019*wild + 0.018*carn + 0.018*pit + 0.018*neighbor + 0.015*bay + 0.014*ew + 0.013*smallman + 0.013*asada + 0.012*overr + 0.012*em + 0.012*express + 0.011*da + 0.011*butler + 0.011*enthusiast + 0.010*spoil + 0.009*savor + 0.009*warehous + 0.008*quarter + 0.008*button + 0.008*dave + 0.008*brooklin + 0.007*boar + 0.007*mile + 0.007*yellow + 0.007*dock',\n",
       " '0.055*hotel + 0.046*pierogi + 0.024*cater + 0.023*church + 0.022*stay + 0.017*truck + 0.016*hospit + 0.016*steel + 0.016*polish + 0.012*nasti + 0.011*screw + 0.011*old + 0.010*site + 0.010*room + 0.010*highland + 0.009*center + 0.009*weeknight + 0.008*event + 0.008*region + 0.008*bustl + 0.007*craig + 0.007*partial + 0.007*hall + 0.007*gumbo + 0.007*resid + 0.007*child + 0.007*tremend + 0.006*built + 0.006*rout + 0.006*nevertheless',\n",
       " '0.276*burger + 0.069*fri + 0.027*bacon + 0.023*bun + 0.022*onion + 0.022*top + 0.020*medium + 0.020*order + 0.018*well + 0.018*cook + 0.016*burgatori + 0.014*chees + 0.012*brgr + 0.011*rare + 0.011*side + 0.011*cajun + 0.011*ring + 0.010*tot + 0.009*done + 0.009*dad + 0.009*beef + 0.009*grill + 0.008*meat + 0.008*chip + 0.007*bomb + 0.007*cheeseburg + 0.006*truffl + 0.006*tater + 0.006*cheddar + 0.006*mushroom',\n",
       " '0.022*restaur + 0.022*menu + 0.014*tabl + 0.013*meal + 0.013*dine + 0.012*u + 0.012*one + 0.011*dinner + 0.010*order + 0.010*experi + 0.009*two + 0.009*dish + 0.008*small + 0.008*enjoy + 0.008*would + 0.007*larg + 0.007*plate + 0.007*even + 0.007*reserv + 0.007*group + 0.007*entre + 0.007*server + 0.006*parti + 0.006*room + 0.006*appet + 0.006*made + 0.006*serv + 0.006*well + 0.006*also + 0.005*offer',\n",
       " '0.028*tri + 0.026*time + 0.021*place + 0.021*realli + 0.020*good + 0.020*go + 0.020*like + 0.020*back + 0.017*first + 0.017*got + 0.015*would + 0.012*went + 0.012*review + 0.011*want + 0.011*one + 0.010*look + 0.010*thing + 0.009*say + 0.009*think + 0.008*get + 0.008*love + 0.008*order + 0.008*next + 0.008*sinc + 0.008*give + 0.008*definit + 0.007*know + 0.007*friend + 0.007*someth + 0.007*decid',\n",
       " '0.222*hot + 0.107*dog + 0.049*chili + 0.042*shake + 0.024*pig + 0.021*chicago + 0.020*omg + 0.014*pot + 0.012*texa + 0.012*pittsburg + 0.011*song + 0.010*bench + 0.009*chilli + 0.009*union + 0.009*rack + 0.009*legit + 0.009*9pm + 0.009*bun + 0.008*ive + 0.008*hotdog + 0.007*snap + 0.007*bobbi + 0.006*nation + 0.006*style + 0.006*henc + 0.005*picnic + 0.005*fudg + 0.005*cow + 0.005*holi + 0.005*mustard',\n",
       " '0.019*flight + 0.017*benedict + 0.016*drive + 0.016*man + 0.015*fli + 0.014*counter + 0.014*biscuit + 0.013*behind + 0.012*woman + 0.011*robinson + 0.011*system + 0.010*ride + 0.010*deluca + 0.010*car + 0.010*young + 0.010*text + 0.009*thru + 0.009*soul + 0.009*drove + 0.009*door + 0.009*fave + 0.008*as + 0.008*shoulder + 0.007*bank + 0.007*harri + 0.007*pecan + 0.006*folk + 0.006*crew + 0.006*lamp + 0.006*run',\n",
       " '0.227*pizza + 0.031*crust + 0.031*chees + 0.028*order + 0.022*slice + 0.020*pie + 0.020*top + 0.019*sauc + 0.018*good + 0.018*hoagi + 0.014*pepperoni + 0.012*deliveri + 0.012*oven + 0.009*best + 0.008*italian + 0.008*dough + 0.008*larg + 0.007*great + 0.006*fresh + 0.006*place + 0.006*also + 0.006*deliv + 0.006*tast + 0.005*tri + 0.005*sausag + 0.005*shop + 0.005*like + 0.005*style + 0.004*mushroom + 0.004*calzon',\n",
       " '0.041*wait + 0.030*minut + 0.029*u + 0.028*tabl + 0.027*order + 0.017*seat + 0.016*time + 0.015*get + 0.014*came + 0.012*got + 0.011*took + 0.011*food + 0.010*hour + 0.010*walk + 0.010*long + 0.010*arriv + 0.009*back + 0.009*10 + 0.009*around + 0.009*would + 0.008*30 + 0.008*take + 0.008*even + 0.008*went + 0.008*peopl + 0.007*waitress + 0.007*15 + 0.007*one + 0.007*told + 0.007*drink',\n",
       " '0.046*nice + 0.027*place + 0.025*seat + 0.023*great + 0.023*good + 0.022*outsid + 0.018*insid + 0.018*littl + 0.017*realli + 0.016*tabl + 0.013*coffe + 0.013*area + 0.013*space + 0.013*sit + 0.013*atmospher + 0.012*decor + 0.012*like + 0.012*patio + 0.012*love + 0.012*outdoor + 0.011*look + 0.011*friend + 0.010*food + 0.010*open + 0.010*small + 0.010*cool + 0.009*feel + 0.009*also + 0.009*cute + 0.008*peopl',\n",
       " '0.045*flavor + 0.027*perfect + 0.022*sweet + 0.016*tast + 0.014*sauc + 0.013*well + 0.012*bit + 0.012*delici + 0.011*fresh + 0.010*littl + 0.009*top + 0.009*crispi + 0.009*tri + 0.009*light + 0.009*textur + 0.008*salt + 0.008*made + 0.008*cook + 0.008*bite + 0.007*season + 0.006*right + 0.006*combin + 0.006*tender + 0.006*creami + 0.006*balanc + 0.006*spice + 0.006*like + 0.006*soft + 0.005*could + 0.005*mouth',\n",
       " '0.159*sushi + 0.126*roll + 0.097*fish + 0.039*tuna + 0.033*fresh + 0.026*salmon + 0.019*japanes + 0.017*sashimi + 0.014*hibachi + 0.014*piec + 0.014*spici + 0.013*miso + 0.012*california + 0.011*avocado + 0.010*chef + 0.009*donut + 0.009*cevich + 0.008*rice + 0.008*qualiti + 0.007*raw + 0.007*sake + 0.007*soup + 0.007*seafood + 0.006*bike + 0.006*maki + 0.006*tokyo + 0.005*order + 0.005*eel + 0.005*ginger + 0.005*wasabi',\n",
       " '0.041*cure + 0.040*pgh + 0.024*pa + 0.022*cuban + 0.018*fianc\\xc3\\xa9 + 0.017*spanish + 0.016*attend + 0.016*skeptic + 0.016*complex + 0.015*im + 0.015*buddi + 0.014*birthday + 0.014*colleagu + 0.013*plantain + 0.013*ethiopian + 0.012*de + 0.012*fellow + 0.011*ensur + 0.011*yelper + 0.011*advic + 0.011*substanti + 0.010*tune + 0.010*celebr + 0.010*renov + 0.010*wooden + 0.010*holiday + 0.009*airi + 0.009*cap + 0.009*joy + 0.008*cuisin',\n",
       " '0.049*love + 0.048*alway + 0.028*place + 0.026*get + 0.025*favorit + 0.025*great + 0.022*delici + 0.021*go + 0.021*menu + 0.021*also + 0.019*tri + 0.018*food + 0.017*option + 0.016*time + 0.016*vegetarian + 0.014*never + 0.013*one + 0.013*realli + 0.012*eat + 0.012*good + 0.012*like + 0.012*friend + 0.012*come + 0.011*amaz + 0.010*vegan + 0.010*usual + 0.010*make + 0.009*everi + 0.009*thing + 0.008*veggi',\n",
       " '0.028*steak + 0.027*wine + 0.017*dinner + 0.017*appet + 0.016*dish + 0.015*cook + 0.015*order + 0.014*shrimp + 0.013*entre + 0.013*duck + 0.013*perfect + 0.013*good + 0.012*scallop + 0.011*meal + 0.011*lobster + 0.011*seafood + 0.010*delici + 0.010*night + 0.010*plate + 0.009*well + 0.009*dessert + 0.009*also + 0.009*meat + 0.008*mussel + 0.008*start + 0.008*cours + 0.008*great + 0.008*oyster + 0.008*restaur + 0.007*salmon',\n",
       " '0.145*park + 0.075*street + 0.045*squar + 0.044*across + 0.044*market + 0.027*locat + 0.020*lot + 0.019*pastrami + 0.014*caesar + 0.013*joe + 0.013*right + 0.013*find + 0.012*valet + 0.011*soba + 0.011*walk + 0.011*car + 0.010*easi + 0.008*block + 0.007*sloppi + 0.006*key + 0.006*plum + 0.006*downtown + 0.006*liberti + 0.006*dc + 0.006*regent + 0.005*challeng + 0.005*breez + 0.005*lidia + 0.005*downsid + 0.005*bolognes',\n",
       " '0.068*free + 0.053*call + 0.039*order + 0.031*card + 0.021*phone + 0.019*gluten + 0.019*deliveri + 0.017*cash + 0.017*credit + 0.014*take + 0.014*use + 0.014*onlin + 0.013*owner + 0.012*deliv + 0.010*custom + 0.010*coupon + 0.009*pick + 0.009*gift + 0.009*accept + 0.009*websit + 0.008*guy + 0.008*pay + 0.008*answer + 0.008*offer + 0.008*hour + 0.007*thank + 0.007*number + 0.007*close + 0.006*ahead + 0.006*purchas',\n",
       " '0.061*gyro + 0.056*lamb + 0.052*hummus + 0.052*pita + 0.030*platter + 0.027*greek + 0.024*middl + 0.021*baklava + 0.021*eastern + 0.020*mediterranean + 0.020*meat + 0.020*feta + 0.018*baba + 0.016*wrap + 0.016*spinach + 0.015*ny + 0.015*eleven + 0.015*leaf + 0.013*istanbul + 0.011*owner + 0.010*cant + 0.010*grill + 0.010*eagl + 0.009*western + 0.008*dip + 0.008*lunchtim + 0.008*energi + 0.007*hockey + 0.007*naya + 0.007*aladdin',\n",
       " '0.055*new + 0.035*sangria + 0.028*octopus + 0.025*south + 0.025*york + 0.024*river + 0.022*san + 0.020*pitcher + 0.019*bloomfield + 0.018*empanada + 0.017*stumbl + 0.016*expand + 0.015*upon + 0.015*lasagna + 0.014*cultur + 0.013*mid + 0.011*mike + 0.011*itali + 0.011*dan + 0.011*midnight + 0.010*side + 0.010*il + 0.010*festiv + 0.010*entertain + 0.009*francisco + 0.009*urban + 0.008*rabbit + 0.008*expos + 0.008*bear + 0.008*obnoxi',\n",
       " '0.058*airport + 0.047*son + 0.046*turkish + 0.041*famili + 0.037*danc + 0.034*own + 0.031*kebab + 0.026*fianc + 0.022*island + 0.019*mi + 0.018*sofra + 0.017*pleasur + 0.016*wet + 0.012*everybodi + 0.012*innov + 0.012*refund + 0.012*tie + 0.011*bucket + 0.011*banh + 0.010*us + 0.010*premium + 0.010*standout + 0.009*support + 0.008*repres + 0.008*guid + 0.007*novelti + 0.006*exagger + 0.006*toddler + 0.006*player + 0.006*bahn',\n",
       " '0.084*bar + 0.052*drink + 0.032*night + 0.020*bartend + 0.017*game + 0.014*music + 0.012*friend + 0.012*hour + 0.011*cocktail + 0.011*place + 0.010*crowd + 0.010*happi + 0.010*fun + 0.010*watch + 0.009*great + 0.008*play + 0.007*tv + 0.007*loud + 0.006*area + 0.006*upstair + 0.006*late + 0.006*even + 0.006*sit + 0.005*peopl + 0.005*atmospher + 0.005*friday + 0.005*floor + 0.005*sport + 0.005*one + 0.005*room',\n",
       " '0.041*time + 0.035*locat + 0.023*restaur + 0.023*year + 0.022*food + 0.021*alway + 0.019*visit + 0.017*one + 0.015*pittsburgh + 0.012*last + 0.012*mani + 0.011*sinc + 0.010*area + 0.009*servic + 0.009*never + 0.009*qualiti + 0.008*new + 0.008*consist + 0.008*use + 0.008*usual + 0.008*live + 0.008*busi + 0.008*still + 0.008*recent + 0.008*ago + 0.007*chang + 0.007*sever + 0.007*everi + 0.007*open + 0.007*chain',\n",
       " '0.040*chicken + 0.030*rice + 0.030*dish + 0.029*chines + 0.023*order + 0.022*fri + 0.022*food + 0.020*sauc + 0.018*soup + 0.015*tofu + 0.015*shrimp + 0.013*noodl + 0.013*beef + 0.013*restaur + 0.011*dumpl + 0.010*asian + 0.010*veget + 0.010*good + 0.010*egg + 0.009*pork + 0.009*hot + 0.009*general + 0.008*spici + 0.008*also + 0.007*authent + 0.007*menu + 0.007*american + 0.007*tast + 0.007*like + 0.007*flavor',\n",
       " '0.029*mother + 0.021*sun + 0.020*christma + 0.019*wear + 0.017*samosa + 0.017*bob + 0.017*drunken + 0.016*nicer + 0.016*dress + 0.016*shirt + 0.016*attract + 0.015*liver + 0.014*pan + 0.013*iron + 0.013*hub + 0.012*eve + 0.011*jean + 0.011*parent + 0.010*dare + 0.010*central + 0.010*score + 0.010*rank + 0.010*endless + 0.009*paella + 0.009*categori + 0.009*denni + 0.009*capit + 0.009*sink + 0.008*suit + 0.008*sugari']"
      ]
     },
     "execution_count": 27,
     "metadata": {},
     "output_type": "execute_result"
    }
   ],
   "source": [
    "ldamodel.print_topics(50,topn=30)"
   ]
  },
  {
   "cell_type": "markdown",
   "metadata": {},
   "source": [
    "### Trying more viz"
   ]
  },
  {
   "cell_type": "code",
   "execution_count": 15,
   "metadata": {
    "collapsed": true
   },
   "outputs": [],
   "source": [
    "model =  gensim.models.LdaModel.load('lda_brooklyn.model')"
   ]
  },
  {
   "cell_type": "code",
   "execution_count": 16,
   "metadata": {
    "collapsed": true
   },
   "outputs": [],
   "source": [
    "lda = model\n",
    "n_topics = 50"
   ]
  },
  {
   "cell_type": "code",
   "execution_count": 17,
   "metadata": {},
   "outputs": [
    {
     "name": "stdout",
     "output_type": "stream",
     "text": [
      "Top 10 terms for topic #0: time, food, dessert, one, aldo, meal, wing, fresh, enjoy, first, order, dinner, servic, back, visit, place, salad, delici, like, sauc\n",
      "Top 10 terms for topic #1: place, food, realli, like, thing, bread, time, go, much, restaur, tabl, chees, busi, u, get, everyth, serv, love, good, atmospher\n",
      "Top 10 terms for topic #2: give, year, anoth, u, polit, past, occasion, head, white, everyth, chain, got, said, even, eat, pretti, bread, 00, bad, round\n",
      "Top 10 terms for topic #3: good, like, food, place, order, go, eat, got, would, steak, roll, tri, back, came, side, two, get, well, cook, take\n",
      "Top 10 terms for topic #4: side, great, good, server, short, steak, medallion, filet, stop, two, look, would, love, time, like, place, went, meal, one, lunch\n",
      "Top 10 terms for topic #5: supervis, depend, parent, employe, busi, love, great, custom, flavor, especi, servic, amaz, dip, thank, show, excel, barmaid, rush, blanco, proport\n",
      "Top 10 terms for topic #6: chines, food, bay, china, good, place, peopl, time, order, hit, miss, take, delici, know, everi, flavor, eat, neighborhood, even, rice\n",
      "Top 10 terms for topic #7: food, get, good, experi, servic, option, sauc, best, nice, dine, price, like, ever, thing, would, tabl, come, wait, pot, rice\n",
      "Top 10 terms for topic #8: food, burrito, wing, frozen, make, like, place, fresh, would, ask, custom, item, buy, chees, servic, fri, order, someth, pretti, look\n",
      "Top 10 terms for topic #9: friend, good, time, restaur, staff, food, nice, back, came, go, atmospher, great, love, come, comfort, place, got, meal, realli, awesom\n",
      "Top 10 terms for topic #10: burger, breakfast, great, menu, get, also, clam, tot, sport, cleveland, attent, would, serv, mayb, best, xt, hunk, tater, featur, top\n",
      "Top 10 terms for topic #11: food, sauc, chees, would, mac, servic, like, bread, frozen, tast, wing, order, look, dinner, go, reason, dish, eat, spici, tri\n",
      "Top 10 terms for topic #12: order, food, servic, said, time, ask, wait, got, hour, get, u, half, fast, gave, went, call, minut, one, first, need\n",
      "Top 10 terms for topic #13: food, place, servic, good, chicken, buffet, tri, chines, excel, great, experi, like, hot, went, peopl, time, option, go, fresh, fish\n",
      "Top 10 terms for topic #14: place, restaur, like, ever, food, great, year, tast, italian, best, dirti, special, tri, eat, said, never, servic, alway, time, would\n",
      "Top 10 terms for topic #15: food, good, place, great, go, restaur, like, experi, would, back, fri, time, burger, eat, steak, better, expect, one, shake, came\n",
      "Top 10 terms for topic #16: food, order, time, great, wait, minut, tabl, go, servic, even, drink, waiter, take, check, took, place, like, two, one, brought\n",
      "Top 10 terms for topic #17: eat, servic, would, good, place, right, booth, meal, portion, get, lunch, want, cook, steak, order, love, came, expect, limit, server\n",
      "Top 10 terms for topic #18: great, fresh, yelp, definit, shrimp, aldo, lo, mein, find, wanton, bw3, soup, entre, dessert, prima, vera, itali, visit, custom, angel\n",
      "Top 10 terms for topic #19: time, place, understand, make, food, employe, minut, aldo, easi, restaur, back, better, impress, manag, mayb, long, old, recommend, busi, friend\n",
      "Top 10 terms for topic #20: order, food, u, good, like, would, got, still, get, cook, time, bread, one, chicken, right, server, came, seat, servic, look\n",
      "Top 10 terms for topic #21: steak, servic, old, alway, tast, option, best, today, typic, shake, authent, hit, mexican, bread, spot, home, usual, beef, like, good\n",
      "Top 10 terms for topic #22: food, great, place, good, alway, even, best, servic, thing, server, beer, love, time, come, like, amaz, least, pretti, fast, get\n",
      "Top 10 terms for topic #23: place, would, food, chicken, qualiti, went, meal, full, order, good, price, italian, hous, portion, atmospher, time, small, nice, around, definit\n",
      "Top 10 terms for topic #24: dine, like, room, place, food, smell, great, quick, item, alway, anoth, restaur, higher, feel, time, famili, around, get, servic, server\n",
      "Top 10 terms for topic #25: pot, hot, fish, lunch, broth, ball, seafood, get, good, like, sushi, great, eat, larg, price, tofu, special, restaur, also, make\n",
      "Top 10 terms for topic #26: place, realli, food, go, good, get, pizza, come, soup, back, littl, servic, menu, sushi, amaz, felt, pasta, like, restaur, flavor\n",
      "Top 10 terms for topic #27: chicken, never, server, quick, food, came, attent, nice, thing, experi, want, ask, seat, order, u, visit, realli, worst, game, wing\n",
      "Top 10 terms for topic #28: good, food, servic, like, alway, go, want, margarita, qualiti, select, great, restaur, breakfast, time, wife, menu, countri, pepper, odd, fantast\n",
      "Top 10 terms for topic #29: order, food, time, bread, place, one, get, sure, bowl, could, make, told, long, locat, ask, back, menu, good, said, wait\n",
      "Top 10 terms for topic #30: time, good, go, onion, well, bread, food, order, expect, wing, like, place, back, steak, coupl, think, would, visit, actual, mac\n",
      "Top 10 terms for topic #31: food, good, time, burger, fri, great, servic, menu, tri, get, love, would, clear, sandwich, chees, place, price, better, like, fresh\n",
      "Top 10 terms for topic #32: food, time, chipotl, place, alway, great, like, love, price, line, good, go, way, servic, meal, manag, eat, pick, work, husband\n",
      "Top 10 terms for topic #33: good, wing, great, one, panera, game, soup, chees, came, pretzel, appl, cav, bad, better, made, nice, go, enjoy, sandwich, bread\n",
      "Top 10 terms for topic #34: good, sushi, place, get, food, time, pretti, order, love, option, hibachi, tri, fish, tabl, friend, high, one, roll, would, great\n",
      "Top 10 terms for topic #35: good, food, great, order, servic, realli, place, lunch, get, steak, nice, go, usual, wing, make, price, hot, qualiti, u, portion\n",
      "Top 10 terms for topic #36: u, tabl, minut, seat, walk, food, servic, time, came, pretti, told, manag, good, busi, get, everyon, wait, place, come, one\n",
      "Top 10 terms for topic #37: ask, back, like, get, well, go, pizza, order, bar, last, tell, would, owner, point, got, one, food, told, time, minut\n",
      "Top 10 terms for topic #38: would, great, line, free, pizza, get, offer, go, food, peopl, two, brought, seem, restaur, drink, serv, minut, came, order, expect\n",
      "Top 10 terms for topic #39: order, sauc, good, food, sandwich, wrap, place, italian, chicken, fresh, could, wait, like, bread, also, friend, know, review, back, romanburg\n",
      "Top 10 terms for topic #40: sandwich, u, good, fresh, ask, servic, great, time, glove, bartend, restaur, staff, back, mani, food, side, first, well, place, pasta\n",
      "Top 10 terms for topic #41: order, food, good, servic, fri, great, came, chicken, go, realli, back, waitress, say, side, love, chees, anyth, son, place, margarita\n",
      "Top 10 terms for topic #42: order, food, time, locat, pizza, four, top, place, never, minut, friend, good, great, wait, call, wing, hous, lot, servic, receiv\n",
      "Top 10 terms for topic #43: food, good, like, manag, would, go, even, card, wing, tast, eat, much, got, gift, rooster, final, servic, buffet, week, seem\n",
      "Top 10 terms for topic #44: servic, food, wait, u, server, minut, night, famili, restaur, order, pretti, custom, drink, tabl, came, experi, good, sauc, money, one\n",
      "Top 10 terms for topic #45: order, food, one, time, servic, chicken, salad, tabl, go, get, littl, ask, place, realli, took, good, sauc, like, even, back\n",
      "Top 10 terms for topic #46: place, like, go, chicken, get, tast, food, menu, better, sure, cook, thing, order, one, mexican, back, good, wing, alway, bad\n",
      "Top 10 terms for topic #47: food, get, one, good, area, still, back, servic, mani, wait, around, plate, etc, friday, almost, well, come, go, clean, never\n",
      "Top 10 terms for topic #48: good, great, one, tab, stay, food, walk, aldo, eat, meal, wine, birthday, found, order, servic, place, wrap, big, server, went\n",
      "Top 10 terms for topic #49: order, good, food, like, get, place, hot, one, howev, disappoint, dish, side, chicken, restaur, make, ask, crispi, wing, go, alway\n"
     ]
    }
   ],
   "source": [
    "term_list = []\n",
    "for i in range(0, n_topics):\n",
    "    temp = lda.show_topic(i, 20)\n",
    "    terms = []\n",
    "    for term in temp:\n",
    "            terms.append(term)\n",
    "    term_list.append(terms)\n",
    "    print \"Top 10 terms for topic #\" + str(i) + \": \"+ \", \".join([i[1] for i in terms])"
   ]
  },
  {
   "cell_type": "code",
   "execution_count": 18,
   "metadata": {
    "collapsed": true
   },
   "outputs": [],
   "source": [
    "from os import path\n",
    "import matplotlib.pyplot as plt\n",
    "from wordcloud import WordCloud"
   ]
  },
  {
   "cell_type": "code",
   "execution_count": null,
   "metadata": {
    "collapsed": true
   },
   "outputs": [],
   "source": []
  },
  {
   "cell_type": "code",
   "execution_count": 19,
   "metadata": {
    "collapsed": true
   },
   "outputs": [],
   "source": [
    "K=14\n",
    "\n",
    "def terms_to_wordcounts(terms, multiplier=1000):\n",
    "    return  \" \".join([\" \".join(int(multiplier*i[0]) * [i[1]]) for i in terms])\n",
    "\n",
    "\n",
    "\n",
    "wordcloud = WordCloud().generate(terms_to_wordcounts(term_list[K]))\n",
    "\n",
    "\n",
    "plt.imshow(wordcloud)\n",
    "plt.axis(\"off\")\n",
    "plt.savefig(\"terms\" + str(K))\n",
    "plt.close()"
   ]
  },
  {
   "cell_type": "code",
   "execution_count": 23,
   "metadata": {
    "collapsed": true
   },
   "outputs": [],
   "source": [
    "def wordcloudgen():\n",
    "    for K in range(0,50):\n",
    "        wordcloud = WordCloud().generate(terms_to_wordcounts(term_list[K]))\n",
    "        plt.imshow(wordcloud)\n",
    "        plt.axis(\"off\")\n",
    "        plt.savefig(\"terms\" + str(K))\n",
    "        plt.close()\n"
   ]
  },
  {
   "cell_type": "code",
   "execution_count": 24,
   "metadata": {},
   "outputs": [],
   "source": [
    "wordcloudgen()"
   ]
  },
  {
   "cell_type": "code",
   "execution_count": 16,
   "metadata": {
    "collapsed": true
   },
   "outputs": [],
   "source": [
    "from sklearn.feature_extraction import DictVectorizer"
   ]
  },
  {
   "cell_type": "code",
   "execution_count": 18,
   "metadata": {
    "collapsed": true
   },
   "outputs": [],
   "source": [
    "def topics_to_vectorspace(n_topics, n_words=100):\n",
    "    rows = []\n",
    "    for i in xrange(n_topics):\n",
    "            temp = lda.show_topic(i, n_words)\n",
    "            row = dict(((i[1],i[0]) for i in temp))\n",
    "            rows.append(row)\n",
    "    return rows    "
   ]
  },
  {
   "cell_type": "code",
   "execution_count": 19,
   "metadata": {},
   "outputs": [
    {
     "data": {
      "text/plain": [
       "(50, 3092)"
      ]
     },
     "execution_count": 19,
     "metadata": {},
     "output_type": "execute_result"
    }
   ],
   "source": [
    "vec = DictVectorizer()\n",
    "X = vec.fit_transform(topics_to_vectorspace(n_topics))\n",
    "X.shape"
   ]
  },
  {
   "cell_type": "code",
   "execution_count": 22,
   "metadata": {
    "collapsed": true
   },
   "outputs": [],
   "source": [
    "from sklearn.decomposition import PCA\n",
    "pca = PCA(n_components=2)\n",
    "X_pca = pca.fit(X.toarray()).transform(X.toarray())\n",
    "plt.figure()\n",
    "for i in xrange(X_pca.shape[0]):\n",
    "    plt.scatter(X_pca[i, 0], X_pca[i, 1], alpha=.5)\n",
    "    plt.text(X_pca[i, 0], X_pca[i, 1], s=' ' + str(i),fontsize=8)    \n",
    "plt.title('PCA Topics of Yelp restaurant')\n",
    "plt.savefig(\"pca_topic\")\n",
    "plt.close()"
   ]
  },
  {
   "cell_type": "code",
   "execution_count": 23,
   "metadata": {
    "collapsed": true
   },
   "outputs": [],
   "source": [
    "from scipy.cluster.hierarchy import linkage, dendrogram\n",
    "plt.figure(figsize=(12,6))\n",
    "R = dendrogram(linkage(X_pca))\n",
    "plt.savefig(\"dendro\")\n",
    "plt.close()"
   ]
  },
  {
   "cell_type": "code",
   "execution_count": 26,
   "metadata": {
    "scrolled": true
   },
   "outputs": [
    {
     "name": "stderr",
     "output_type": "stream",
     "text": [
      "/Users/Taran/anaconda2/lib/python2.7/site-packages/ipykernel/__main__.py:7: ClusterWarning: scipy.cluster: The symmetric non-negative hollow observation matrix looks suspiciously like an uncondensed distance matrix\n"
     ]
    }
   ],
   "source": [
    "## correlation matrix\n",
    "from scipy.spatial.distance import pdist, squareform\n",
    "\n",
    "cor = squareform(pdist(X.toarray(), metric=\"euclidean\"))\n",
    "\n",
    "plt.figure(figsize=(12,6))\n",
    "R = dendrogram(linkage(cor))\n",
    "plt.savefig(\"corr\")\n",
    "\n",
    "plt.close()\n",
    "\n",
    "## network\n",
    "import networkx as nx\n",
    "from sklearn.pipeline import make_pipeline\n",
    "from sklearn.preprocessing import Normalizer\n",
    "pca_norm = make_pipeline(PCA(n_components=20), Normalizer(copy=False))\n",
    "X_pca_norm = pca_norm.fit(X.toarray()).transform(X.toarray())\n",
    "cor = squareform(pdist(X_pca_norm, metric=\"euclidean\"))\n",
    "G = nx.Graph()\n",
    "for i in xrange(cor.shape[0]):\n",
    "    for j in xrange(cor.shape[1]):\n",
    "        if i == j:\n",
    "            G.add_edge(i, j, {\"weight\":0})\n",
    "        else:\n",
    "            G.add_edge(i, j, {\"weight\":1.0/cor[i,j]})\n",
    "\n",
    "edges = [(i, j) for i, j, w in G.edges(data=True) if w['weight'] > .8]\n",
    "\n",
    "edge_weight=dict([((u,v,),int(d['weight'])) for u,v,d in G.edges(data=True)])\n",
    "#pos = nx.graphviz_layout(G, prog=\"twopi\") # twopi, neato, circo\n",
    "pos = nx.spring_layout(G)\n",
    "nx.draw_networkx_nodes(G, pos, node_size=100, alpha=.5)\n",
    "nx.draw_networkx_edges(G, pos, edgelist=edges, width=1)\n",
    "#nx.draw_networkx_edge_labels(G, pos ,edge_labels=edge_weight)\n",
    "nx.draw_networkx_labels(G, pos, font_size=8, font_family='sans-serif')\n",
    "plt.savefig(\"network\")\n",
    "plt.close()"
   ]
  },
  {
   "cell_type": "code",
   "execution_count": 35,
   "metadata": {
    "collapsed": true
   },
   "outputs": [],
   "source": [
    "def printhello():\n",
    "    a = 2+3\n",
    "    return a"
   ]
  },
  {
   "cell_type": "code",
   "execution_count": 39,
   "metadata": {},
   "outputs": [
    {
     "name": "stdout",
     "output_type": "stream",
     "text": [
      "1 loop, best of 3: 0 ns per loop\n"
     ]
    }
   ],
   "source": [
    "%timeit -n 1 a=printhello()"
   ]
  },
  {
   "cell_type": "code",
   "execution_count": 37,
   "metadata": {},
   "outputs": [
    {
     "ename": "NameError",
     "evalue": "name 'a' is not defined",
     "output_type": "error",
     "traceback": [
      "\u001b[0;31m---------------------------------------------------------------------------\u001b[0m",
      "\u001b[0;31mNameError\u001b[0m                                 Traceback (most recent call last)",
      "\u001b[0;32m<ipython-input-37-60b725f10c9c>\u001b[0m in \u001b[0;36m<module>\u001b[0;34m()\u001b[0m\n\u001b[0;32m----> 1\u001b[0;31m \u001b[0ma\u001b[0m\u001b[0;34m\u001b[0m\u001b[0m\n\u001b[0m",
      "\u001b[0;31mNameError\u001b[0m: name 'a' is not defined"
     ]
    }
   ],
   "source": [
    "In [51]: import matplotlib.pyplot as plt\n",
    "\n",
    "In [52]: num_top_words = 10\n",
    "\n",
    "In [53]: fontsize_base = 70 / np.max(word_topic) # font size for word with largest share in corpus\n",
    "\n",
    "In [54]: for t in range(num_topics):\n",
    "        plt.subplot(1, num_topics, t + 1)  # plot numbering starts with 1\n",
    "        plt.ylim(0, num_top_words + 0.5)  # stretch the y-axis to accommodate the words\n",
    "   ....:     plt.xticks([])  # remove x-axis markings ('ticks')\n",
    "   ....:     plt.yticks([]) # remove y-axis markings ('ticks')\n",
    "   ....:     plt.title('Topic #{}'.format(t))\n",
    "   ....:     top_words_idx = np.argsort(word_topic[:,t])[::-1]  # descending order\n",
    "   ....:     top_words_idx = top_words_idx[:num_top_words]\n",
    "   ....:     top_words = mallet_vocab[top_words_idx]\n",
    "   ....:     top_words_shares = word_topic[top_words_idx, t]\n",
    "   ....:     for i, (word, share) in enumerate(zip(top_words, top_words_shares)):\n",
    "   ....:         plt.text(0.3, num_top_words-i-0.5, word, fontsize=fontsize_base*share)\n",
    "   ....: \n",
    "\n",
    "In [55]: plt.tight_layout()"
   ]
  },
  {
   "cell_type": "code",
   "execution_count": 43,
   "metadata": {
    "collapsed": true
   },
   "outputs": [],
   "source": [
    "predict = [7,1,4,2,5,9,23,13]\n",
    "k=5\n",
    "I = sorted(range(len(predict)), key=lambda k: predict[k], reverse = True)\n",
    "I = I[:k]"
   ]
  },
  {
   "cell_type": "code",
   "execution_count": 44,
   "metadata": {},
   "outputs": [
    {
     "data": {
      "text/plain": [
       "[6, 7, 5, 0, 4]"
      ]
     },
     "execution_count": 44,
     "metadata": {},
     "output_type": "execute_result"
    }
   ],
   "source": [
    "I"
   ]
  },
  {
   "cell_type": "code",
   "execution_count": null,
   "metadata": {
    "collapsed": true
   },
   "outputs": [],
   "source": []
  }
 ],
 "metadata": {
  "kernelspec": {
   "display_name": "Python 2",
   "language": "python",
   "name": "python2"
  },
  "language_info": {
   "codemirror_mode": {
    "name": "ipython",
    "version": 2
   },
   "file_extension": ".py",
   "mimetype": "text/x-python",
   "name": "python",
   "nbconvert_exporter": "python",
   "pygments_lexer": "ipython2",
   "version": "2.7.13"
  }
 },
 "nbformat": 4,
 "nbformat_minor": 1
}
