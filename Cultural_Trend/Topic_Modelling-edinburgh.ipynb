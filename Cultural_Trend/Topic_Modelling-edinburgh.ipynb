{
 "cells": [
  {
   "cell_type": "code",
   "execution_count": 2,
   "metadata": {},
   "outputs": [
    {
     "name": "stderr",
     "output_type": "stream",
     "text": [
      "/Users/YJChang/anaconda/envs/python2/lib/python2.7/site-packages/IPython/html.py:14: ShimWarning: The `IPython.html` package has been deprecated since IPython 4.0. You should import from `notebook` instead. `IPython.html.widgets` has moved to `ipywidgets`.\n",
      "  \"`IPython.html.widgets` has moved to `ipywidgets`.\", ShimWarning)\n"
     ]
    }
   ],
   "source": [
    "import pandas as pd\n",
    "import numpy as np\n",
    "import ast\n",
    "import seaborn\n",
    "from collections import Counter\n",
    "import pickle\n",
    "from sklearn.feature_extraction.text import CountVectorizer\n",
    "from nltk.stem import WordNetLemmatizer\n",
    "wordnet_lemmatizer = WordNetLemmatizer()\n",
    "from nltk.stem import SnowballStemmer\n",
    "snowball_stemmer = SnowballStemmer(\"english\")\n",
    "from bs4 import BeautifulSoup\n",
    "import logging, gensim, bz2"
   ]
  },
  {
   "cell_type": "code",
   "execution_count": 3,
   "metadata": {
    "collapsed": true
   },
   "outputs": [],
   "source": [
    "import json\n",
    "import urlparse\n",
    "from itertools import chain\n",
    "flatten = chain.from_iterable\n",
    "from nltk import word_tokenize"
   ]
  },
  {
   "cell_type": "code",
   "execution_count": 4,
   "metadata": {
    "collapsed": true
   },
   "outputs": [],
   "source": [
    "def load(filename):\n",
    "    file = open(filename,'rb')\n",
    "    obj = pickle.load(file)\n",
    "    file.close()\n",
    "    return obj\n",
    "\n",
    "def dump(obj,filename):\n",
    "    filehandler = open(filename,\"wb\")\n",
    "    pickle.dump(obj,filehandler)\n",
    "    filehandler.close()"
   ]
  },
  {
   "cell_type": "markdown",
   "metadata": {},
   "source": [
    "### Load Pickled Data"
   ]
  },
  {
   "cell_type": "code",
   "execution_count": 5,
   "metadata": {},
   "outputs": [],
   "source": [
    "edinburgh_review = load(\"../Pickled_files/edinburgh_review.pkl\")"
   ]
  },
  {
   "cell_type": "code",
   "execution_count": 6,
   "metadata": {
    "collapsed": true
   },
   "outputs": [],
   "source": [
    "corpus = load(\"../Pickled_files/corpus_edinburgh.pkl\")\n",
    "dictionary = load(\"../Pickled_files/dictionary_edinburgh.pkl\")"
   ]
  },
  {
   "cell_type": "markdown",
   "metadata": {},
   "source": [
    "### Start LDA"
   ]
  },
  {
   "cell_type": "code",
   "execution_count": 7,
   "metadata": {},
   "outputs": [
    {
     "name": "stdout",
     "output_type": "stream",
     "text": [
      "[u'0.043*restaur + 0.028*food + 0.019*menu + 0.015*dish + 0.013*dine + 0.013*servic + 0.012*meal + 0.012*experi + 0.010*well + 0.009*excel', u'0.050*baguett + 0.049*oyster + 0.029*inn + 0.023*tower + 0.021*basil + 0.019*villag + 0.018*turkey + 0.018*sheep + 0.017*fed + 0.015*pepper', u'0.050*curri + 0.038*indian + 0.034*dish + 0.034*chicken + 0.024*food + 0.020*lamb + 0.018*rice + 0.015*order + 0.015*restaur + 0.013*naan', u'0.034*year + 0.027*night + 0.023*time + 0.019*last + 0.017*visit + 0.014*week + 0.013*ago + 0.011*alway + 0.010*get + 0.010*use', u'0.149*thai + 0.028*pad + 0.014*introduc + 0.013*bank + 0.013*stir + 0.012*monkfish + 0.011*august + 0.011*wetherspoon + 0.010*dive + 0.010*account', u'0.034*tempura + 0.031*korean + 0.026*gut + 0.025*shell + 0.020*tang + 0.017*aber + 0.016*wasabi + 0.015*teriyaki + 0.014*kim + 0.014*bonsai', u'0.051*steak + 0.019*rare + 0.015*medium + 0.013*voucher + 0.009*cut + 0.009*vinegar + 0.008*ask + 0.008*grill + 0.007*water + 0.007*oh', u'0.030*dish + 0.027*chines + 0.027*sauc + 0.022*chicken + 0.020*noodl + 0.019*prawn + 0.019*rice + 0.016*fri + 0.016*spici + 0.016*beef', u'0.172*chip + 0.151*fish + 0.030*batter + 0.030*fri + 0.022*chippi + 0.017*deep + 0.017*yum + 0.016*yard + 0.014*shop + 0.013*supper', u'0.041*bar + 0.023*place + 0.022*drink + 0.013*good + 0.012*night + 0.012*like + 0.011*music + 0.010*nice + 0.009*realli + 0.009*tabl', u'0.041*die + 0.039*und + 0.026*da + 0.023*der + 0.021*ein + 0.017*ist + 0.016*war + 0.015*man + 0.014*sehr + 0.013*e', u'0.031*like + 0.021*realli + 0.020*place + 0.019*go + 0.017*get + 0.015*bit + 0.014*one + 0.014*thing + 0.012*think + 0.012*much', u'0.080*potato + 0.066*free + 0.044*gluten + 0.043*option + 0.041*vegan + 0.040*vegetarian + 0.034*bake + 0.020*sweet + 0.017*pickl + 0.017*gf', u'0.213*burger + 0.047*fri + 0.027*bun + 0.022*chip + 0.020*chees + 0.017*chicken + 0.015*american + 0.013*milkshak + 0.011*bacon + 0.011*sauc', u'0.054*de + 0.032*la + 0.024*le + 0.021*un + 0.019*en + 0.018*que + 0.016*et + 0.013*el + 0.010*est + 0.010*e', u'0.023*local + 0.014*organ + 0.014*produc + 0.013*sourc + 0.010*prepar + 0.010*product + 0.010*advoc + 0.008*yo + 0.008*ingredi + 0.008*qualiti', u'0.097*breakfast + 0.034*roll + 0.031*sausag + 0.025*morn + 0.024*coffe + 0.024*bacon + 0.022*egg + 0.018*black + 0.013*full + 0.012*scottish', u'0.066*beer + 0.052*pub + 0.024*bar + 0.022*select + 0.020*whiski + 0.016*drink + 0.013*pint + 0.013*ale + 0.013*good + 0.011*great', u'0.119*italian + 0.088*wine + 0.070*pasta + 0.025*appet + 0.017*bottl + 0.016*glass + 0.015*restaur + 0.015*eleph + 0.014*itali + 0.013*hous', u'0.043*egg + 0.042*brunch + 0.030*breakfast + 0.020*toast + 0.020*pancak + 0.017*sunday + 0.016*menu + 0.014*juic + 0.013*french + 0.013*bacon', u'0.132*sushi + 0.049*japanes + 0.037*roll + 0.024*tuna + 0.022*miso + 0.019*gin + 0.018*sashimi + 0.016*box + 0.015*maki + 0.014*ramen', u'0.066*coffe + 0.042*tea + 0.036*cake + 0.031*cafe + 0.019*chocol + 0.014*good + 0.012*also + 0.011*littl + 0.011*shop + 0.011*hot', u'0.036*main + 0.031*cours + 0.027*starter + 0.026*menu + 0.019*meal + 0.018*wine + 0.018*restaur + 0.015*dessert + 0.014*lunch + 0.013*dinner', u'0.060*edinburgh + 0.056*best + 0.040*place + 0.026*one + 0.025*ever + 0.022*great + 0.021*food + 0.017*recommend + 0.017*amaz + 0.017*time', u'0.097*hotel + 0.082*room + 0.060*castl + 0.058*view + 0.040*stay + 0.019*edinburgh + 0.015*terrac + 0.014*stun + 0.012*vittoria + 0.010*window', u'0.045*lunch + 0.039*sandwich + 0.038*soup + 0.035*salad + 0.022*fresh + 0.016*fill + 0.015*wrap + 0.014*bread + 0.013*tasti + 0.011*day', u'0.030*street + 0.015*place + 0.014*edinburgh + 0.014*walk + 0.013*shop + 0.013*locat + 0.011*one + 0.010*citi + 0.010*get + 0.008*day', u'0.014*chees + 0.012*perfect + 0.012*sauc + 0.010*pork + 0.010*delici + 0.009*bread + 0.009*love + 0.008*dessert + 0.008*chocol + 0.008*potato', u'0.072*kid + 0.056*child + 0.020*middl + 0.016*eastern + 0.016*score + 0.013*terribl + 0.012*draw + 0.012*church + 0.012*hog + 0.012*cri', u'0.052*kebab + 0.038*student + 0.026*takeaway + 0.023*cheap + 0.021*late + 0.020*discount + 0.016*best + 0.015*night + 0.013*food + 0.012*alway', u'0.038*park + 0.034*london + 0.032*cinema + 0.027*car + 0.025*co + 0.018*uk + 0.017*http + 0.015*unbeliev + 0.014*facil + 0.013*com', u'0.017*review + 0.011*like + 0.011*know + 0.010*say + 0.008*could + 0.008*see + 0.008*star + 0.007*way + 0.007*said + 0.006*thing', u'0.043*good + 0.038*food + 0.032*price + 0.016*place + 0.015*qualiti + 0.014*servic + 0.013*pretti + 0.012*quit + 0.011*bit + 0.011*menu', u'0.021*film + 0.016*event + 0.014*hula + 0.013*mad + 0.013*random + 0.013*key + 0.013*rum + 0.011*arthur + 0.010*resid + 0.010*mom', u'0.051*train + 0.048*buffet + 0.044*station + 0.033*margarita + 0.017*99 + 0.014*tom + 0.012*journey + 0.012*airport + 0.011*waverley + 0.011*coast', u'0.024*guid + 0.015*sage + 0.015*cure + 0.014*hanov + 0.014*moon + 0.014*polish + 0.013*nobl + 0.011*vibrant + 0.011*hamburg + 0.010*wrote', u'0.066*great + 0.055*food + 0.046*friend + 0.043*place + 0.039*good + 0.036*staff + 0.035*love + 0.030*realli + 0.024*nice + 0.019*servic', u'0.040*mexican + 0.032*wing + 0.025*burrito + 0.024*nacho + 0.022*chicken + 0.021*taco + 0.016*bean + 0.016*salsa + 0.014*sauc + 0.014*guacamol', u'0.019*jack + 0.019*mari + 0.018*bloodi + 0.013*card + 0.011*napkin + 0.011*raw + 0.010*tray + 0.010*free + 0.010*stack + 0.009*omg', u'0.152*cream + 0.139*ice + 0.019*trap + 0.015*joke + 0.013*marshmallow + 0.013*rowl + 0.011*museum + 0.009*fudg + 0.009*jk + 0.009*organis', u'0.163*cocktail + 0.092*mile + 0.089*royal + 0.048*bar + 0.039*drink + 0.013*menu + 0.012*list + 0.010*martini + 0.008*extens + 0.006*boozi', u'0.049*tapa + 0.037*chees + 0.025*veggi + 0.024*platter + 0.022*share + 0.020*plate + 0.020*mum + 0.019*spanish + 0.016*oliv + 0.016*cor', u'0.298*pizza + 0.032*top + 0.024*express + 0.021*italian + 0.020*pasta + 0.017*base + 0.016*deliveri + 0.015*order + 0.014*la + 0.014*chees', u'0.023*daughter + 0.021*custard + 0.019*cooki + 0.019*sunshin + 0.018*shout + 0.016*chowder + 0.014*ha + 0.014*energi + 0.014*stodgi + 0.013*mar', u'0.031*tatti + 0.019*almond + 0.018*shelf + 0.017*diet + 0.014*neep + 0.014*terrif + 0.014*haggi + 0.014*dare + 0.013*tiramisu + 0.013*contrast', u'0.039*fring + 0.028*festiv + 0.028*nom + 0.026*ramen + 0.018*bang + 0.014*increas + 0.013*gyoza + 0.013*pasti + 0.013*jacket + 0.012*slap', u'0.026*u + 0.025*order + 0.023*tabl + 0.017*time + 0.015*wait + 0.013*ask + 0.012*arriv + 0.012*food + 0.011*back + 0.011*one', u'0.052*food + 0.050*good + 0.045*servic + 0.017*order + 0.017*ok + 0.016*nice + 0.016*would + 0.016*server + 0.016*star + 0.015*husband', u'0.048*pie + 0.046*haggi + 0.034*mussel + 0.031*seafood + 0.023*scottish + 0.023*salmon + 0.021*fish + 0.019*tour + 0.015*sea + 0.015*steak', u'0.039*love + 0.025*tri + 0.020*tast + 0.015*flavour + 0.011*sweet + 0.011*differ + 0.009*favourit + 0.009*delici + 0.009*amaz + 0.008*beauti']\n"
     ]
    }
   ],
   "source": [
    "ldamodel = gensim.models.ldamodel.LdaModel(corpus, num_topics=50, id2word = dictionary, passes=20)\n",
    "print(ldamodel.print_topics(topics=50, topn=10))"
   ]
  },
  {
   "cell_type": "code",
   "execution_count": 8,
   "metadata": {
    "collapsed": true
   },
   "outputs": [],
   "source": [
    "ldamodel.save(\"lda_edinburgh.model\")"
   ]
  },
  {
   "cell_type": "code",
   "execution_count": 9,
   "metadata": {
    "collapsed": true
   },
   "outputs": [],
   "source": [
    "model =  gensim.models.LdaModel.load('lda_edinburgh.model')"
   ]
  },
  {
   "cell_type": "code",
   "execution_count": 10,
   "metadata": {
    "scrolled": true
   },
   "outputs": [
    {
     "data": {
      "text/plain": [
       "[u'0.043*restaur + 0.028*food + 0.019*menu + 0.015*dish + 0.013*dine + 0.013*servic + 0.012*meal + 0.012*experi + 0.010*well + 0.009*excel + 0.009*visit + 0.009*one + 0.008*edinburgh + 0.008*present + 0.008*staff + 0.007*even + 0.006*would + 0.006*beauti + 0.006*dinner + 0.006*decor + 0.006*qualiti + 0.006*enjoy + 0.006*recommend + 0.006*chef + 0.006*tast + 0.006*friend + 0.005*wine + 0.005*special + 0.005*attent + 0.005*feel',\n",
       " u'0.050*baguett + 0.049*oyster + 0.029*inn + 0.023*tower + 0.021*basil + 0.019*villag + 0.018*turkey + 0.018*sheep + 0.017*fed + 0.015*pepper + 0.014*pret + 0.014*kfc + 0.013*heid + 0.013*thyme + 0.012*spa + 0.011*nicolson + 0.011*creation + 0.010*nasti + 0.009*immens + 0.009*fav + 0.009*distilleri + 0.009*manger + 0.008*einer + 0.008*sweetcorn + 0.008*hoos + 0.007*unhealthi + 0.007*express + 0.007*masala + 0.007*tuna + 0.006*valley',\n",
       " u'0.050*curri + 0.038*indian + 0.034*dish + 0.034*chicken + 0.024*food + 0.020*lamb + 0.018*rice + 0.015*order + 0.015*restaur + 0.013*naan + 0.012*spici + 0.012*meal + 0.012*delici + 0.010*flavour + 0.009*tri + 0.009*portion + 0.008*sauc + 0.008*meat + 0.008*authent + 0.008*great + 0.008*also + 0.008*tast + 0.008*good + 0.007*cook + 0.007*takeaway + 0.006*serv + 0.006*bread + 0.006*garlic + 0.006*tasti + 0.005*mango',\n",
       " u'0.034*year + 0.027*night + 0.023*time + 0.019*last + 0.017*visit + 0.014*week + 0.013*ago + 0.011*alway + 0.010*get + 0.010*use + 0.010*old + 0.010*christma + 0.010*chang + 0.010*still + 0.009*parti + 0.008*weekend + 0.008*live + 0.008*sinc + 0.007*place + 0.007*month + 0.006*never + 0.006*everi + 0.006*friday + 0.006*busi + 0.006*first + 0.006*one + 0.006*edinburgh + 0.006*work + 0.006*even + 0.005*favourit',\n",
       " u'0.149*thai + 0.028*pad + 0.014*introduc + 0.013*bank + 0.013*stir + 0.012*monkfish + 0.011*august + 0.011*wetherspoon + 0.010*dive + 0.010*account + 0.010*encourag + 0.009*parsnip + 0.009*patisseri + 0.009*intens + 0.008*liquid + 0.008*scotsman + 0.008*novel + 0.008*rabbi + 0.007*chap + 0.007*silver + 0.007*stockbridg + 0.007*theatr + 0.007*explan + 0.007*envi + 0.006*playhous + 0.006*tgi + 0.006*green + 0.006*milk + 0.006*underst + 0.006*confess',\n",
       " u'0.034*tempura + 0.031*korean + 0.026*gut + 0.025*shell + 0.020*tang + 0.017*aber + 0.016*wasabi + 0.015*teriyaki + 0.014*kim + 0.014*bonsai + 0.013*von + 0.012*einen + 0.012*hostel + 0.011*bru + 0.011*dem + 0.011*master + 0.011*irn + 0.011*gibt + 0.010*zum + 0.010*laden + 0.010*stupid + 0.009*al + 0.009*chopstick + 0.009*g\\xe3 + 0.009*gym + 0.008*das + 0.008*bomb + 0.008*bin + 0.007*app + 0.007*extent',\n",
       " u'0.051*steak + 0.019*rare + 0.015*medium + 0.013*voucher + 0.009*cut + 0.009*vinegar + 0.008*ask + 0.008*grill + 0.007*water + 0.007*oh + 0.006*california + 0.006*cook + 0.006*wedg + 0.006*11 + 0.006*hand + 0.006*eye + 0.006*treacl + 0.005*side + 0.005*well + 0.005*one + 0.005*brother + 0.005*mushi + 0.005*mouth + 0.005*forgot + 0.005*fork + 0.005*knife + 0.005*meat + 0.005*host + 0.005*ketchup + 0.005*star',\n",
       " u'0.030*dish + 0.027*chines + 0.027*sauc + 0.022*chicken + 0.020*noodl + 0.019*prawn + 0.019*rice + 0.016*fri + 0.016*spici + 0.016*beef + 0.015*order + 0.015*food + 0.012*restaur + 0.010*hot + 0.010*sweet + 0.009*pork + 0.009*chilli + 0.009*roll + 0.009*tast + 0.009*soup + 0.009*chop + 0.009*dumpl + 0.007*spice + 0.007*spring + 0.007*rib + 0.007*also + 0.007*cook + 0.006*veget + 0.006*flavour + 0.006*crispi',\n",
       " u'0.172*chip + 0.151*fish + 0.030*batter + 0.030*fri + 0.022*chippi + 0.017*deep + 0.017*yum + 0.016*yard + 0.014*shop + 0.013*supper + 0.013*peter + 0.012*greasi + 0.011*cook + 0.011*chunki + 0.010*pea + 0.009*drip + 0.009*fresh + 0.009*crispi + 0.008*soggi + 0.008*good + 0.008*hipster + 0.007*cheeseburg + 0.006*also + 0.006*sauc + 0.005*best + 0.005*dissapoint + 0.005*cod + 0.005*sausag + 0.005*home + 0.005*crisp',\n",
       " u'0.041*bar + 0.023*place + 0.022*drink + 0.013*good + 0.012*night + 0.012*like + 0.011*music + 0.010*nice + 0.009*realli + 0.009*tabl + 0.009*look + 0.009*go + 0.009*seat + 0.009*get + 0.009*area + 0.008*bit + 0.008*quit + 0.008*friend + 0.008*peopl + 0.008*room + 0.007*one + 0.007*back + 0.007*feel + 0.007*even + 0.007*great + 0.006*atmospher + 0.006*cool + 0.006*play + 0.006*also + 0.006*staff',\n",
       " u'0.041*die + 0.039*und + 0.026*da + 0.023*der + 0.021*ein + 0.017*ist + 0.016*war + 0.015*man + 0.014*sehr + 0.013*e + 0.013*mit + 0.013*ich + 0.012*nicht + 0.012*den + 0.011*zu + 0.011*auch + 0.009*f\\xe3\\xbcr + 0.009*hier + 0.009*auf + 0.007*wir + 0.007*m\\xe3 + 0.006*essen + 0.005*edinburgh + 0.005*hat + 0.005*restaur + 0.005*kann + 0.005*waren + 0.004*etwa + 0.004*noch + 0.004*nur',\n",
       " u'0.031*like + 0.021*realli + 0.020*place + 0.019*go + 0.017*get + 0.015*bit + 0.014*one + 0.014*thing + 0.012*think + 0.012*much + 0.011*want + 0.010*would + 0.010*good + 0.009*tri + 0.009*know + 0.009*someth + 0.008*say + 0.008*look + 0.008*eat + 0.008*food + 0.008*come + 0.008*make + 0.007*pretti + 0.007*time + 0.007*littl + 0.006*though + 0.006*got + 0.006*tast + 0.006*better + 0.006*feel',\n",
       " u'0.080*potato + 0.066*free + 0.044*gluten + 0.043*option + 0.041*vegan + 0.040*vegetarian + 0.034*bake + 0.020*sweet + 0.017*pickl + 0.017*gf + 0.011*fill + 0.010*kitchen + 0.009*top + 0.008*mosqu + 0.008*bread + 0.008*small + 0.008*mayo + 0.007*moist + 0.007*onion + 0.006*earthi + 0.006*driver + 0.006*spinach + 0.006*quich + 0.005*salad + 0.005*crusti + 0.005*seed + 0.005*portobello + 0.005*eat + 0.005*courgett + 0.005*avail',\n",
       " u'0.213*burger + 0.047*fri + 0.027*bun + 0.022*chip + 0.020*chees + 0.017*chicken + 0.015*american + 0.013*milkshak + 0.011*bacon + 0.011*sauc + 0.011*bbq + 0.010*onion + 0.010*good + 0.010*beef + 0.010*holyrood + 0.009*diner + 0.008*shake + 0.008*top + 0.008*9a + 0.008*ring + 0.008*well + 0.008*southern + 0.007*chilli + 0.007*patti + 0.007*side + 0.007*nando + 0.006*red + 0.006*joint + 0.005*juici + 0.005*dog',\n",
       " u'0.054*de + 0.032*la + 0.024*le + 0.021*un + 0.019*en + 0.018*que + 0.016*et + 0.013*el + 0.010*est + 0.010*e + 0.008*con + 0.007*du + 0.007*il + 0.007*pour + 0.006*bon + 0.006*una + 0.006*au + 0.006*se + 0.006*di + 0.006*je + 0.005*al + 0.005*pa + 0.005*si + 0.005*d\\xe3 + 0.005*l\\xe3 + 0.005*une + 0.005*nous + 0.005*para + 0.005*vin + 0.005*lo',\n",
       " u'0.023*local + 0.014*organ + 0.014*produc + 0.013*sourc + 0.010*prepar + 0.010*product + 0.010*advoc + 0.008*yo + 0.008*ingredi + 0.008*qualiti + 0.007*lebowski + 0.007*may + 0.007*track + 0.007*ordinari + 0.007*deliv + 0.007*requir + 0.006*well + 0.006*stock + 0.006*belt + 0.006*dairi + 0.006*rang + 0.006*nan + 0.006*dietari + 0.005*beaten + 0.005*howi + 0.005*factor + 0.005*pace + 0.005*argu + 0.005*brand + 0.005*packag',\n",
       " u'0.097*breakfast + 0.034*roll + 0.031*sausag + 0.025*morn + 0.024*coffe + 0.024*bacon + 0.022*egg + 0.018*black + 0.013*full + 0.012*scottish + 0.012*haggi + 0.010*toast + 0.010*chees + 0.010*bagel + 0.009*poach + 0.009*histori + 0.009*cafe + 0.008*bean + 0.008*frankenstein + 0.008*pud + 0.008*cook + 0.007*good + 0.007*spoon + 0.007*fri + 0.007*brown + 0.007*day + 0.007*mushroom + 0.007*well + 0.006*sandwich + 0.006*ham',\n",
       " u'0.066*beer + 0.052*pub + 0.024*bar + 0.022*select + 0.020*whiski + 0.016*drink + 0.013*pint + 0.013*ale + 0.013*good + 0.011*great + 0.009*local + 0.009*tap + 0.008*also + 0.008*dog + 0.008*bottl + 0.007*tradit + 0.007*whiskey + 0.006*well + 0.006*rang + 0.006*wine + 0.006*cider + 0.005*real + 0.005*friend + 0.005*enjoy + 0.005*scottish + 0.005*offer + 0.004*craft + 0.004*spirit + 0.004*old + 0.004*visit',\n",
       " u'0.119*italian + 0.088*wine + 0.070*pasta + 0.025*appet + 0.017*bottl + 0.016*glass + 0.015*restaur + 0.015*eleph + 0.014*itali + 0.013*hous + 0.013*dish + 0.011*red + 0.010*risotto + 0.010*spaghetti + 0.009*white + 0.008*calzon + 0.008*authent + 0.008*shore + 0.008*bruschetta + 0.008*roti + 0.008*al + 0.007*stone + 0.006*pm + 0.006*carbonara + 0.006*garlic + 0.006*pro + 0.006*biblo + 0.006*calamari + 0.006*cellar + 0.005*saag',\n",
       " u'0.043*egg + 0.042*brunch + 0.030*breakfast + 0.020*toast + 0.020*pancak + 0.017*sunday + 0.016*menu + 0.014*juic + 0.013*french + 0.013*bacon + 0.011*salmon + 0.010*syrup + 0.010*benedict + 0.009*also + 0.009*day + 0.009*waffl + 0.009*russian + 0.008*mapl + 0.008*orang + 0.008*wall + 0.008*smoke + 0.007*love + 0.007*white + 0.007*serv + 0.007*smoothi + 0.006*scrambl + 0.006*full + 0.006*blue + 0.006*spot + 0.006*weekend',\n",
       " u'0.132*sushi + 0.049*japanes + 0.037*roll + 0.024*tuna + 0.022*miso + 0.019*gin + 0.018*sashimi + 0.016*box + 0.015*maki + 0.014*ramen + 0.014*fish + 0.010*tonic + 0.010*fresh + 0.009*nigiri + 0.009*fusion + 0.008*kanpai + 0.008*bento + 0.008*soup + 0.008*edinburgh + 0.007*avocado + 0.007*set + 0.007*seawe + 0.006*san + 0.006*liquor + 0.006*specialti + 0.005*wallpap + 0.005*town + 0.005*mountain + 0.005*piec + 0.005*aubergin',\n",
       " u'0.066*coffe + 0.042*tea + 0.036*cake + 0.031*cafe + 0.019*chocol + 0.014*good + 0.012*also + 0.011*littl + 0.011*shop + 0.011*hot + 0.010*love + 0.010*cup + 0.009*scone + 0.009*afternoon + 0.009*place + 0.009*look + 0.008*nice + 0.007*friend + 0.007*sandwich + 0.006*pastri + 0.006*caf\\xe3 + 0.006*seat + 0.006*sit + 0.005*latt + 0.005*delici + 0.005*serv + 0.005*day + 0.005*sweet + 0.005*small + 0.005*pot',\n",
       " u'0.036*main + 0.031*cours + 0.027*starter + 0.026*menu + 0.019*meal + 0.018*wine + 0.018*restaur + 0.015*dessert + 0.014*lunch + 0.013*dinner + 0.011*two + 0.010*good + 0.010*realli + 0.009*steak + 0.009*dish + 0.009*delici + 0.008*great + 0.008*enjoy + 0.008*share + 0.008*small + 0.008*tabl + 0.008*book + 0.008*went + 0.008*portion + 0.008*well + 0.007*nice + 0.007*love + 0.007*also + 0.007*set + 0.006*cook',\n",
       " u'0.060*edinburgh + 0.056*best + 0.040*place + 0.026*one + 0.025*ever + 0.022*great + 0.021*food + 0.017*recommend + 0.017*amaz + 0.017*time + 0.014*visit + 0.013*high + 0.011*love + 0.011*trip + 0.010*restaur + 0.010*favorit + 0.009*worth + 0.009*fantast + 0.009*go + 0.009*eat + 0.008*find + 0.008*absolut + 0.008*scotland + 0.008*citi + 0.008*definit + 0.007*back + 0.007*first + 0.007*must + 0.007*would + 0.006*say',\n",
       " u'0.097*hotel + 0.082*room + 0.060*castl + 0.058*view + 0.040*stay + 0.019*edinburgh + 0.015*terrac + 0.014*stun + 0.012*vittoria + 0.010*window + 0.009*comfort + 0.009*petit + 0.009*gem + 0.007*help + 0.007*hidden + 0.006*book + 0.006*histor + 0.006*block + 0.006*seek + 0.005*explor + 0.005*includ + 0.005*kismot + 0.005*highland + 0.004*tree + 0.004*bus + 0.004*viva + 0.004*modern + 0.004*scotland + 0.004*bella + 0.004*day',\n",
       " u'0.045*lunch + 0.039*sandwich + 0.038*soup + 0.035*salad + 0.022*fresh + 0.016*fill + 0.015*wrap + 0.014*bread + 0.013*tasti + 0.011*day + 0.010*good + 0.010*made + 0.010*also + 0.009*delici + 0.009*chicken + 0.009*go + 0.009*time + 0.009*place + 0.008*offer + 0.008*great + 0.008*healthi + 0.007*option + 0.007*lunchtim + 0.007*quick + 0.007*select + 0.007*deli + 0.007*eat + 0.007*chees + 0.006*falafel + 0.006*shop',\n",
       " u'0.030*street + 0.015*place + 0.014*edinburgh + 0.014*walk + 0.013*shop + 0.013*locat + 0.011*one + 0.010*citi + 0.010*get + 0.008*day + 0.007*like + 0.007*centr + 0.006*littl + 0.006*area + 0.006*tourist + 0.006*find + 0.006*away + 0.006*outsid + 0.006*town + 0.006*georg + 0.006*feel + 0.006*go + 0.006*look + 0.006*insid + 0.005*around + 0.005*st + 0.005*lot + 0.005*seat + 0.005*way + 0.004*right',\n",
       " u'0.014*chees + 0.012*perfect + 0.012*sauc + 0.010*pork + 0.010*delici + 0.009*bread + 0.009*love + 0.008*dessert + 0.008*chocol + 0.008*potato + 0.007*roast + 0.007*cook + 0.007*nice + 0.007*well + 0.007*littl + 0.006*came + 0.006*like + 0.006*serv + 0.006*bit + 0.006*sweet + 0.006*side + 0.006*mash + 0.006*tast + 0.006*pud + 0.006*good + 0.005*salad + 0.005*meat + 0.005*tasti + 0.005*flavour + 0.005*butter',\n",
       " u'0.072*kid + 0.056*child + 0.020*middl + 0.016*eastern + 0.016*score + 0.013*terribl + 0.012*draw + 0.012*church + 0.012*hog + 0.012*cri + 0.011*adult + 0.011*son + 0.011*hub + 0.010*babi + 0.010*german + 0.009*rout + 0.009*dude + 0.008*stag + 0.008*instanc + 0.008*piti + 0.008*gastropub + 0.007*toddler + 0.007*influenc + 0.007*marchmont + 0.007*fake + 0.007*environ + 0.006*het + 0.006*traffic + 0.006*toy + 0.006*lane',\n",
       " u'0.052*kebab + 0.038*student + 0.026*takeaway + 0.023*cheap + 0.021*late + 0.020*discount + 0.016*best + 0.015*night + 0.013*food + 0.012*alway + 0.011*edinburgh + 0.010*open + 0.008*regret + 0.008*hous + 0.007*korma + 0.007*wholesom + 0.007*paneer + 0.007*south + 0.007*bridg + 0.006*iv + 0.006*sometim + 0.006*greas + 0.005*hour + 0.005*greasi + 0.005*paradis + 0.005*fiver + 0.005*tast + 0.005*never + 0.005*feast + 0.005*enorm',\n",
       " u'0.038*park + 0.034*london + 0.032*cinema + 0.027*car + 0.025*co + 0.018*uk + 0.017*http + 0.015*unbeliev + 0.014*facil + 0.013*com + 0.013*drive + 0.013*fountain + 0.012*www + 0.012*luca + 0.011*north + 0.010*nip + 0.010*loudon + 0.010*che + 0.010*hut + 0.009*calori + 0.009*lecker + 0.008*ho + 0.008*free + 0.008*fort + 0.008*holi + 0.007*quot + 0.007*twitter + 0.007*gentl + 0.007*tail + 0.007*behold',\n",
       " u'0.017*review + 0.011*like + 0.011*know + 0.010*say + 0.008*could + 0.008*see + 0.008*star + 0.007*way + 0.007*said + 0.006*thing + 0.006*make + 0.006*read + 0.006*oh + 0.006*yes + 0.006*point + 0.005*one + 0.005*perhap + 0.005*would + 0.005*first + 0.005*need + 0.005*yelp + 0.005*word + 0.005*tell + 0.005*fact + 0.005*think + 0.004*want + 0.004*serious + 0.004*peopl + 0.004*work + 0.004*let',\n",
       " u'0.043*good + 0.038*food + 0.032*price + 0.016*place + 0.015*qualiti + 0.014*servic + 0.013*pretti + 0.012*quit + 0.011*bit + 0.011*menu + 0.011*offer + 0.011*decent + 0.010*reason + 0.009*restaur + 0.009*get + 0.008*howev + 0.008*expens + 0.008*much + 0.008*though + 0.008*nice + 0.008*seem + 0.008*portion + 0.007*well + 0.007*better + 0.007*expect + 0.007*money + 0.007*go + 0.007*also + 0.007*valu + 0.007*fair',\n",
       " u'0.021*film + 0.016*event + 0.014*hula + 0.013*mad + 0.013*random + 0.013*key + 0.013*rum + 0.011*arthur + 0.010*resid + 0.010*mom + 0.010*public + 0.010*desk + 0.009*leisur + 0.009*librari + 0.008*pitcher + 0.008*galleri + 0.008*tour + 0.008*lift + 0.007*record + 0.007*gift + 0.007*art + 0.007*touristi + 0.007*croquett + 0.007*id + 0.006*death + 0.006*googl + 0.006*risk + 0.006*stare + 0.006*pale + 0.006*heel',\n",
       " u'0.051*train + 0.048*buffet + 0.044*station + 0.033*margarita + 0.017*99 + 0.014*tom + 0.012*journey + 0.012*airport + 0.011*waverley + 0.011*coast + 0.010*condiment + 0.010*enchilada + 0.010*frozen + 0.010*til + 0.010*flow + 0.009*pistachio + 0.009*piri + 0.008*cabbag + 0.008*swim + 0.008*hop + 0.008*jimmi + 0.008*biscuit + 0.008*macaroon + 0.007*shallot + 0.007*macaron + 0.007*kilt + 0.007*valentin + 0.007*hunter + 0.006*signatur + 0.006*21',\n",
       " u'0.024*guid + 0.015*sage + 0.015*cure + 0.014*hanov + 0.014*moon + 0.014*polish + 0.013*nobl + 0.011*vibrant + 0.011*hamburg + 0.010*wrote + 0.010*america + 0.009*og + 0.008*hangov + 0.008*victor + 0.008*bell + 0.008*tattoo + 0.007*legendari + 0.007*var + 0.007*hugo + 0.006*gear + 0.006*project + 0.006*men + 0.006*sightse + 0.006*heller + 0.005*heater + 0.005*elbow + 0.005*musician + 0.005*jeg + 0.005*enquir + 0.005*blue',\n",
       " u'0.066*great + 0.055*food + 0.046*friend + 0.043*place + 0.039*good + 0.036*staff + 0.035*love + 0.030*realli + 0.024*nice + 0.019*servic + 0.018*go + 0.018*atmospher + 0.017*alway + 0.014*price + 0.014*delici + 0.014*recommend + 0.011*definit + 0.011*back + 0.011*time + 0.009*amaz + 0.009*reason + 0.008*littl + 0.008*lunch + 0.008*excel + 0.008*tasti + 0.008*also + 0.007*would + 0.007*tri + 0.007*help + 0.007*visit',\n",
       " u'0.040*mexican + 0.032*wing + 0.025*burrito + 0.024*nacho + 0.022*chicken + 0.021*taco + 0.016*bean + 0.016*salsa + 0.014*sauc + 0.014*guacamol + 0.011*food + 0.011*chees + 0.010*sour + 0.010*tortilla + 0.009*hot + 0.009*pork + 0.008*fajita + 0.008*spici + 0.008*pull + 0.007*fill + 0.007*mex + 0.007*top + 0.007*tex + 0.006*rice + 0.006*cream + 0.006*magic + 0.005*chip + 0.005*bowl + 0.005*tasti + 0.005*eat',\n",
       " u'0.019*jack + 0.019*mari + 0.018*bloodi + 0.013*card + 0.011*napkin + 0.011*raw + 0.010*tray + 0.010*free + 0.010*stack + 0.009*omg + 0.009*three + 0.008*yoghurt + 0.008*illeg + 0.008*quesadilla + 0.008*ribey + 0.008*plum + 0.007*challeng + 0.007*trend + 0.007*upper + 0.007*loyalti + 0.007*runni + 0.007*americano + 0.006*union + 0.006*thrill + 0.006*kofta + 0.005*uncl + 0.005*research + 0.005*pound + 0.005*proport + 0.005*buck',\n",
       " u'0.152*cream + 0.139*ice + 0.019*trap + 0.015*joke + 0.013*marshmallow + 0.013*rowl + 0.011*museum + 0.009*fudg + 0.009*jk + 0.009*organis + 0.009*defin + 0.009*silli + 0.008*whip + 0.008*crolla + 0.008*magnific + 0.007*januari + 0.007*valvona + 0.006*dutch + 0.006*wet + 0.006*beard + 0.006*hilari + 0.005*bouncer + 0.005*stagger + 0.005*altogeth + 0.005*float + 0.005*coconut + 0.005*blackboard + 0.005*cap + 0.005*pictur + 0.004*realiti',\n",
       " u'0.163*cocktail + 0.092*mile + 0.089*royal + 0.048*bar + 0.039*drink + 0.013*menu + 0.012*list + 0.010*martini + 0.008*extens + 0.006*boozi + 0.006*alcohol + 0.005*glass + 0.005*sygn + 0.005*spot + 0.005*edinburgh + 0.005*kohl + 0.004*blackbird + 0.004*fun + 0.004*khushi + 0.004*creativ + 0.004*cool + 0.004*gurkha + 0.004*dim + 0.004*bagpip + 0.004*slate + 0.004*privat + 0.003*montpeli + 0.003*tartan + 0.003*chic + 0.003*radar',\n",
       " u'0.049*tapa + 0.037*chees + 0.025*veggi + 0.024*platter + 0.022*share + 0.020*plate + 0.020*mum + 0.019*spanish + 0.016*oliv + 0.016*cor + 0.016*d\\xe3 + 0.015*meat + 0.014*vegetarian + 0.012*aubergin + 0.012*mother + 0.011*mac + 0.011*dish + 0.011*henderson + 0.011*order + 0.010*eater + 0.010*pakora + 0.009*mushroom + 0.009*grill + 0.009*halloumi + 0.008*oil + 0.007*chorizo + 0.007*hubbi + 0.007*meatbal + 0.006*prici + 0.006*samosa',\n",
       " u'0.298*pizza + 0.032*top + 0.024*express + 0.021*italian + 0.020*pasta + 0.017*base + 0.016*deliveri + 0.015*order + 0.014*la + 0.014*chees + 0.012*ham + 0.010*slice + 0.009*branch + 0.009*mamma + 0.007*parma + 0.007*chain + 0.006*antipasti + 0.006*prior + 0.006*hazelnut + 0.006*sauc + 0.006*domino + 0.006*depth + 0.006*choc + 0.006*away + 0.006*pepperoni + 0.006*fairi + 0.005*eh + 0.005*crispi + 0.005*gotta + 0.005*deliv',\n",
       " u'0.023*daughter + 0.021*custard + 0.019*cooki + 0.019*sunshin + 0.018*shout + 0.016*chowder + 0.014*ha + 0.014*energi + 0.014*stodgi + 0.013*mar + 0.012*sourdough + 0.011*address + 0.010*grumpi + 0.010*dull + 0.010*punter + 0.010*mill + 0.010*everyday + 0.010*retain + 0.009*croqu + 0.008*print + 0.008*grass + 0.008*dhu + 0.008*campus + 0.008*climb + 0.007*90 + 0.007*mobil + 0.007*delish + 0.007*teuchter + 0.007*favor + 0.006*merlot',\n",
       " u'0.031*tatti + 0.019*almond + 0.018*shelf + 0.017*diet + 0.014*neep + 0.014*terrif + 0.014*haggi + 0.014*dare + 0.013*tiramisu + 0.013*contrast + 0.011*enthusiast + 0.010*pillow + 0.010*mention + 0.009*layer + 0.009*basi + 0.008*caper + 0.008*garnish + 0.008*swish + 0.008*profiterol + 0.008*heck + 0.008*field + 0.007*trio + 0.007*grub + 0.007*creativ + 0.007*human + 0.007*joy + 0.007*featur + 0.007*haunt + 0.007*gigant + 0.007*carn',\n",
       " u'0.039*fring + 0.028*festiv + 0.028*nom + 0.026*ramen + 0.018*bang + 0.014*increas + 0.013*gyoza + 0.013*pasti + 0.013*jacket + 0.012*slap + 0.012*bewar + 0.010*japan + 0.010*easter + 0.009*mi + 0.008*courtyard + 0.008*nook + 0.008*stain + 0.008*dens + 0.007*halfway + 0.007*epic + 0.007*frame + 0.007*lip + 0.007*gregg + 0.007*smack + 0.006*chuck + 0.006*es + 0.006*era + 0.006*hare + 0.006*swap + 0.006*chaotic',\n",
       " u'0.026*u + 0.025*order + 0.023*tabl + 0.017*time + 0.015*wait + 0.013*ask + 0.012*arriv + 0.012*food + 0.011*back + 0.011*one + 0.010*would + 0.010*minut + 0.010*came + 0.009*get + 0.009*servic + 0.008*got + 0.008*staff + 0.008*even + 0.008*took + 0.008*went + 0.007*could + 0.007*drink + 0.007*two + 0.007*waitress + 0.007*go + 0.006*friend + 0.006*waiter + 0.006*take + 0.006*first + 0.006*seat',\n",
       " u'0.052*food + 0.050*good + 0.045*servic + 0.017*order + 0.017*ok + 0.016*nice + 0.016*would + 0.016*server + 0.016*star + 0.015*husband + 0.015*place + 0.015*disappoint + 0.015*bad + 0.014*slow + 0.013*came + 0.012*realli + 0.011*got + 0.011*experi + 0.011*wife + 0.010*averag + 0.010*overal + 0.010*noth + 0.009*tast + 0.009*better + 0.009*flavor + 0.009*review + 0.009*went + 0.009*ambianc + 0.008*restaur + 0.008*first',\n",
       " u'0.048*pie + 0.046*haggi + 0.034*mussel + 0.031*seafood + 0.023*scottish + 0.023*salmon + 0.021*fish + 0.019*tour + 0.015*sea + 0.015*steak + 0.014*smoke + 0.013*scotland + 0.013*scallop + 0.010*entre + 0.009*edinburgh + 0.009*haddock + 0.009*lobster + 0.008*delici + 0.008*day + 0.008*bass + 0.007*truffl + 0.007*fresh + 0.007*venison + 0.006*shrimp + 0.006*perfect + 0.006*mash + 0.006*also + 0.006*flavor + 0.006*tri + 0.005*loch',\n",
       " u'0.039*love + 0.025*tri + 0.020*tast + 0.015*flavour + 0.011*sweet + 0.011*differ + 0.009*favourit + 0.009*delici + 0.009*amaz + 0.008*beauti + 0.007*juic + 0.007*made + 0.007*strawberri + 0.007*appl + 0.007*even + 0.007*gorgeous + 0.006*one + 0.006*birthday + 0.006*fruit + 0.006*holiday + 0.006*absolut + 0.005*favorita + 0.005*treat + 0.005*delight + 0.005*menu + 0.005*bubbl + 0.005*also + 0.005*ever + 0.005*mint + 0.005*drink']"
      ]
     },
     "execution_count": 10,
     "metadata": {},
     "output_type": "execute_result"
    }
   ],
   "source": [
    "model.print_topics(50,topn=30)"
   ]
  },
  {
   "cell_type": "markdown",
   "metadata": {},
   "source": [
    "### Word Cloud generator"
   ]
  },
  {
   "cell_type": "code",
   "execution_count": 11,
   "metadata": {
    "collapsed": true
   },
   "outputs": [],
   "source": [
    "from wordcloud import WordCloud\n",
    "import matplotlib.pyplot as plt"
   ]
  },
  {
   "cell_type": "code",
   "execution_count": 12,
   "metadata": {},
   "outputs": [
    {
     "name": "stdout",
     "output_type": "stream",
     "text": [
      "[u'0.043*restaur + 0.028*food + 0.019*menu + 0.015*dish + 0.013*dine + 0.013*servic + 0.012*meal + 0.012*experi + 0.010*well + 0.009*excel', u'0.050*baguett + 0.049*oyster + 0.029*inn + 0.023*tower + 0.021*basil + 0.019*villag + 0.018*turkey + 0.018*sheep + 0.017*fed + 0.015*pepper', u'0.050*curri + 0.038*indian + 0.034*dish + 0.034*chicken + 0.024*food + 0.020*lamb + 0.018*rice + 0.015*order + 0.015*restaur + 0.013*naan', u'0.034*year + 0.027*night + 0.023*time + 0.019*last + 0.017*visit + 0.014*week + 0.013*ago + 0.011*alway + 0.010*get + 0.010*use', u'0.149*thai + 0.028*pad + 0.014*introduc + 0.013*bank + 0.013*stir + 0.012*monkfish + 0.011*august + 0.011*wetherspoon + 0.010*dive + 0.010*account', u'0.034*tempura + 0.031*korean + 0.026*gut + 0.025*shell + 0.020*tang + 0.017*aber + 0.016*wasabi + 0.015*teriyaki + 0.014*kim + 0.014*bonsai', u'0.051*steak + 0.019*rare + 0.015*medium + 0.013*voucher + 0.009*cut + 0.009*vinegar + 0.008*ask + 0.008*grill + 0.007*water + 0.007*oh', u'0.030*dish + 0.027*chines + 0.027*sauc + 0.022*chicken + 0.020*noodl + 0.019*prawn + 0.019*rice + 0.016*fri + 0.016*spici + 0.016*beef', u'0.172*chip + 0.151*fish + 0.030*batter + 0.030*fri + 0.022*chippi + 0.017*deep + 0.017*yum + 0.016*yard + 0.014*shop + 0.013*supper', u'0.041*bar + 0.023*place + 0.022*drink + 0.013*good + 0.012*night + 0.012*like + 0.011*music + 0.010*nice + 0.009*realli + 0.009*tabl', u'0.041*die + 0.039*und + 0.026*da + 0.023*der + 0.021*ein + 0.017*ist + 0.016*war + 0.015*man + 0.014*sehr + 0.013*e', u'0.031*like + 0.021*realli + 0.020*place + 0.019*go + 0.017*get + 0.015*bit + 0.014*one + 0.014*thing + 0.012*think + 0.012*much', u'0.080*potato + 0.066*free + 0.044*gluten + 0.043*option + 0.041*vegan + 0.040*vegetarian + 0.034*bake + 0.020*sweet + 0.017*pickl + 0.017*gf', u'0.213*burger + 0.047*fri + 0.027*bun + 0.022*chip + 0.020*chees + 0.017*chicken + 0.015*american + 0.013*milkshak + 0.011*bacon + 0.011*sauc', u'0.054*de + 0.032*la + 0.024*le + 0.021*un + 0.019*en + 0.018*que + 0.016*et + 0.013*el + 0.010*est + 0.010*e', u'0.023*local + 0.014*organ + 0.014*produc + 0.013*sourc + 0.010*prepar + 0.010*product + 0.010*advoc + 0.008*yo + 0.008*ingredi + 0.008*qualiti', u'0.097*breakfast + 0.034*roll + 0.031*sausag + 0.025*morn + 0.024*coffe + 0.024*bacon + 0.022*egg + 0.018*black + 0.013*full + 0.012*scottish', u'0.066*beer + 0.052*pub + 0.024*bar + 0.022*select + 0.020*whiski + 0.016*drink + 0.013*pint + 0.013*ale + 0.013*good + 0.011*great', u'0.119*italian + 0.088*wine + 0.070*pasta + 0.025*appet + 0.017*bottl + 0.016*glass + 0.015*restaur + 0.015*eleph + 0.014*itali + 0.013*hous', u'0.043*egg + 0.042*brunch + 0.030*breakfast + 0.020*toast + 0.020*pancak + 0.017*sunday + 0.016*menu + 0.014*juic + 0.013*french + 0.013*bacon', u'0.132*sushi + 0.049*japanes + 0.037*roll + 0.024*tuna + 0.022*miso + 0.019*gin + 0.018*sashimi + 0.016*box + 0.015*maki + 0.014*ramen', u'0.066*coffe + 0.042*tea + 0.036*cake + 0.031*cafe + 0.019*chocol + 0.014*good + 0.012*also + 0.011*littl + 0.011*shop + 0.011*hot', u'0.036*main + 0.031*cours + 0.027*starter + 0.026*menu + 0.019*meal + 0.018*wine + 0.018*restaur + 0.015*dessert + 0.014*lunch + 0.013*dinner', u'0.060*edinburgh + 0.056*best + 0.040*place + 0.026*one + 0.025*ever + 0.022*great + 0.021*food + 0.017*recommend + 0.017*amaz + 0.017*time', u'0.097*hotel + 0.082*room + 0.060*castl + 0.058*view + 0.040*stay + 0.019*edinburgh + 0.015*terrac + 0.014*stun + 0.012*vittoria + 0.010*window', u'0.045*lunch + 0.039*sandwich + 0.038*soup + 0.035*salad + 0.022*fresh + 0.016*fill + 0.015*wrap + 0.014*bread + 0.013*tasti + 0.011*day', u'0.030*street + 0.015*place + 0.014*edinburgh + 0.014*walk + 0.013*shop + 0.013*locat + 0.011*one + 0.010*citi + 0.010*get + 0.008*day', u'0.014*chees + 0.012*perfect + 0.012*sauc + 0.010*pork + 0.010*delici + 0.009*bread + 0.009*love + 0.008*dessert + 0.008*chocol + 0.008*potato', u'0.072*kid + 0.056*child + 0.020*middl + 0.016*eastern + 0.016*score + 0.013*terribl + 0.012*draw + 0.012*church + 0.012*hog + 0.012*cri', u'0.052*kebab + 0.038*student + 0.026*takeaway + 0.023*cheap + 0.021*late + 0.020*discount + 0.016*best + 0.015*night + 0.013*food + 0.012*alway', u'0.038*park + 0.034*london + 0.032*cinema + 0.027*car + 0.025*co + 0.018*uk + 0.017*http + 0.015*unbeliev + 0.014*facil + 0.013*com', u'0.017*review + 0.011*like + 0.011*know + 0.010*say + 0.008*could + 0.008*see + 0.008*star + 0.007*way + 0.007*said + 0.006*thing', u'0.043*good + 0.038*food + 0.032*price + 0.016*place + 0.015*qualiti + 0.014*servic + 0.013*pretti + 0.012*quit + 0.011*bit + 0.011*menu', u'0.021*film + 0.016*event + 0.014*hula + 0.013*mad + 0.013*random + 0.013*key + 0.013*rum + 0.011*arthur + 0.010*resid + 0.010*mom', u'0.051*train + 0.048*buffet + 0.044*station + 0.033*margarita + 0.017*99 + 0.014*tom + 0.012*journey + 0.012*airport + 0.011*waverley + 0.011*coast', u'0.024*guid + 0.015*sage + 0.015*cure + 0.014*hanov + 0.014*moon + 0.014*polish + 0.013*nobl + 0.011*vibrant + 0.011*hamburg + 0.010*wrote', u'0.066*great + 0.055*food + 0.046*friend + 0.043*place + 0.039*good + 0.036*staff + 0.035*love + 0.030*realli + 0.024*nice + 0.019*servic', u'0.040*mexican + 0.032*wing + 0.025*burrito + 0.024*nacho + 0.022*chicken + 0.021*taco + 0.016*bean + 0.016*salsa + 0.014*sauc + 0.014*guacamol', u'0.019*jack + 0.019*mari + 0.018*bloodi + 0.013*card + 0.011*napkin + 0.011*raw + 0.010*tray + 0.010*free + 0.010*stack + 0.009*omg', u'0.152*cream + 0.139*ice + 0.019*trap + 0.015*joke + 0.013*marshmallow + 0.013*rowl + 0.011*museum + 0.009*fudg + 0.009*jk + 0.009*organis', u'0.163*cocktail + 0.092*mile + 0.089*royal + 0.048*bar + 0.039*drink + 0.013*menu + 0.012*list + 0.010*martini + 0.008*extens + 0.006*boozi', u'0.049*tapa + 0.037*chees + 0.025*veggi + 0.024*platter + 0.022*share + 0.020*plate + 0.020*mum + 0.019*spanish + 0.016*oliv + 0.016*cor', u'0.298*pizza + 0.032*top + 0.024*express + 0.021*italian + 0.020*pasta + 0.017*base + 0.016*deliveri + 0.015*order + 0.014*la + 0.014*chees', u'0.023*daughter + 0.021*custard + 0.019*cooki + 0.019*sunshin + 0.018*shout + 0.016*chowder + 0.014*ha + 0.014*energi + 0.014*stodgi + 0.013*mar', u'0.031*tatti + 0.019*almond + 0.018*shelf + 0.017*diet + 0.014*neep + 0.014*terrif + 0.014*haggi + 0.014*dare + 0.013*tiramisu + 0.013*contrast', u'0.039*fring + 0.028*festiv + 0.028*nom + 0.026*ramen + 0.018*bang + 0.014*increas + 0.013*gyoza + 0.013*pasti + 0.013*jacket + 0.012*slap', u'0.026*u + 0.025*order + 0.023*tabl + 0.017*time + 0.015*wait + 0.013*ask + 0.012*arriv + 0.012*food + 0.011*back + 0.011*one', u'0.052*food + 0.050*good + 0.045*servic + 0.017*order + 0.017*ok + 0.016*nice + 0.016*would + 0.016*server + 0.016*star + 0.015*husband', u'0.048*pie + 0.046*haggi + 0.034*mussel + 0.031*seafood + 0.023*scottish + 0.023*salmon + 0.021*fish + 0.019*tour + 0.015*sea + 0.015*steak', u'0.039*love + 0.025*tri + 0.020*tast + 0.015*flavour + 0.011*sweet + 0.011*differ + 0.009*favourit + 0.009*delici + 0.009*amaz + 0.008*beauti']\n"
     ]
    }
   ],
   "source": [
    "ldamodel =  gensim.models.LdaModel.load('lda_edinburgh.model')\n",
    "print(ldamodel.show_topics(topics=50, topn=10))"
   ]
  },
  {
   "cell_type": "code",
   "execution_count": 13,
   "metadata": {},
   "outputs": [
    {
     "ename": "AttributeError",
     "evalue": "'list' object has no attribute 'items'",
     "output_type": "error",
     "traceback": [
      "\u001b[0;31m---------------------------------------------------------------------------\u001b[0m",
      "\u001b[0;31mAttributeError\u001b[0m                            Traceback (most recent call last)",
      "\u001b[0;32m<ipython-input-13-b1c322d266e8>\u001b[0m in \u001b[0;36m<module>\u001b[0;34m()\u001b[0m\n\u001b[1;32m      2\u001b[0m \u001b[0mtemp\u001b[0m \u001b[0;34m=\u001b[0m \u001b[0mldamodel\u001b[0m\u001b[0;34m.\u001b[0m\u001b[0mshow_topic\u001b[0m\u001b[0;34m(\u001b[0m\u001b[0;36m3\u001b[0m\u001b[0;34m,\u001b[0m \u001b[0;36m50\u001b[0m\u001b[0;34m)\u001b[0m\u001b[0;34m\u001b[0m\u001b[0m\n\u001b[1;32m      3\u001b[0m \u001b[0mtemp\u001b[0m \u001b[0;34m=\u001b[0m \u001b[0mmap\u001b[0m\u001b[0;34m(\u001b[0m\u001b[0;32mlambda\u001b[0m \u001b[0mx\u001b[0m\u001b[0;34m:\u001b[0m \u001b[0mx\u001b[0m\u001b[0;34m[\u001b[0m\u001b[0;34m:\u001b[0m\u001b[0;34m:\u001b[0m\u001b[0;34m-\u001b[0m\u001b[0;36m1\u001b[0m\u001b[0;34m]\u001b[0m\u001b[0;34m,\u001b[0m\u001b[0mtemp\u001b[0m\u001b[0;34m)\u001b[0m\u001b[0;34m\u001b[0m\u001b[0m\n\u001b[0;32m----> 4\u001b[0;31m \u001b[0mplt\u001b[0m\u001b[0;34m.\u001b[0m\u001b[0mimshow\u001b[0m\u001b[0;34m(\u001b[0m\u001b[0mWordCloud\u001b[0m\u001b[0;34m(\u001b[0m\u001b[0;34m)\u001b[0m\u001b[0;34m.\u001b[0m\u001b[0mfit_words\u001b[0m\u001b[0;34m(\u001b[0m\u001b[0mtemp\u001b[0m\u001b[0;34m)\u001b[0m\u001b[0;34m)\u001b[0m\u001b[0;34m\u001b[0m\u001b[0m\n\u001b[0m\u001b[1;32m      5\u001b[0m \u001b[0mplt\u001b[0m\u001b[0;34m.\u001b[0m\u001b[0maxis\u001b[0m\u001b[0;34m(\u001b[0m\u001b[0;34m\"off\"\u001b[0m\u001b[0;34m)\u001b[0m\u001b[0;34m\u001b[0m\u001b[0m\n\u001b[1;32m      6\u001b[0m \u001b[0mplt\u001b[0m\u001b[0;34m.\u001b[0m\u001b[0mtitle\u001b[0m\u001b[0;34m(\u001b[0m\u001b[0;34m\"Topic #\"\u001b[0m \u001b[0;34m+\u001b[0m \u001b[0mstr\u001b[0m\u001b[0;34m(\u001b[0m\u001b[0;36m3\u001b[0m\u001b[0;34m)\u001b[0m\u001b[0;34m)\u001b[0m\u001b[0;34m\u001b[0m\u001b[0m\n",
      "\u001b[0;32m/Users/YJChang/anaconda/envs/python2/lib/python2.7/site-packages/wordcloud/wordcloud.pyc\u001b[0m in \u001b[0;36mfit_words\u001b[0;34m(self, frequencies)\u001b[0m\n\u001b[1;32m    329\u001b[0m         \u001b[0mself\u001b[0m\u001b[0;34m\u001b[0m\u001b[0m\n\u001b[1;32m    330\u001b[0m         \"\"\"\n\u001b[0;32m--> 331\u001b[0;31m         \u001b[0;32mreturn\u001b[0m \u001b[0mself\u001b[0m\u001b[0;34m.\u001b[0m\u001b[0mgenerate_from_frequencies\u001b[0m\u001b[0;34m(\u001b[0m\u001b[0mfrequencies\u001b[0m\u001b[0;34m)\u001b[0m\u001b[0;34m\u001b[0m\u001b[0m\n\u001b[0m\u001b[1;32m    332\u001b[0m \u001b[0;34m\u001b[0m\u001b[0m\n\u001b[1;32m    333\u001b[0m     \u001b[0;32mdef\u001b[0m \u001b[0mgenerate_from_frequencies\u001b[0m\u001b[0;34m(\u001b[0m\u001b[0mself\u001b[0m\u001b[0;34m,\u001b[0m \u001b[0mfrequencies\u001b[0m\u001b[0;34m,\u001b[0m \u001b[0mmax_font_size\u001b[0m\u001b[0;34m=\u001b[0m\u001b[0mNone\u001b[0m\u001b[0;34m)\u001b[0m\u001b[0;34m:\u001b[0m\u001b[0;34m\u001b[0m\u001b[0m\n",
      "\u001b[0;32m/Users/YJChang/anaconda/envs/python2/lib/python2.7/site-packages/wordcloud/wordcloud.pyc\u001b[0m in \u001b[0;36mgenerate_from_frequencies\u001b[0;34m(self, frequencies, max_font_size)\u001b[0m\n\u001b[1;32m    348\u001b[0m         \"\"\"\n\u001b[1;32m    349\u001b[0m         \u001b[0;31m# make sure frequencies are sorted and normalized\u001b[0m\u001b[0;34m\u001b[0m\u001b[0;34m\u001b[0m\u001b[0m\n\u001b[0;32m--> 350\u001b[0;31m         \u001b[0mfrequencies\u001b[0m \u001b[0;34m=\u001b[0m \u001b[0msorted\u001b[0m\u001b[0;34m(\u001b[0m\u001b[0mfrequencies\u001b[0m\u001b[0;34m.\u001b[0m\u001b[0mitems\u001b[0m\u001b[0;34m(\u001b[0m\u001b[0;34m)\u001b[0m\u001b[0;34m,\u001b[0m \u001b[0mkey\u001b[0m\u001b[0;34m=\u001b[0m\u001b[0mitem1\u001b[0m\u001b[0;34m,\u001b[0m \u001b[0mreverse\u001b[0m\u001b[0;34m=\u001b[0m\u001b[0mTrue\u001b[0m\u001b[0;34m)\u001b[0m\u001b[0;34m\u001b[0m\u001b[0m\n\u001b[0m\u001b[1;32m    351\u001b[0m         \u001b[0;32mif\u001b[0m \u001b[0mlen\u001b[0m\u001b[0;34m(\u001b[0m\u001b[0mfrequencies\u001b[0m\u001b[0;34m)\u001b[0m \u001b[0;34m<=\u001b[0m \u001b[0;36m0\u001b[0m\u001b[0;34m:\u001b[0m\u001b[0;34m\u001b[0m\u001b[0m\n\u001b[1;32m    352\u001b[0m             raise ValueError(\"We need at least 1 word to plot a word cloud, \"\n",
      "\u001b[0;31mAttributeError\u001b[0m: 'list' object has no attribute 'items'"
     ]
    }
   ],
   "source": [
    "plt.figure()\n",
    "temp = ldamodel.show_topic(3, 50)\n",
    "temp = map(lambda x: x[::-1],temp)\n",
    "plt.imshow(WordCloud().fit_words(temp))\n",
    "plt.axis(\"off\")\n",
    "plt.title(\"Topic #\" + str(3))\n",
    "plt.show()"
   ]
  },
  {
   "cell_type": "code",
   "execution_count": null,
   "metadata": {
    "collapsed": true
   },
   "outputs": [],
   "source": [
    "ldamodel.print_topics(50,topn=30)"
   ]
  },
  {
   "cell_type": "markdown",
   "metadata": {},
   "source": [
    "### Trying more viz"
   ]
  },
  {
   "cell_type": "code",
   "execution_count": 14,
   "metadata": {
    "collapsed": true
   },
   "outputs": [],
   "source": [
    "model =  gensim.models.LdaModel.load('lda_edinburgh.model')"
   ]
  },
  {
   "cell_type": "code",
   "execution_count": 15,
   "metadata": {
    "collapsed": true
   },
   "outputs": [],
   "source": [
    "lda = model\n",
    "n_topics = 50"
   ]
  },
  {
   "cell_type": "code",
   "execution_count": 16,
   "metadata": {},
   "outputs": [
    {
     "name": "stdout",
     "output_type": "stream",
     "text": [
      "Top 10 terms for topic #0: restaur, food, menu, dish, dine, servic, meal, experi, well, excel, visit, one, edinburgh, present, staff, even, would, beauti, dinner, decor\n",
      "Top 10 terms for topic #1: baguett, oyster, inn, tower, basil, villag, turkey, sheep, fed, pepper, pret, kfc, heid, thyme, spa, nicolson, creation, nasti, immens, fav\n",
      "Top 10 terms for topic #2: curri, indian, dish, chicken, food, lamb, rice, order, restaur, naan, spici, meal, delici, flavour, tri, portion, sauc, meat, authent, great\n",
      "Top 10 terms for topic #3: year, night, time, last, visit, week, ago, alway, get, use, old, christma, chang, still, parti, weekend, live, sinc, place, month\n",
      "Top 10 terms for topic #4: thai, pad, introduc, bank, stir, monkfish, august, wetherspoon, dive, account, encourag, parsnip, patisseri, intens, liquid, scotsman, novel, rabbi, chap, silver\n",
      "Top 10 terms for topic #5: tempura, korean, gut, shell, tang, aber, wasabi, teriyaki, kim, bonsai, von, einen, hostel, bru, dem, master, irn, gibt, zum, laden\n",
      "Top 10 terms for topic #6: steak, rare, medium, voucher, cut, vinegar, ask, grill, water, oh, california, cook, wedg, 11, hand, eye, treacl, side, well, one\n",
      "Top 10 terms for topic #7: dish, chines, sauc, chicken, noodl, prawn, rice, fri, spici, beef, order, food, restaur, hot, sweet, pork, chilli, roll, tast, soup\n",
      "Top 10 terms for topic #8: chip, fish, batter, fri, chippi, deep, yum, yard, shop, supper, peter, greasi, cook, chunki, pea, drip, fresh, crispi, soggi, good\n",
      "Top 10 terms for topic #9: bar, place, drink, good, night, like, music, nice, realli, tabl, look, go, seat, get, area, bit, quit, friend, peopl, room\n",
      "Top 10 terms for topic #10: die, und, da, der, ein, ist, war, man, sehr, e, mit, ich, nicht, den, zu, auch, fã¼r, hier, auf, wir\n",
      "Top 10 terms for topic #11: like, realli, place, go, get, bit, one, thing, think, much, want, would, good, tri, know, someth, say, look, eat, food\n",
      "Top 10 terms for topic #12: potato, free, gluten, option, vegan, vegetarian, bake, sweet, pickl, gf, fill, kitchen, top, mosqu, bread, small, mayo, moist, onion, earthi\n",
      "Top 10 terms for topic #13: burger, fri, bun, chip, chees, chicken, american, milkshak, bacon, sauc, bbq, onion, good, beef, holyrood, diner, shake, top, 9a, ring\n",
      "Top 10 terms for topic #14: de, la, le, un, en, que, et, el, est, e, con, du, il, pour, bon, una, au, se, di, je\n",
      "Top 10 terms for topic #15: local, organ, produc, sourc, prepar, product, advoc, yo, ingredi, qualiti, lebowski, may, track, ordinari, deliv, requir, well, stock, belt, dairi\n",
      "Top 10 terms for topic #16: breakfast, roll, sausag, morn, coffe, bacon, egg, black, full, scottish, haggi, toast, chees, bagel, poach, histori, cafe, bean, frankenstein, pud\n",
      "Top 10 terms for topic #17: beer, pub, bar, select, whiski, drink, pint, ale, good, great, local, tap, also, dog, bottl, tradit, whiskey, well, rang, wine\n",
      "Top 10 terms for topic #18: italian, wine, pasta, appet, bottl, glass, restaur, eleph, itali, hous, dish, red, risotto, spaghetti, white, calzon, authent, shore, bruschetta, roti\n",
      "Top 10 terms for topic #19: egg, brunch, breakfast, toast, pancak, sunday, menu, juic, french, bacon, salmon, syrup, benedict, also, day, waffl, russian, mapl, orang, wall\n",
      "Top 10 terms for topic #20: sushi, japanes, roll, tuna, miso, gin, sashimi, box, maki, ramen, fish, tonic, fresh, nigiri, fusion, kanpai, bento, soup, edinburgh, avocado\n",
      "Top 10 terms for topic #21: coffe, tea, cake, cafe, chocol, good, also, littl, shop, hot, love, cup, scone, afternoon, place, look, nice, friend, sandwich, pastri\n",
      "Top 10 terms for topic #22: main, cours, starter, menu, meal, wine, restaur, dessert, lunch, dinner, two, good, realli, steak, dish, delici, great, enjoy, share, small\n",
      "Top 10 terms for topic #23: edinburgh, best, place, one, ever, great, food, recommend, amaz, time, visit, high, love, trip, restaur, favorit, worth, fantast, go, eat\n",
      "Top 10 terms for topic #24: hotel, room, castl, view, stay, edinburgh, terrac, stun, vittoria, window, comfort, petit, gem, help, hidden, book, histor, block, seek, explor\n",
      "Top 10 terms for topic #25: lunch, sandwich, soup, salad, fresh, fill, wrap, bread, tasti, day, good, made, also, delici, chicken, go, time, place, offer, great\n",
      "Top 10 terms for topic #26: street, place, edinburgh, walk, shop, locat, one, citi, get, day, like, centr, littl, area, tourist, find, away, outsid, town, georg\n",
      "Top 10 terms for topic #27: chees, perfect, sauc, pork, delici, bread, love, dessert, chocol, potato, roast, cook, nice, well, littl, came, like, serv, bit, sweet\n",
      "Top 10 terms for topic #28: kid, child, middl, eastern, score, terribl, draw, church, hog, cri, adult, son, hub, babi, german, rout, dude, stag, instanc, piti\n",
      "Top 10 terms for topic #29: kebab, student, takeaway, cheap, late, discount, best, night, food, alway, edinburgh, open, regret, hous, korma, wholesom, paneer, south, bridg, iv\n",
      "Top 10 terms for topic #30: park, london, cinema, car, co, uk, http, unbeliev, facil, com, drive, fountain, www, luca, north, nip, loudon, che, hut, calori\n",
      "Top 10 terms for topic #31: review, like, know, say, could, see, star, way, said, thing, make, read, oh, yes, point, one, perhap, would, first, need\n",
      "Top 10 terms for topic #32: good, food, price, place, qualiti, servic, pretti, quit, bit, menu, offer, decent, reason, restaur, get, howev, expens, much, though, nice\n",
      "Top 10 terms for topic #33: film, event, hula, mad, random, key, rum, arthur, resid, mom, public, desk, leisur, librari, pitcher, galleri, tour, lift, record, gift\n",
      "Top 10 terms for topic #34: train, buffet, station, margarita, 99, tom, journey, airport, waverley, coast, condiment, enchilada, frozen, til, flow, pistachio, piri, cabbag, swim, hop\n",
      "Top 10 terms for topic #35: guid, sage, cure, hanov, moon, polish, nobl, vibrant, hamburg, wrote, america, og, hangov, victor, bell, tattoo, legendari, var, hugo, gear\n",
      "Top 10 terms for topic #36: great, food, friend, place, good, staff, love, realli, nice, servic, go, atmospher, alway, price, delici, recommend, definit, back, time, amaz\n",
      "Top 10 terms for topic #37: mexican, wing, burrito, nacho, chicken, taco, bean, salsa, sauc, guacamol, food, chees, sour, tortilla, hot, pork, fajita, spici, pull, fill\n",
      "Top 10 terms for topic #38: jack, mari, bloodi, card, napkin, raw, tray, free, stack, omg, three, yoghurt, illeg, quesadilla, ribey, plum, challeng, trend, upper, loyalti\n",
      "Top 10 terms for topic #39: cream, ice, trap, joke, marshmallow, rowl, museum, fudg, jk, organis, defin, silli, whip, crolla, magnific, januari, valvona, dutch, wet, beard\n",
      "Top 10 terms for topic #40: cocktail, mile, royal, bar, drink, menu, list, martini, extens, boozi, alcohol, glass, sygn, spot, edinburgh, kohl, blackbird, fun, khushi, creativ\n",
      "Top 10 terms for topic #41: tapa, chees, veggi, platter, share, plate, mum, spanish, oliv, cor, dã, meat, vegetarian, aubergin, mother, mac, dish, henderson, order, eater\n",
      "Top 10 terms for topic #42: pizza, top, express, italian, pasta, base, deliveri, order, la, chees, ham, slice, branch, mamma, parma, chain, antipasti, prior, hazelnut, sauc\n",
      "Top 10 terms for topic #43: daughter, custard, cooki, sunshin, shout, chowder, ha, energi, stodgi, mar, sourdough, address, grumpi, dull, punter, mill, everyday, retain, croqu, print\n",
      "Top 10 terms for topic #44: tatti, almond, shelf, diet, neep, terrif, haggi, dare, tiramisu, contrast, enthusiast, pillow, mention, layer, basi, caper, garnish, swish, profiterol, heck\n",
      "Top 10 terms for topic #45: fring, festiv, nom, ramen, bang, increas, gyoza, pasti, jacket, slap, bewar, japan, easter, mi, courtyard, nook, stain, dens, halfway, epic\n",
      "Top 10 terms for topic #46: u, order, tabl, time, wait, ask, arriv, food, back, one, would, minut, came, get, servic, got, staff, even, took, went\n",
      "Top 10 terms for topic #47: food, good, servic, order, ok, nice, would, server, star, husband, place, disappoint, bad, slow, came, realli, got, experi, wife, averag\n",
      "Top 10 terms for topic #48: pie, haggi, mussel, seafood, scottish, salmon, fish, tour, sea, steak, smoke, scotland, scallop, entre, edinburgh, haddock, lobster, delici, day, bass\n",
      "Top 10 terms for topic #49: love, tri, tast, flavour, sweet, differ, favourit, delici, amaz, beauti, juic, made, strawberri, appl, even, gorgeous, one, birthday, fruit, holiday\n"
     ]
    }
   ],
   "source": [
    "term_list = []\n",
    "for i in range(0, n_topics):\n",
    "    temp = lda.show_topic(i, 20)\n",
    "    terms = []\n",
    "    for term in temp:\n",
    "            terms.append(term)\n",
    "    term_list.append(terms)\n",
    "    print \"Top 10 terms for topic #\" + str(i) + \": \"+ \", \".join([i[1] for i in terms])"
   ]
  },
  {
   "cell_type": "code",
   "execution_count": 17,
   "metadata": {
    "collapsed": true
   },
   "outputs": [],
   "source": [
    "from os import path\n",
    "import matplotlib.pyplot as plt\n",
    "from wordcloud import WordCloud"
   ]
  },
  {
   "cell_type": "code",
   "execution_count": null,
   "metadata": {
    "collapsed": true
   },
   "outputs": [],
   "source": []
  },
  {
   "cell_type": "code",
   "execution_count": 18,
   "metadata": {
    "collapsed": true
   },
   "outputs": [],
   "source": [
    "K=14\n",
    "\n",
    "def terms_to_wordcounts(terms, multiplier=1000):\n",
    "    return  \" \".join([\" \".join(int(multiplier*i[0]) * [i[1]]) for i in terms])\n",
    "\n",
    "\n",
    "\n",
    "wordcloud = WordCloud().generate(terms_to_wordcounts(term_list[K]))\n",
    "\n",
    "\n",
    "plt.imshow(wordcloud)\n",
    "plt.axis(\"off\")\n",
    "plt.savefig(\"terms\" + str(K))\n",
    "plt.close()"
   ]
  },
  {
   "cell_type": "code",
   "execution_count": 19,
   "metadata": {
    "collapsed": true
   },
   "outputs": [],
   "source": [
    "def wordcloudgen():\n",
    "    for K in range(0,50):\n",
    "        wordcloud = WordCloud().generate(terms_to_wordcounts(term_list[K]))\n",
    "        plt.imshow(wordcloud)\n",
    "        plt.axis(\"off\")\n",
    "        plt.savefig(\"terms\" + str(K))\n",
    "        plt.close()\n"
   ]
  },
  {
   "cell_type": "code",
   "execution_count": 20,
   "metadata": {
    "collapsed": true
   },
   "outputs": [],
   "source": [
    "wordcloudgen()"
   ]
  },
  {
   "cell_type": "code",
   "execution_count": 16,
   "metadata": {
    "collapsed": true
   },
   "outputs": [],
   "source": [
    "from sklearn.feature_extraction import DictVectorizer"
   ]
  },
  {
   "cell_type": "code",
   "execution_count": 18,
   "metadata": {
    "collapsed": true
   },
   "outputs": [],
   "source": [
    "def topics_to_vectorspace(n_topics, n_words=100):\n",
    "    rows = []\n",
    "    for i in xrange(n_topics):\n",
    "            temp = lda.show_topic(i, n_words)\n",
    "            row = dict(((i[1],i[0]) for i in temp))\n",
    "            rows.append(row)\n",
    "    return rows    "
   ]
  },
  {
   "cell_type": "code",
   "execution_count": 19,
   "metadata": {},
   "outputs": [
    {
     "data": {
      "text/plain": [
       "(50, 3092)"
      ]
     },
     "execution_count": 19,
     "metadata": {},
     "output_type": "execute_result"
    }
   ],
   "source": [
    "vec = DictVectorizer()\n",
    "X = vec.fit_transform(topics_to_vectorspace(n_topics))\n",
    "X.shape"
   ]
  },
  {
   "cell_type": "code",
   "execution_count": 22,
   "metadata": {
    "collapsed": true
   },
   "outputs": [],
   "source": [
    "from sklearn.decomposition import PCA\n",
    "pca = PCA(n_components=2)\n",
    "X_pca = pca.fit(X.toarray()).transform(X.toarray())\n",
    "plt.figure()\n",
    "for i in xrange(X_pca.shape[0]):\n",
    "    plt.scatter(X_pca[i, 0], X_pca[i, 1], alpha=.5)\n",
    "    plt.text(X_pca[i, 0], X_pca[i, 1], s=' ' + str(i),fontsize=8)    \n",
    "plt.title('PCA Topics of Yelp restaurant')\n",
    "plt.savefig(\"pca_topic\")\n",
    "plt.close()"
   ]
  },
  {
   "cell_type": "code",
   "execution_count": 23,
   "metadata": {
    "collapsed": true
   },
   "outputs": [],
   "source": [
    "from scipy.cluster.hierarchy import linkage, dendrogram\n",
    "plt.figure(figsize=(12,6))\n",
    "R = dendrogram(linkage(X_pca))\n",
    "plt.savefig(\"dendro\")\n",
    "plt.close()"
   ]
  },
  {
   "cell_type": "code",
   "execution_count": 26,
   "metadata": {
    "scrolled": true
   },
   "outputs": [
    {
     "name": "stderr",
     "output_type": "stream",
     "text": [
      "/Users/Taran/anaconda2/lib/python2.7/site-packages/ipykernel/__main__.py:7: ClusterWarning: scipy.cluster: The symmetric non-negative hollow observation matrix looks suspiciously like an uncondensed distance matrix\n"
     ]
    }
   ],
   "source": [
    "## correlation matrix\n",
    "from scipy.spatial.distance import pdist, squareform\n",
    "\n",
    "cor = squareform(pdist(X.toarray(), metric=\"euclidean\"))\n",
    "\n",
    "plt.figure(figsize=(12,6))\n",
    "R = dendrogram(linkage(cor))\n",
    "plt.savefig(\"corr\")\n",
    "\n",
    "plt.close()\n",
    "\n",
    "## network\n",
    "import networkx as nx\n",
    "from sklearn.pipeline import make_pipeline\n",
    "from sklearn.preprocessing import Normalizer\n",
    "pca_norm = make_pipeline(PCA(n_components=20), Normalizer(copy=False))\n",
    "X_pca_norm = pca_norm.fit(X.toarray()).transform(X.toarray())\n",
    "cor = squareform(pdist(X_pca_norm, metric=\"euclidean\"))\n",
    "G = nx.Graph()\n",
    "for i in xrange(cor.shape[0]):\n",
    "    for j in xrange(cor.shape[1]):\n",
    "        if i == j:\n",
    "            G.add_edge(i, j, {\"weight\":0})\n",
    "        else:\n",
    "            G.add_edge(i, j, {\"weight\":1.0/cor[i,j]})\n",
    "\n",
    "edges = [(i, j) for i, j, w in G.edges(data=True) if w['weight'] > .8]\n",
    "\n",
    "edge_weight=dict([((u,v,),int(d['weight'])) for u,v,d in G.edges(data=True)])\n",
    "#pos = nx.graphviz_layout(G, prog=\"twopi\") # twopi, neato, circo\n",
    "pos = nx.spring_layout(G)\n",
    "nx.draw_networkx_nodes(G, pos, node_size=100, alpha=.5)\n",
    "nx.draw_networkx_edges(G, pos, edgelist=edges, width=1)\n",
    "#nx.draw_networkx_edge_labels(G, pos ,edge_labels=edge_weight)\n",
    "nx.draw_networkx_labels(G, pos, font_size=8, font_family='sans-serif')\n",
    "plt.savefig(\"network\")\n",
    "plt.close()"
   ]
  },
  {
   "cell_type": "code",
   "execution_count": 35,
   "metadata": {
    "collapsed": true
   },
   "outputs": [],
   "source": [
    "def printhello():\n",
    "    a = 2+3\n",
    "    return a"
   ]
  },
  {
   "cell_type": "code",
   "execution_count": 39,
   "metadata": {},
   "outputs": [
    {
     "name": "stdout",
     "output_type": "stream",
     "text": [
      "1 loop, best of 3: 0 ns per loop\n"
     ]
    }
   ],
   "source": [
    "%timeit -n 1 a=printhello()"
   ]
  },
  {
   "cell_type": "code",
   "execution_count": 37,
   "metadata": {},
   "outputs": [
    {
     "ename": "NameError",
     "evalue": "name 'a' is not defined",
     "output_type": "error",
     "traceback": [
      "\u001b[0;31m---------------------------------------------------------------------------\u001b[0m",
      "\u001b[0;31mNameError\u001b[0m                                 Traceback (most recent call last)",
      "\u001b[0;32m<ipython-input-37-60b725f10c9c>\u001b[0m in \u001b[0;36m<module>\u001b[0;34m()\u001b[0m\n\u001b[0;32m----> 1\u001b[0;31m \u001b[0ma\u001b[0m\u001b[0;34m\u001b[0m\u001b[0m\n\u001b[0m",
      "\u001b[0;31mNameError\u001b[0m: name 'a' is not defined"
     ]
    }
   ],
   "source": [
    "In [51]: import matplotlib.pyplot as plt\n",
    "\n",
    "In [52]: num_top_words = 10\n",
    "\n",
    "In [53]: fontsize_base = 70 / np.max(word_topic) # font size for word with largest share in corpus\n",
    "\n",
    "In [54]: for t in range(num_topics):\n",
    "        plt.subplot(1, num_topics, t + 1)  # plot numbering starts with 1\n",
    "        plt.ylim(0, num_top_words + 0.5)  # stretch the y-axis to accommodate the words\n",
    "   ....:     plt.xticks([])  # remove x-axis markings ('ticks')\n",
    "   ....:     plt.yticks([]) # remove y-axis markings ('ticks')\n",
    "   ....:     plt.title('Topic #{}'.format(t))\n",
    "   ....:     top_words_idx = np.argsort(word_topic[:,t])[::-1]  # descending order\n",
    "   ....:     top_words_idx = top_words_idx[:num_top_words]\n",
    "   ....:     top_words = mallet_vocab[top_words_idx]\n",
    "   ....:     top_words_shares = word_topic[top_words_idx, t]\n",
    "   ....:     for i, (word, share) in enumerate(zip(top_words, top_words_shares)):\n",
    "   ....:         plt.text(0.3, num_top_words-i-0.5, word, fontsize=fontsize_base*share)\n",
    "   ....: \n",
    "\n",
    "In [55]: plt.tight_layout()"
   ]
  },
  {
   "cell_type": "code",
   "execution_count": 43,
   "metadata": {
    "collapsed": true
   },
   "outputs": [],
   "source": [
    "predict = [7,1,4,2,5,9,23,13]\n",
    "k=5\n",
    "I = sorted(range(len(predict)), key=lambda k: predict[k], reverse = True)\n",
    "I = I[:k]"
   ]
  },
  {
   "cell_type": "code",
   "execution_count": 44,
   "metadata": {},
   "outputs": [
    {
     "data": {
      "text/plain": [
       "[6, 7, 5, 0, 4]"
      ]
     },
     "execution_count": 44,
     "metadata": {},
     "output_type": "execute_result"
    }
   ],
   "source": [
    "I"
   ]
  },
  {
   "cell_type": "code",
   "execution_count": null,
   "metadata": {
    "collapsed": true
   },
   "outputs": [],
   "source": []
  }
 ],
 "metadata": {
  "kernelspec": {
   "display_name": "Python 2",
   "language": "python",
   "name": "python2"
  },
  "language_info": {
   "codemirror_mode": {
    "name": "ipython",
    "version": 2
   },
   "file_extension": ".py",
   "mimetype": "text/x-python",
   "name": "python",
   "nbconvert_exporter": "python",
   "pygments_lexer": "ipython2",
   "version": "2.7.13"
  }
 },
 "nbformat": 4,
 "nbformat_minor": 1
}
