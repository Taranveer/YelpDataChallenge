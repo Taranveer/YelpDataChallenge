{
 "cells": [
  {
   "cell_type": "code",
   "execution_count": 16,
   "metadata": {
    "collapsed": false
   },
   "outputs": [],
   "source": [
    "import pandas as pd\n",
    "import numpy as np\n",
    "import ast\n",
    "import seaborn\n",
    "from collections import Counter\n",
    "import pickle\n",
    "from sklearn.feature_extraction.text import CountVectorizer\n",
    "from nltk.stem import WordNetLemmatizer\n",
    "wordnet_lemmatizer = WordNetLemmatizer()\n",
    "from nltk.stem import SnowballStemmer\n",
    "snowball_stemmer = SnowballStemmer(\"english\")\n",
    "from bs4 import BeautifulSoup\n",
    "import logging, gensim, bz2"
   ]
  },
  {
   "cell_type": "code",
   "execution_count": 2,
   "metadata": {
    "collapsed": true
   },
   "outputs": [],
   "source": [
    "def load(filename):\n",
    "    file = open(filename,'rb')\n",
    "    obj = pickle.load(file)\n",
    "    file.close()\n",
    "    return obj\n",
    "\n",
    "def dump(obj,filename):\n",
    "    filehandler = open(filename,\"wb\")\n",
    "    pickle.dump(obj,filehandler)\n",
    "    filehandler.close()"
   ]
  },
  {
   "cell_type": "markdown",
   "metadata": {},
   "source": [
    "### Reading_Data"
   ]
  },
  {
   "cell_type": "code",
   "execution_count": 2,
   "metadata": {
    "collapsed": true
   },
   "outputs": [],
   "source": [
    "review_data = pd.read_csv(\"../data/yelp_academic_dataset_review.csv\")"
   ]
  },
  {
   "cell_type": "code",
   "execution_count": 3,
   "metadata": {
    "collapsed": false
   },
   "outputs": [
    {
     "data": {
      "text/html": [
       "<div>\n",
       "<table border=\"1\" class=\"dataframe\">\n",
       "  <thead>\n",
       "    <tr style=\"text-align: right;\">\n",
       "      <th></th>\n",
       "      <th>funny</th>\n",
       "      <th>user_id</th>\n",
       "      <th>review_id</th>\n",
       "      <th>text</th>\n",
       "      <th>business_id</th>\n",
       "      <th>stars</th>\n",
       "      <th>date</th>\n",
       "      <th>useful</th>\n",
       "      <th>type</th>\n",
       "      <th>cool</th>\n",
       "    </tr>\n",
       "  </thead>\n",
       "  <tbody>\n",
       "    <tr>\n",
       "      <th>0</th>\n",
       "      <td>0</td>\n",
       "      <td>KpkOkG6RIf4Ra25Lhhxf1A</td>\n",
       "      <td>NxL8SIC5yqOdnlXCg18IBg</td>\n",
       "      <td>If you enjoy service by someone who is as comp...</td>\n",
       "      <td>2aFiy99vNLklCx3T_tGS9A</td>\n",
       "      <td>5</td>\n",
       "      <td>2011-10-10</td>\n",
       "      <td>0</td>\n",
       "      <td>review</td>\n",
       "      <td>0</td>\n",
       "    </tr>\n",
       "    <tr>\n",
       "      <th>1</th>\n",
       "      <td>0</td>\n",
       "      <td>bQ7fQq1otn9hKX-gXRsrgA</td>\n",
       "      <td>pXbbIgOXvLuTi_SPs1hQEQ</td>\n",
       "      <td>After being on the phone with Verizon Wireless...</td>\n",
       "      <td>2aFiy99vNLklCx3T_tGS9A</td>\n",
       "      <td>5</td>\n",
       "      <td>2010-12-29</td>\n",
       "      <td>1</td>\n",
       "      <td>review</td>\n",
       "      <td>0</td>\n",
       "    </tr>\n",
       "    <tr>\n",
       "      <th>2</th>\n",
       "      <td>0</td>\n",
       "      <td>r1NUhdNmL6yU9Bn-Yx6FTw</td>\n",
       "      <td>wslW2Lu4NYylb1jEapAGsw</td>\n",
       "      <td>Great service! Corey is very service oriented....</td>\n",
       "      <td>2aFiy99vNLklCx3T_tGS9A</td>\n",
       "      <td>5</td>\n",
       "      <td>2011-04-29</td>\n",
       "      <td>0</td>\n",
       "      <td>review</td>\n",
       "      <td>0</td>\n",
       "    </tr>\n",
       "    <tr>\n",
       "      <th>3</th>\n",
       "      <td>0</td>\n",
       "      <td>aW3ix1KNZAvoM8q-WghA3Q</td>\n",
       "      <td>GP6YEearUWrzPtQYSF1vVg</td>\n",
       "      <td>Highly recommended. Went in yesterday looking ...</td>\n",
       "      <td>2LfIuF3_sX6uwe-IR-P0jQ</td>\n",
       "      <td>5</td>\n",
       "      <td>2014-07-14</td>\n",
       "      <td>0</td>\n",
       "      <td>review</td>\n",
       "      <td>1</td>\n",
       "    </tr>\n",
       "    <tr>\n",
       "      <th>4</th>\n",
       "      <td>0</td>\n",
       "      <td>YOo-Cip8HqvKp_p9nEGphw</td>\n",
       "      <td>25RlYGq2s5qShi-pn3ufVA</td>\n",
       "      <td>I walked in here looking for a specific piece ...</td>\n",
       "      <td>2LfIuF3_sX6uwe-IR-P0jQ</td>\n",
       "      <td>4</td>\n",
       "      <td>2014-01-15</td>\n",
       "      <td>0</td>\n",
       "      <td>review</td>\n",
       "      <td>0</td>\n",
       "    </tr>\n",
       "  </tbody>\n",
       "</table>\n",
       "</div>"
      ],
      "text/plain": [
       "   funny                 user_id               review_id  \\\n",
       "0      0  KpkOkG6RIf4Ra25Lhhxf1A  NxL8SIC5yqOdnlXCg18IBg   \n",
       "1      0  bQ7fQq1otn9hKX-gXRsrgA  pXbbIgOXvLuTi_SPs1hQEQ   \n",
       "2      0  r1NUhdNmL6yU9Bn-Yx6FTw  wslW2Lu4NYylb1jEapAGsw   \n",
       "3      0  aW3ix1KNZAvoM8q-WghA3Q  GP6YEearUWrzPtQYSF1vVg   \n",
       "4      0  YOo-Cip8HqvKp_p9nEGphw  25RlYGq2s5qShi-pn3ufVA   \n",
       "\n",
       "                                                text             business_id  \\\n",
       "0  If you enjoy service by someone who is as comp...  2aFiy99vNLklCx3T_tGS9A   \n",
       "1  After being on the phone with Verizon Wireless...  2aFiy99vNLklCx3T_tGS9A   \n",
       "2  Great service! Corey is very service oriented....  2aFiy99vNLklCx3T_tGS9A   \n",
       "3  Highly recommended. Went in yesterday looking ...  2LfIuF3_sX6uwe-IR-P0jQ   \n",
       "4  I walked in here looking for a specific piece ...  2LfIuF3_sX6uwe-IR-P0jQ   \n",
       "\n",
       "   stars        date  useful    type  cool  \n",
       "0      5  2011-10-10       0  review     0  \n",
       "1      5  2010-12-29       1  review     0  \n",
       "2      5  2011-04-29       0  review     0  \n",
       "3      5  2014-07-14       0  review     1  \n",
       "4      4  2014-01-15       0  review     0  "
      ]
     },
     "execution_count": 3,
     "metadata": {},
     "output_type": "execute_result"
    }
   ],
   "source": [
    "review_data.head(n=5)"
   ]
  },
  {
   "cell_type": "code",
   "execution_count": 61,
   "metadata": {
    "collapsed": true
   },
   "outputs": [],
   "source": [
    "business_data = pd.read_csv(\"../data/yelp_academic_dataset_business.csv\") "
   ]
  },
  {
   "cell_type": "code",
   "execution_count": 62,
   "metadata": {
    "collapsed": false
   },
   "outputs": [
    {
     "data": {
      "text/plain": [
       "(144072, 16)"
      ]
     },
     "execution_count": 62,
     "metadata": {},
     "output_type": "execute_result"
    }
   ],
   "source": [
    "business_data.shape"
   ]
  },
  {
   "cell_type": "code",
   "execution_count": 64,
   "metadata": {
    "collapsed": false,
    "scrolled": true
   },
   "outputs": [
    {
     "data": {
      "text/html": [
       "<div>\n",
       "<table border=\"1\" class=\"dataframe\">\n",
       "  <thead>\n",
       "    <tr style=\"text-align: right;\">\n",
       "      <th></th>\n",
       "      <th>neighborhood</th>\n",
       "      <th>business_id</th>\n",
       "      <th>hours</th>\n",
       "      <th>is_open</th>\n",
       "      <th>address</th>\n",
       "      <th>attributes</th>\n",
       "      <th>categories</th>\n",
       "      <th>city</th>\n",
       "      <th>review_count</th>\n",
       "      <th>name</th>\n",
       "      <th>longitude</th>\n",
       "      <th>state</th>\n",
       "      <th>stars</th>\n",
       "      <th>latitude</th>\n",
       "      <th>postal_code</th>\n",
       "      <th>type</th>\n",
       "    </tr>\n",
       "  </thead>\n",
       "  <tbody>\n",
       "    <tr>\n",
       "      <th>0</th>\n",
       "      <td>NaN</td>\n",
       "      <td>0DI8Dt2PJp07XkVvIElIcQ</td>\n",
       "      <td>['Monday 11:0-21:0', 'Tuesday 11:0-21:0', 'Wed...</td>\n",
       "      <td>0</td>\n",
       "      <td>227 E Baseline Rd, Ste J2</td>\n",
       "      <td>['BikeParking: True', 'BusinessAcceptsBitcoin:...</td>\n",
       "      <td>['Tobacco Shops', 'Nightlife', 'Vape Shops', '...</td>\n",
       "      <td>Tempe</td>\n",
       "      <td>17</td>\n",
       "      <td>Innovative Vapors</td>\n",
       "      <td>-111.936102</td>\n",
       "      <td>AZ</td>\n",
       "      <td>4.5</td>\n",
       "      <td>33.378214</td>\n",
       "      <td>85283</td>\n",
       "      <td>business</td>\n",
       "    </tr>\n",
       "    <tr>\n",
       "      <th>1</th>\n",
       "      <td>NaN</td>\n",
       "      <td>LTlCaCGZE14GuaUXUGbamg</td>\n",
       "      <td>['Monday 0:0-0:0', 'Tuesday 0:0-0:0', 'Wednesd...</td>\n",
       "      <td>1</td>\n",
       "      <td>495 S Grand Central Pkwy</td>\n",
       "      <td>['BusinessAcceptsBitcoin: False', 'BusinessAcc...</td>\n",
       "      <td>['Caterers', 'Grocery', 'Food', 'Event Plannin...</td>\n",
       "      <td>Las Vegas</td>\n",
       "      <td>9</td>\n",
       "      <td>Cut and Taste</td>\n",
       "      <td>-115.159272</td>\n",
       "      <td>NV</td>\n",
       "      <td>5.0</td>\n",
       "      <td>36.192284</td>\n",
       "      <td>89106</td>\n",
       "      <td>business</td>\n",
       "    </tr>\n",
       "    <tr>\n",
       "      <th>2</th>\n",
       "      <td>Dufferin Grove</td>\n",
       "      <td>EDqCEAGXVGCH4FJXgqtjqg</td>\n",
       "      <td>['Monday 11:0-2:0', 'Tuesday 11:0-2:0', 'Wedne...</td>\n",
       "      <td>1</td>\n",
       "      <td>979 Bloor Street W</td>\n",
       "      <td>['Alcohol: none', \"Ambience: {'romantic': Fals...</td>\n",
       "      <td>['Restaurants', 'Pizza', 'Chicken Wings', 'Ita...</td>\n",
       "      <td>Toronto</td>\n",
       "      <td>7</td>\n",
       "      <td>Pizza Pizza</td>\n",
       "      <td>-79.429089</td>\n",
       "      <td>ON</td>\n",
       "      <td>2.5</td>\n",
       "      <td>43.661054</td>\n",
       "      <td>M6H 1L5</td>\n",
       "      <td>business</td>\n",
       "    </tr>\n",
       "    <tr>\n",
       "      <th>3</th>\n",
       "      <td>NaN</td>\n",
       "      <td>cnGIivYRLxpF7tBVR_JwWA</td>\n",
       "      <td>['Tuesday 10:0-21:0', 'Wednesday 10:0-21:0', '...</td>\n",
       "      <td>1</td>\n",
       "      <td>7014 Steubenville Pike</td>\n",
       "      <td>['AcceptsInsurance: False', 'BusinessAcceptsCr...</td>\n",
       "      <td>['Hair Removal', 'Beauty &amp; Spas', 'Blow Dry/Ou...</td>\n",
       "      <td>Oakdale</td>\n",
       "      <td>4</td>\n",
       "      <td>Plush Salon and Spa</td>\n",
       "      <td>-80.174540</td>\n",
       "      <td>PA</td>\n",
       "      <td>4.0</td>\n",
       "      <td>40.444544</td>\n",
       "      <td>15071</td>\n",
       "      <td>business</td>\n",
       "    </tr>\n",
       "    <tr>\n",
       "      <th>4</th>\n",
       "      <td>Downtown Core</td>\n",
       "      <td>cdk-qqJ71q6P7TJTww_DSA</td>\n",
       "      <td>NaN</td>\n",
       "      <td>1</td>\n",
       "      <td>321 Jarvis Street</td>\n",
       "      <td>['BusinessAcceptsCreditCards: True', 'Restaura...</td>\n",
       "      <td>['Hotels &amp; Travel', 'Event Planning &amp; Services...</td>\n",
       "      <td>Toronto</td>\n",
       "      <td>8</td>\n",
       "      <td>Comfort Inn</td>\n",
       "      <td>-79.375401</td>\n",
       "      <td>ON</td>\n",
       "      <td>3.0</td>\n",
       "      <td>43.659829</td>\n",
       "      <td>M5B 2C2</td>\n",
       "      <td>business</td>\n",
       "    </tr>\n",
       "  </tbody>\n",
       "</table>\n",
       "</div>"
      ],
      "text/plain": [
       "     neighborhood             business_id  \\\n",
       "0             NaN  0DI8Dt2PJp07XkVvIElIcQ   \n",
       "1             NaN  LTlCaCGZE14GuaUXUGbamg   \n",
       "2  Dufferin Grove  EDqCEAGXVGCH4FJXgqtjqg   \n",
       "3             NaN  cnGIivYRLxpF7tBVR_JwWA   \n",
       "4   Downtown Core  cdk-qqJ71q6P7TJTww_DSA   \n",
       "\n",
       "                                               hours  is_open  \\\n",
       "0  ['Monday 11:0-21:0', 'Tuesday 11:0-21:0', 'Wed...        0   \n",
       "1  ['Monday 0:0-0:0', 'Tuesday 0:0-0:0', 'Wednesd...        1   \n",
       "2  ['Monday 11:0-2:0', 'Tuesday 11:0-2:0', 'Wedne...        1   \n",
       "3  ['Tuesday 10:0-21:0', 'Wednesday 10:0-21:0', '...        1   \n",
       "4                                                NaN        1   \n",
       "\n",
       "                     address  \\\n",
       "0  227 E Baseline Rd, Ste J2   \n",
       "1   495 S Grand Central Pkwy   \n",
       "2         979 Bloor Street W   \n",
       "3     7014 Steubenville Pike   \n",
       "4          321 Jarvis Street   \n",
       "\n",
       "                                          attributes  \\\n",
       "0  ['BikeParking: True', 'BusinessAcceptsBitcoin:...   \n",
       "1  ['BusinessAcceptsBitcoin: False', 'BusinessAcc...   \n",
       "2  ['Alcohol: none', \"Ambience: {'romantic': Fals...   \n",
       "3  ['AcceptsInsurance: False', 'BusinessAcceptsCr...   \n",
       "4  ['BusinessAcceptsCreditCards: True', 'Restaura...   \n",
       "\n",
       "                                          categories       city  review_count  \\\n",
       "0  ['Tobacco Shops', 'Nightlife', 'Vape Shops', '...      Tempe            17   \n",
       "1  ['Caterers', 'Grocery', 'Food', 'Event Plannin...  Las Vegas             9   \n",
       "2  ['Restaurants', 'Pizza', 'Chicken Wings', 'Ita...    Toronto             7   \n",
       "3  ['Hair Removal', 'Beauty & Spas', 'Blow Dry/Ou...    Oakdale             4   \n",
       "4  ['Hotels & Travel', 'Event Planning & Services...    Toronto             8   \n",
       "\n",
       "                  name   longitude state  stars   latitude postal_code  \\\n",
       "0    Innovative Vapors -111.936102    AZ    4.5  33.378214       85283   \n",
       "1        Cut and Taste -115.159272    NV    5.0  36.192284       89106   \n",
       "2          Pizza Pizza  -79.429089    ON    2.5  43.661054     M6H 1L5   \n",
       "3  Plush Salon and Spa  -80.174540    PA    4.0  40.444544       15071   \n",
       "4          Comfort Inn  -79.375401    ON    3.0  43.659829     M5B 2C2   \n",
       "\n",
       "       type  \n",
       "0  business  \n",
       "1  business  \n",
       "2  business  \n",
       "3  business  \n",
       "4  business  "
      ]
     },
     "execution_count": 64,
     "metadata": {},
     "output_type": "execute_result"
    }
   ],
   "source": [
    "business_data.head(n=5)"
   ]
  },
  {
   "cell_type": "markdown",
   "metadata": {},
   "source": [
    "### Getting Review Data for only Restaurants (Pittsburgh)"
   ]
  },
  {
   "cell_type": "code",
   "execution_count": 65,
   "metadata": {
    "collapsed": false
   },
   "outputs": [],
   "source": [
    "business_data = business_data.loc[business_data[\"categories\"].notnull(),:]"
   ]
  },
  {
   "cell_type": "code",
   "execution_count": 66,
   "metadata": {
    "collapsed": false
   },
   "outputs": [],
   "source": [
    "def convert_list(x):\n",
    "    return ast.literal_eval(x)\n",
    "business_data[\"categories\"] = map(convert_list,business_data[\"categories\"])"
   ]
  },
  {
   "cell_type": "code",
   "execution_count": 69,
   "metadata": {
    "collapsed": false
   },
   "outputs": [],
   "source": [
    "category_labels = []\n",
    "for categories in business_data[\"categories\"]:\n",
    "    category_labels += categories"
   ]
  },
  {
   "cell_type": "code",
   "execution_count": 70,
   "metadata": {
    "collapsed": false
   },
   "outputs": [],
   "source": [
    "category_dict = Counter(category_labels)\n",
    "categorstaurants\"]"
   ]
  },
  {
   "cell_type": "code",
   "execution_count": 73,
   "metadata": {
    "collapsed": false
   },
   "outputs": [],
   "source": [
    "Restaurant = [1 if \"Restaurants\" in categories else 0 for categories in business_data[\"categories\"]]\n",
    "business_data[\"Restaurant\"] = Restaurant\n",
    "np.sum(Restaurant)\n",
    "float(np.sum(Restaurant))/business_data.shape[0]"
   ]
  },
  {
   "cell_type": "code",
   "execution_count": 94,
   "metadata": {
    "collapsed": true
   },
   "outputs": [],
   "source": [
    "restaurant_data = business_data.loc[business_data[\"Restaurant\"]==1,:]\n",
    "restaurant_review = pd.merge(review_data,restaurant_data,on=\"business_id\")"
   ]
  },
  {
   "cell_type": "code",
   "execution_count": 108,
   "metadata": {
    "collapsed": false
   },
   "outputs": [],
   "source": [
    "dump(restaurant_review,\"../Pickled_files/restaurant_review.pkl\")"
   ]
  },
  {
   "cell_type": "code",
   "execution_count": 69,
   "metadata": {
    "collapsed": false
   },
   "outputs": [
    {
     "data": {
      "text/plain": [
       "[u'hello']"
      ]
     },
     "execution_count": 69,
     "metadata": {},
     "output_type": "execute_result"
    }
   ],
   "source": [
    "pitt_review = restaurant_review[restaurant_review[\"city\"]==\"Pittsburgh\"]"
   ]
  },
  {
   "cell_type": "markdown",
   "metadata": {},
   "source": [
    "### Load Data"
   ]
  },
  {
   "cell_type": "code",
   "execution_count": 3,
   "metadata": {
    "collapsed": true
   },
   "outputs": [],
   "source": [
    "restaurant_review = load(\"../Pickled_files/restaurant_review.pkl\")"
   ]
  },
  {
   "cell_type": "markdown",
   "metadata": {},
   "source": [
    "### Clean Reviews"
   ]
  },
  {
   "cell_type": "code",
   "execution_count": 68,
   "metadata": {
    "collapsed": false
   },
   "outputs": [],
   "source": [
    "import nltk\n",
    "from nltk.corpus import stopwords\n",
    "stops = set(stopwords.words('english'))\n",
    "def preprocess_text(text):\n",
    "    parse_text = BeautifulSoup(text).get_text()\n",
    "    tokens = CountVectorizer(stop_words='english').build_tokenizer()(parse_text.lower())\n",
    "    result = []\n",
    "    \n",
    "    \n",
    "    for w in tokens:\n",
    "        if w in stops:\n",
    "            continue\n",
    "        lem_word = wordnet_lemmatizer.lemmatize(w)\n",
    "        stem_word = snowball_stemmer.stem(lem_word)\n",
    "        result.append(stem_word)\n",
    "    \n",
    "    \n",
    "    \n",
    "    return result"
   ]
  },
  {
   "cell_type": "code",
   "execution_count": null,
   "metadata": {
    "collapsed": false
   },
   "outputs": [],
   "source": [
    "#restaurant_review[\"clean_text\"] = map(preprocess_text,restaurant_review[\"text\"])"
   ]
  },
  {
   "cell_type": "code",
   "execution_count": 1,
   "metadata": {
    "collapsed": false,
    "scrolled": true
   },
   "outputs": [],
   "source": [
    "pitt_review[\"clean_text\"] = map(preprocess_text,pitt_review[\"text\"])"
   ]
  },
  {
   "cell_type": "code",
   "execution_count": 74,
   "metadata": {
    "collapsed": false
   },
   "outputs": [
    {
     "data": {
      "text/plain": [
       "(100765, 27)"
      ]
     },
     "execution_count": 74,
     "metadata": {},
     "output_type": "execute_result"
    }
   ],
   "source": [
    "pitt_review.shape"
   ]
  },
  {
   "cell_type": "code",
   "execution_count": 71,
   "metadata": {
    "collapsed": true
   },
   "outputs": [],
   "source": [
    "dump(pitt_review,\"../Picled_files/pitt_review.pkl\")"
   ]
  },
  {
   "cell_type": "code",
   "execution_count": null,
   "metadata": {
    "collapsed": true
   },
   "outputs": [],
   "source": [
    "pitt_review = load(\"../Pickled_files/pitt_review.pkl\")"
   ]
  },
  {
   "cell_type": "markdown",
   "metadata": {},
   "source": [
    "### Loading data into gensim for LDA"
   ]
  },
  {
   "cell_type": "code",
   "execution_count": 2,
   "metadata": {
    "collapsed": false
   },
   "outputs": [],
   "source": [
    "data = pitt_review[\"clean_text\"]\n",
    "dictionary = gensim.corpora.Dictionary(data)\n",
    "corpus = [dictionary.doc2bow(text) for text in data]"
   ]
  },
  {
   "cell_type": "code",
   "execution_count": 3,
   "metadata": {
    "collapsed": false
   },
   "outputs": [
    {
     "ename": "NameError",
     "evalue": "name 'corpus' is not defined",
     "output_type": "error",
     "traceback": [
      "\u001b[0;31m---------------------------------------------------------------------------\u001b[0m",
      "\u001b[0;31mNameError\u001b[0m                                 Traceback (most recent call last)",
      "\u001b[0;32m<ipython-input-3-bce2663de981>\u001b[0m in \u001b[0;36m<module>\u001b[0;34m()\u001b[0m\n\u001b[0;32m----> 1\u001b[0;31m \u001b[0mcorpus\u001b[0m\u001b[0;34m\u001b[0m\u001b[0m\n\u001b[0m",
      "\u001b[0;31mNameError\u001b[0m: name 'corpus' is not defined"
     ]
    }
   ],
   "source": [
    "corpus"
   ]
  },
  {
   "cell_type": "code",
   "execution_count": null,
   "metadata": {
    "collapsed": true
   },
   "outputs": [],
   "source": [
    "dump(corpus,\"../Pickled_files/corpus.pkl\")\n",
    "dump(dictionary,\"../Pickled_files/dictionary.pkl\")"
   ]
  }
 ],
 "metadata": {
  "kernelspec": {
   "display_name": "Python 2",
   "language": "python",
   "name": "python2"
  },
  "language_info": {
   "codemirror_mode": {
    "name": "ipython",
    "version": 2
   },
   "file_extension": ".py",
   "mimetype": "text/x-python",
   "name": "python",
   "nbconvert_exporter": "python",
   "pygments_lexer": "ipython2",
   "version": "2.7.12"
  }
 },
 "nbformat": 4,
 "nbformat_minor": 0
}
