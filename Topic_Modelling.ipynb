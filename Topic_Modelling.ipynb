{
 "cells": [
  {
   "cell_type": "code",
   "execution_count": 1,
   "metadata": {
    "collapsed": true
   },
   "outputs": [],
   "source": [
    "import pandas as pd\n",
    "import numpy as np\n",
    "import ast\n",
    "import seaborn\n",
    "from collections import Counter\n",
    "import pickle\n",
    "from sklearn.feature_extraction.text import CountVectorizer\n",
    "from nltk.stem import WordNetLemmatizer\n",
    "wordnet_lemmatizer = WordNetLemmatizer()\n",
    "from nltk.stem import SnowballStemmer\n",
    "snowball_stemmer = SnowballStemmer(\"english\")\n",
    "from bs4 import BeautifulSoup\n",
    "import logging, gensim, bz2"
   ]
  },
  {
   "cell_type": "code",
   "execution_count": 2,
   "metadata": {
    "collapsed": true
   },
   "outputs": [],
   "source": [
    "def load(filename):\n",
    "    file = open(filename,'rb')\n",
    "    obj = pickle.load(file)\n",
    "    file.close()\n",
    "    return obj\n",
    "\n",
    "def dump(obj,filename):\n",
    "    filehandler = open(filename,\"wb\")\n",
    "    pickle.dump(obj,filehandler)\n",
    "    filehandler.close()"
   ]
  },
  {
   "cell_type": "markdown",
   "metadata": {},
   "source": [
    "### Load Pickled Data"
   ]
  },
  {
   "cell_type": "code",
   "execution_count": 3,
   "metadata": {
    "collapsed": true
   },
   "outputs": [],
   "source": [
    "pitt_review = load(\"../Pickled_files/pitt_review.pkl\")"
   ]
  },
  {
   "cell_type": "code",
   "execution_count": 4,
   "metadata": {
    "collapsed": true
   },
   "outputs": [],
   "source": [
    "corpus = load(\"../Pickled_files/corpus.pkl\")\n",
    "dictionary = load(\"../Pickled_files/dictionary.pkl\")"
   ]
  },
  {
   "cell_type": "markdown",
   "metadata": {},
   "source": [
    "### Start LDA`"
   ]
  },
  {
   "cell_type": "code",
   "execution_count": 20,
   "metadata": {
    "collapsed": false
   },
   "outputs": [],
   "source": [
    "#ldamodel = gensim.models.ldamodel.LdaModel(corpus, num_topics=50, id2word = dictionary, passes=20)\n",
    "#print(ldamodel.print_topics(topics=50, topn=10))"
   ]
  },
  {
   "cell_type": "code",
   "execution_count": 7,
   "metadata": {
    "collapsed": true
   },
   "outputs": [],
   "source": [
    "ldamodel.save(\"lda.model\")"
   ]
  },
  {
   "cell_type": "code",
   "execution_count": 9,
   "metadata": {
    "collapsed": false
   },
   "outputs": [],
   "source": [
    "model =  gensim.models.LdaModel.load('lda.model')"
   ]
  },
  {
   "cell_type": "code",
   "execution_count": 18,
   "metadata": {
    "collapsed": false,
    "scrolled": true
   },
   "outputs": [
    {
     "ename": "NameError",
     "evalue": "name 'model' is not defined",
     "output_type": "error",
     "traceback": [
      "\u001b[0;31m---------------------------------------------------------------------------\u001b[0m",
      "\u001b[0;31mNameError\u001b[0m                                 Traceback (most recent call last)",
      "\u001b[0;32m<ipython-input-18-6394b6c5656b>\u001b[0m in \u001b[0;36m<module>\u001b[0;34m()\u001b[0m\n\u001b[0;32m----> 1\u001b[0;31m \u001b[0mmodel\u001b[0m\u001b[0;34m.\u001b[0m\u001b[0mprint_topics\u001b[0m\u001b[0;34m(\u001b[0m\u001b[0;36m50\u001b[0m\u001b[0;34m,\u001b[0m\u001b[0mtopn\u001b[0m\u001b[0;34m=\u001b[0m\u001b[0;36m30\u001b[0m\u001b[0;34m)\u001b[0m\u001b[0;34m\u001b[0m\u001b[0m\n\u001b[0m",
      "\u001b[0;31mNameError\u001b[0m: name 'model' is not defined"
     ]
    }
   ],
   "source": [
    "model.print_topics(50,topn=30)"
   ]
  },
  {
   "cell_type": "markdown",
   "metadata": {},
   "source": [
    "### Word Cloud generator"
   ]
  },
  {
   "cell_type": "code",
   "execution_count": 4,
   "metadata": {
    "collapsed": false
   },
   "outputs": [],
   "source": [
    "from wordcloud import WordCloud\n",
    "import matplotlib.pyplot as plt"
   ]
  },
  {
   "cell_type": "code",
   "execution_count": 22,
   "metadata": {
    "collapsed": true
   },
   "outputs": [
    {
     "name": "stdout",
     "output_type": "stream",
     "text": [
      "['0.231*pork + 0.082*pull + 0.059*belli + 0.043*meatbal + 0.023*rotat + 0.022*honey + 0.018*parm + 0.014*southern + 0.014*board + 0.013*casbah', '0.120*lunch + 0.030*salad + 0.025*sandwich + 0.020*soup + 0.018*quick + 0.017*stop + 0.016*work + 0.015*fresh + 0.015*day + 0.013*chicken', '0.031*food + 0.022*order + 0.021*ask + 0.021*servic + 0.014*never + 0.012*time + 0.012*back + 0.011*manag + 0.011*go + 0.010*said', '0.065*thai + 0.044*tea + 0.039*curri + 0.032*spici + 0.031*noodl + 0.021*pad + 0.020*dish + 0.018*order + 0.018*spice + 0.015*chicken', '0.090*buffet + 0.049*indian + 0.034*food + 0.028*chicken + 0.026*wide + 0.023*select + 0.022*dish + 0.015*naan + 0.015*varieti + 0.015*enchilada', '0.065*hill + 0.041*penn + 0.037*garden + 0.036*squirrel + 0.031*grit + 0.024*ave + 0.022*avenu + 0.019*boy + 0.018*rais + 0.015*carnivor', '0.041*like + 0.020*tast + 0.015*star + 0.015*food + 0.014*place + 0.013*would + 0.013*much + 0.012*better + 0.011*look + 0.011*seem', '0.066*station + 0.037*rock + 0.029*jerk + 0.029*blown + 0.024*away + 0.021*dream + 0.020*gaucho + 0.019*tonight + 0.018*rough + 0.016*indulg', '0.076*good + 0.052*food + 0.031*price + 0.028*place + 0.026*pretti + 0.026*servic + 0.023*realli + 0.020*great + 0.015*nice + 0.014*go', '0.085*sandwich + 0.079*fri + 0.025*chees + 0.023*bread + 0.015*meat + 0.015*order + 0.013*good + 0.012*steak + 0.012*potato + 0.011*beef', '0.062*dessert + 0.057*cream + 0.056*cake + 0.052*chocol + 0.051*ice + 0.023*crab + 0.017*butter + 0.017*cooki + 0.015*cheesecak + 0.013*bread', '0.244*beer + 0.118*select + 0.029*great + 0.029*bar + 0.028*draft + 0.026*tap + 0.022*list + 0.022*brew + 0.019*craft + 0.017*bottl', '0.100*strip + 0.073*store + 0.052*pretzel + 0.051*shop + 0.042*district + 0.036*milkshak + 0.033*patti + 0.023*buy + 0.021*sell + 0.020*groceri', '0.064*breakfast + 0.052*brunch + 0.049*egg + 0.037*coffe + 0.033*pancak + 0.025*toast + 0.022*diner + 0.020*sunday + 0.019*potato + 0.018*bacon', '0.068*salad + 0.023*pasta + 0.022*sauc + 0.019*chees + 0.018*bread + 0.017*chicken + 0.017*tomato + 0.016*dress + 0.015*order + 0.014*soup', '0.013*com + 0.012*legum + 0.011*breweri + 0.011*http + 0.010*kay + 0.009*watch + 0.009*www + 0.008*former + 0.007*mapl + 0.007*recal', '0.117*smoke + 0.078*smell + 0.050*fire + 0.035*groupon + 0.027*con + 0.025*pro + 0.023*insan + 0.022*wood + 0.021*rub + 0.019*smoki', '0.055*mom + 0.036*sister + 0.034*00 + 0.029*fee + 0.019*cider + 0.015*charg + 0.015*secur + 0.014*byob + 0.014*corkag + 0.012*id', '0.036*place + 0.034*get + 0.028*go + 0.021*best + 0.020*pittsburgh + 0.019*one + 0.018*make + 0.016*like + 0.014*know + 0.014*eat', '0.039*leaf + 0.024*tom + 0.024*scale + 0.023*bf + 0.021*nicki + 0.019*smoothi + 0.018*spoon + 0.018*smile + 0.017*banana + 0.016*ball', '0.120*kid + 0.107*waffl + 0.084*old + 0.047*chicken + 0.044*daughter + 0.022*school + 0.021*fashion + 0.019*superb + 0.019*adult + 0.018*finger', '0.111*wing + 0.095*chees + 0.073*chicken + 0.065*sauc + 0.045*mac + 0.039*rib + 0.036*bbq + 0.027*order + 0.026*buffalo + 0.022*flavor', '0.111*taco + 0.042*chip + 0.038*mexican + 0.035*salsa + 0.030*burrito + 0.026*margarita + 0.018*bean + 0.017*tortilla + 0.016*chicken + 0.015*guacamol', '0.061*great + 0.058*food + 0.032*servic + 0.028*place + 0.026*friend + 0.021*best + 0.021*delici + 0.021*recommend + 0.019*amaz + 0.019*pittsburgh', '0.076*sub + 0.047*kinda + 0.032*gourmet + 0.027*dont + 0.027*par + 0.021*brother + 0.019*crap + 0.018*oh + 0.018*suck + 0.018*sold', '0.043*cocktail + 0.042*vibe + 0.040*ambienc + 0.033*bourbon + 0.030*countri + 0.017*farm + 0.016*killer + 0.015*cool + 0.014*funki + 0.014*sourc', '0.032*mt + 0.029*hamburg + 0.026*washington + 0.024*neat + 0.020*view + 0.019*wild + 0.018*carn + 0.018*pit + 0.018*neighbor + 0.015*bay', '0.055*hotel + 0.046*pierogi + 0.024*cater + 0.023*church + 0.022*stay + 0.017*truck + 0.016*hospit + 0.016*steel + 0.016*polish + 0.012*nasti', '0.276*burger + 0.069*fri + 0.027*bacon + 0.023*bun + 0.022*onion + 0.022*top + 0.020*medium + 0.020*order + 0.018*well + 0.018*cook', '0.022*restaur + 0.022*menu + 0.014*tabl + 0.013*meal + 0.013*dine + 0.012*u + 0.012*one + 0.011*dinner + 0.010*order + 0.010*experi', '0.028*tri + 0.026*time + 0.021*place + 0.021*realli + 0.020*good + 0.020*go + 0.020*like + 0.020*back + 0.017*first + 0.017*got', '0.222*hot + 0.107*dog + 0.049*chili + 0.042*shake + 0.024*pig + 0.021*chicago + 0.020*omg + 0.014*pot + 0.012*texa + 0.012*pittsburg', '0.019*flight + 0.017*benedict + 0.016*drive + 0.016*man + 0.015*fli + 0.014*counter + 0.014*biscuit + 0.013*behind + 0.012*woman + 0.011*robinson', '0.227*pizza + 0.031*crust + 0.031*chees + 0.028*order + 0.022*slice + 0.020*pie + 0.020*top + 0.019*sauc + 0.018*good + 0.018*hoagi', '0.041*wait + 0.030*minut + 0.029*u + 0.028*tabl + 0.027*order + 0.017*seat + 0.016*time + 0.015*get + 0.014*came + 0.012*got', '0.046*nice + 0.027*place + 0.025*seat + 0.023*great + 0.023*good + 0.022*outsid + 0.018*insid + 0.018*littl + 0.017*realli + 0.016*tabl', '0.045*flavor + 0.027*perfect + 0.022*sweet + 0.016*tast + 0.014*sauc + 0.013*well + 0.012*bit + 0.012*delici + 0.011*fresh + 0.010*littl', '0.159*sushi + 0.126*roll + 0.097*fish + 0.039*tuna + 0.033*fresh + 0.026*salmon + 0.019*japanes + 0.017*sashimi + 0.014*hibachi + 0.014*piec', '0.041*cure + 0.040*pgh + 0.024*pa + 0.022*cuban + 0.018*fianc\\xc3\\xa9 + 0.017*spanish + 0.016*attend + 0.016*skeptic + 0.016*complex + 0.015*im', '0.049*love + 0.048*alway + 0.028*place + 0.026*get + 0.025*favorit + 0.025*great + 0.022*delici + 0.021*go + 0.021*menu + 0.021*also', '0.028*steak + 0.027*wine + 0.017*dinner + 0.017*appet + 0.016*dish + 0.015*cook + 0.015*order + 0.014*shrimp + 0.013*entre + 0.013*duck', '0.145*park + 0.075*street + 0.045*squar + 0.044*across + 0.044*market + 0.027*locat + 0.020*lot + 0.019*pastrami + 0.014*caesar + 0.013*joe', '0.068*free + 0.053*call + 0.039*order + 0.031*card + 0.021*phone + 0.019*gluten + 0.019*deliveri + 0.017*cash + 0.017*credit + 0.014*take', '0.061*gyro + 0.056*lamb + 0.052*hummus + 0.052*pita + 0.030*platter + 0.027*greek + 0.024*middl + 0.021*baklava + 0.021*eastern + 0.020*mediterranean', '0.055*new + 0.035*sangria + 0.028*octopus + 0.025*south + 0.025*york + 0.024*river + 0.022*san + 0.020*pitcher + 0.019*bloomfield + 0.018*empanada', '0.058*airport + 0.047*son + 0.046*turkish + 0.041*famili + 0.037*danc + 0.034*own + 0.031*kebab + 0.026*fianc + 0.022*island + 0.019*mi', '0.084*bar + 0.052*drink + 0.032*night + 0.020*bartend + 0.017*game + 0.014*music + 0.012*friend + 0.012*hour + 0.011*cocktail + 0.011*place', '0.041*time + 0.035*locat + 0.023*restaur + 0.023*year + 0.022*food + 0.021*alway + 0.019*visit + 0.017*one + 0.015*pittsburgh + 0.012*last', '0.040*chicken + 0.030*rice + 0.030*dish + 0.029*chines + 0.023*order + 0.022*fri + 0.022*food + 0.020*sauc + 0.018*soup + 0.015*tofu', '0.029*mother + 0.021*sun + 0.020*christma + 0.019*wear + 0.017*samosa + 0.017*bob + 0.017*drunken + 0.016*nicer + 0.016*dress + 0.016*shirt']\n"
     ]
    }
   ],
   "source": [
    "ldamodel =  gensim.models.LdaModel.load('lda.model')\n",
    "print(ldamodel.show_topics(topics=50, topn=10))"
   ]
  },
  {
   "cell_type": "code",
   "execution_count": 16,
   "metadata": {
    "collapsed": false
   },
   "outputs": [],
   "source": [
    "plt.figure()\n",
    "temp = ldamodel.show_topic(3, 50)\n",
    "temp = map(lambda x: x[::-1],temp)\n",
    "plt.imshow(WordCloud().fit_words(temp))\n",
    "plt.axis(\"off\")\n",
    "plt.title(\"Topic #\" + str(3))\n",
    "plt.show()"
   ]
  },
  {
   "cell_type": "code",
   "execution_count": null,
   "metadata": {
    "collapsed": true
   },
   "outputs": [],
   "source": []
  }
 ],
 "metadata": {
  "kernelspec": {
   "display_name": "Python 2",
   "language": "python",
   "name": "python2"
  },
  "language_info": {
   "codemirror_mode": {
    "name": "ipython",
    "version": 2
   },
   "file_extension": ".py",
   "mimetype": "text/x-python",
   "name": "python",
   "nbconvert_exporter": "python",
   "pygments_lexer": "ipython2",
   "version": "2.7.12"
  }
 },
 "nbformat": 4,
 "nbformat_minor": 0
}
